{
  "nbformat": 4,
  "nbformat_minor": 0,
  "metadata": {
    "colab": {
      "name": "NLP_Unsupervised Learning Project.ipynb",
      "provenance": [],
      "collapsed_sections": [],
      "toc_visible": true
    },
    "kernelspec": {
      "name": "python3",
      "display_name": "Python 3"
    }
  },
  "cells": [
    {
      "cell_type": "markdown",
      "metadata": {
        "id": "Xp3LTq59E8UK"
      },
      "source": [
        "# Document Clustering and Topic Modeling"
      ]
    },
    {
      "cell_type": "markdown",
      "metadata": {
        "id": "mS-ob0Q8E8UM"
      },
      "source": [
        "*In* this project, we use unsupervised learning models to cluster unlabeled documents into different groups, visualize the results and identify their latent topics/structures."
      ]
    },
    {
      "cell_type": "markdown",
      "metadata": {
        "id": "ZE7Qr-ccE8UN"
      },
      "source": [
        "## Contents"
      ]
    },
    {
      "cell_type": "markdown",
      "metadata": {
        "id": "2S0waFW9E8UO"
      },
      "source": [
        "* [Part 1: Load Data](#Part-1:-Load-Data)\n",
        "* [Part 2: Tokenizing and Stemming](#Part-2:-Tokenizing-and-Stemming)\n",
        "* [Part 3: TF-IDF](#Part-3:-TF-IDF)\n",
        "* [Part 4: K-means clustering](#Part-4:-K-means-clustering)\n",
        "* [Part 5: Topic Modeling - Latent Dirichlet Allocation](#Part-5:-Topic-Modeling---Latent-Dirichlet-Allocation)\n"
      ]
    },
    {
      "cell_type": "markdown",
      "metadata": {
        "id": "5nXGAelMjJFq"
      },
      "source": [
        "# Part 0: Setup Google Drive Environment"
      ]
    },
    {
      "cell_type": "code",
      "metadata": {
        "id": "6eT1n7oijJ8v"
      },
      "source": [
        "!pip install -U -q PyDrive\n",
        "\n",
        "from pydrive.auth import GoogleAuth\n",
        "from pydrive.drive import GoogleDrive\n",
        "from google.colab import auth\n",
        "from oauth2client.client import GoogleCredentials\n",
        "\n",
        "auth.authenticate_user()\n",
        "gauth = GoogleAuth()\n",
        "gauth.credentials = GoogleCredentials.get_application_default()\n",
        "drive = GoogleDrive(gauth)"
      ],
      "execution_count": null,
      "outputs": []
    },
    {
      "cell_type": "code",
      "metadata": {
        "id": "0N2bb9S6jKGh"
      },
      "source": [
        "# https://drive.google.com/open?id=192JMR7SIqoa14vrs7Z9BXO3iK89pimJL\n",
        "file = drive.CreateFile({'id':'192JMR7SIqoa14vrs7Z9BXO3iK89pimJL'}) # replace the id with id of file you want to access\n",
        "file.GetContentFile('data.tsv')  "
      ],
      "execution_count": null,
      "outputs": []
    },
    {
      "cell_type": "markdown",
      "metadata": {
        "id": "Nc9DK62BE8UP"
      },
      "source": [
        "# Part 1: Load Data"
      ]
    },
    {
      "cell_type": "code",
      "metadata": {
        "id": "OjdBV8gGE8UQ",
        "colab": {
          "base_uri": "https://localhost:8080/",
          "height": 102
        },
        "outputId": "5006dc59-ea9f-4dbc-99c4-e37d84a706d4"
      },
      "source": [
        "import numpy as np\n",
        "import pandas as pd\n",
        "import nltk\n",
        "import gensim #topic modeling\n",
        "# REGULAR EXPRESSION\n",
        "import re\n",
        "\n",
        "\n",
        "from sklearn import decomposition\n",
        "from sklearn.feature_extraction.text import TfidfVectorizer\n",
        "import matplotlib.pyplot as plt\n",
        "\n",
        "nltk.download('punkt') #下载stopwords\n",
        "nltk.download('stopwords')"
      ],
      "execution_count": null,
      "outputs": [
        {
          "output_type": "stream",
          "text": [
            "[nltk_data] Downloading package punkt to /root/nltk_data...\n",
            "[nltk_data]   Unzipping tokenizers/punkt.zip.\n",
            "[nltk_data] Downloading package stopwords to /root/nltk_data...\n",
            "[nltk_data]   Unzipping corpora/stopwords.zip.\n"
          ],
          "name": "stdout"
        },
        {
          "output_type": "execute_result",
          "data": {
            "text/plain": [
              "True"
            ]
          },
          "metadata": {
            "tags": []
          },
          "execution_count": 3
        }
      ]
    },
    {
      "cell_type": "code",
      "metadata": {
        "id": "sIj2Z8T70FZD",
        "colab": {
          "base_uri": "https://localhost:8080/",
          "height": 190
        },
        "outputId": "31d0231f-29fc-470c-8dc2-5fe4c55dab6f"
      },
      "source": [
        "# Load data into dataframe\n",
        "df = pd.read_csv('data.tsv', sep='\\t', header=0, error_bad_lines=False)"
      ],
      "execution_count": null,
      "outputs": [
        {
          "output_type": "stream",
          "text": [
            "b'Skipping line 8704: expected 15 fields, saw 22\\nSkipping line 16933: expected 15 fields, saw 22\\nSkipping line 23726: expected 15 fields, saw 22\\n'\n",
            "b'Skipping line 85637: expected 15 fields, saw 22\\n'\n",
            "b'Skipping line 132136: expected 15 fields, saw 22\\nSkipping line 158070: expected 15 fields, saw 22\\nSkipping line 166007: expected 15 fields, saw 22\\nSkipping line 171877: expected 15 fields, saw 22\\nSkipping line 177756: expected 15 fields, saw 22\\nSkipping line 181773: expected 15 fields, saw 22\\nSkipping line 191085: expected 15 fields, saw 22\\nSkipping line 196273: expected 15 fields, saw 22\\nSkipping line 196331: expected 15 fields, saw 22\\n'\n",
            "b'Skipping line 197000: expected 15 fields, saw 22\\nSkipping line 197011: expected 15 fields, saw 22\\nSkipping line 197432: expected 15 fields, saw 22\\nSkipping line 208016: expected 15 fields, saw 22\\nSkipping line 214110: expected 15 fields, saw 22\\nSkipping line 244328: expected 15 fields, saw 22\\nSkipping line 248519: expected 15 fields, saw 22\\nSkipping line 254936: expected 15 fields, saw 22\\n'\n",
            "b'Skipping line 272057: expected 15 fields, saw 22\\nSkipping line 293214: expected 15 fields, saw 22\\nSkipping line 310507: expected 15 fields, saw 22\\nSkipping line 312306: expected 15 fields, saw 22\\nSkipping line 316296: expected 15 fields, saw 22\\n'\n",
            "b'Skipping line 336028: expected 15 fields, saw 22\\nSkipping line 344885: expected 15 fields, saw 22\\nSkipping line 352551: expected 15 fields, saw 22\\n'\n",
            "b'Skipping line 408773: expected 15 fields, saw 22\\nSkipping line 434535: expected 15 fields, saw 22\\n'\n",
            "b'Skipping line 581593: expected 15 fields, saw 22\\n'\n",
            "b'Skipping line 652409: expected 15 fields, saw 22\\n'\n"
          ],
          "name": "stderr"
        }
      ]
    },
    {
      "cell_type": "code",
      "metadata": {
        "id": "oVIWPym-8MnJ",
        "colab": {
          "base_uri": "https://localhost:8080/",
          "height": 530
        },
        "outputId": "bc2887fb-e8f2-4a1d-a08e-dda38898b3fa"
      },
      "source": [
        "df.head() # sentiment analysis -> rating"
      ],
      "execution_count": null,
      "outputs": [
        {
          "output_type": "execute_result",
          "data": {
            "text/html": [
              "<div>\n",
              "<style scoped>\n",
              "    .dataframe tbody tr th:only-of-type {\n",
              "        vertical-align: middle;\n",
              "    }\n",
              "\n",
              "    .dataframe tbody tr th {\n",
              "        vertical-align: top;\n",
              "    }\n",
              "\n",
              "    .dataframe thead th {\n",
              "        text-align: right;\n",
              "    }\n",
              "</style>\n",
              "<table border=\"1\" class=\"dataframe\">\n",
              "  <thead>\n",
              "    <tr style=\"text-align: right;\">\n",
              "      <th></th>\n",
              "      <th>marketplace</th>\n",
              "      <th>customer_id</th>\n",
              "      <th>review_id</th>\n",
              "      <th>product_id</th>\n",
              "      <th>product_parent</th>\n",
              "      <th>product_title</th>\n",
              "      <th>product_category</th>\n",
              "      <th>star_rating</th>\n",
              "      <th>helpful_votes</th>\n",
              "      <th>total_votes</th>\n",
              "      <th>vine</th>\n",
              "      <th>verified_purchase</th>\n",
              "      <th>review_headline</th>\n",
              "      <th>review_body</th>\n",
              "      <th>review_date</th>\n",
              "    </tr>\n",
              "  </thead>\n",
              "  <tbody>\n",
              "    <tr>\n",
              "      <th>0</th>\n",
              "      <td>US</td>\n",
              "      <td>3653882</td>\n",
              "      <td>R3O9SGZBVQBV76</td>\n",
              "      <td>B00FALQ1ZC</td>\n",
              "      <td>937001370</td>\n",
              "      <td>Invicta Women's 15150 \"Angel\" 18k Yellow Gold ...</td>\n",
              "      <td>Watches</td>\n",
              "      <td>5</td>\n",
              "      <td>0</td>\n",
              "      <td>0</td>\n",
              "      <td>N</td>\n",
              "      <td>Y</td>\n",
              "      <td>Five Stars</td>\n",
              "      <td>Absolutely love this watch! Get compliments al...</td>\n",
              "      <td>2015-08-31</td>\n",
              "    </tr>\n",
              "    <tr>\n",
              "      <th>1</th>\n",
              "      <td>US</td>\n",
              "      <td>14661224</td>\n",
              "      <td>RKH8BNC3L5DLF</td>\n",
              "      <td>B00D3RGO20</td>\n",
              "      <td>484010722</td>\n",
              "      <td>Kenneth Cole New York Women's KC4944 Automatic...</td>\n",
              "      <td>Watches</td>\n",
              "      <td>5</td>\n",
              "      <td>0</td>\n",
              "      <td>0</td>\n",
              "      <td>N</td>\n",
              "      <td>Y</td>\n",
              "      <td>I love thiswatch it keeps time wonderfully</td>\n",
              "      <td>I love this watch it keeps time wonderfully.</td>\n",
              "      <td>2015-08-31</td>\n",
              "    </tr>\n",
              "    <tr>\n",
              "      <th>2</th>\n",
              "      <td>US</td>\n",
              "      <td>27324930</td>\n",
              "      <td>R2HLE8WKZSU3NL</td>\n",
              "      <td>B00DKYC7TK</td>\n",
              "      <td>361166390</td>\n",
              "      <td>Ritche 22mm Black Stainless Steel Bracelet Wat...</td>\n",
              "      <td>Watches</td>\n",
              "      <td>2</td>\n",
              "      <td>1</td>\n",
              "      <td>1</td>\n",
              "      <td>N</td>\n",
              "      <td>Y</td>\n",
              "      <td>Two Stars</td>\n",
              "      <td>Scratches</td>\n",
              "      <td>2015-08-31</td>\n",
              "    </tr>\n",
              "    <tr>\n",
              "      <th>3</th>\n",
              "      <td>US</td>\n",
              "      <td>7211452</td>\n",
              "      <td>R31U3UH5AZ42LL</td>\n",
              "      <td>B000EQS1JW</td>\n",
              "      <td>958035625</td>\n",
              "      <td>Citizen Men's BM8180-03E Eco-Drive Stainless S...</td>\n",
              "      <td>Watches</td>\n",
              "      <td>5</td>\n",
              "      <td>0</td>\n",
              "      <td>0</td>\n",
              "      <td>N</td>\n",
              "      <td>Y</td>\n",
              "      <td>Five Stars</td>\n",
              "      <td>It works well on me. However, I found cheaper ...</td>\n",
              "      <td>2015-08-31</td>\n",
              "    </tr>\n",
              "    <tr>\n",
              "      <th>4</th>\n",
              "      <td>US</td>\n",
              "      <td>12733322</td>\n",
              "      <td>R2SV659OUJ945Y</td>\n",
              "      <td>B00A6GFD7S</td>\n",
              "      <td>765328221</td>\n",
              "      <td>Orient ER27009B Men's Symphony Automatic Stain...</td>\n",
              "      <td>Watches</td>\n",
              "      <td>4</td>\n",
              "      <td>0</td>\n",
              "      <td>0</td>\n",
              "      <td>N</td>\n",
              "      <td>Y</td>\n",
              "      <td>Beautiful face, but cheap sounding links</td>\n",
              "      <td>Beautiful watch face.  The band looks nice all...</td>\n",
              "      <td>2015-08-31</td>\n",
              "    </tr>\n",
              "  </tbody>\n",
              "</table>\n",
              "</div>"
            ],
            "text/plain": [
              "  marketplace  ...  review_date\n",
              "0          US  ...   2015-08-31\n",
              "1          US  ...   2015-08-31\n",
              "2          US  ...   2015-08-31\n",
              "3          US  ...   2015-08-31\n",
              "4          US  ...   2015-08-31\n",
              "\n",
              "[5 rows x 15 columns]"
            ]
          },
          "metadata": {
            "tags": []
          },
          "execution_count": 5
        }
      ]
    },
    {
      "cell_type": "code",
      "metadata": {
        "id": "aoRSRJzZA7eT"
      },
      "source": [
        "# Remove missing value\n",
        "df.review_body.dropna(inplace=True)"
      ],
      "execution_count": null,
      "outputs": []
    },
    {
      "cell_type": "code",
      "metadata": {
        "id": "VbKDogiW79a6"
      },
      "source": [
        "# use the first 1000 data as our  data , as demo\n",
        "data = df.loc[:1000, 'review_body'].tolist()"
      ],
      "execution_count": null,
      "outputs": []
    },
    {
      "cell_type": "markdown",
      "metadata": {
        "id": "iQ4KGnVeE8UX"
      },
      "source": [
        "# Part 2: Tokenizing and Stemming"
      ]
    },
    {
      "cell_type": "markdown",
      "metadata": {
        "collapsed": true,
        "id": "GHHIaFATE8UY"
      },
      "source": [
        "Load stopwords and stemmer function from NLTK library.\n",
        "Stop words are words like \"a\", \"the\", or \"in\" which don't convey significant meaning.\n",
        "Stemming is the process of breaking a word down into its root."
      ]
    },
    {
      "cell_type": "code",
      "metadata": {
        "id": "3gSwiUBRE8UY",
        "colab": {
          "base_uri": "https://localhost:8080/",
          "height": 51
        },
        "outputId": "e1452010-5efe-4d85-8a05-8f6a1a1da856"
      },
      "source": [
        "# Use nltk's English stopwords.\n",
        "stopwords = nltk.corpus.stopwords.words('english')\n",
        "\n",
        "print (\"We use \" + str(len(stopwords)) + \" stop-words from nltk library.\")\n",
        "print (stopwords[:10])"
      ],
      "execution_count": null,
      "outputs": [
        {
          "output_type": "stream",
          "text": [
            "We use 179 stop-words from nltk library.\n",
            "['i', 'me', 'my', 'myself', 'we', 'our', 'ours', 'ourselves', 'you', \"you're\"]\n"
          ],
          "name": "stdout"
        }
      ]
    },
    {
      "cell_type": "code",
      "metadata": {
        "id": "e50130X8E8Uc"
      },
      "source": [
        "from nltk.stem.snowball import SnowballStemmer\n",
        "stemmer = SnowballStemmer(\"english\")\n",
        "\n",
        "# tokenization and stemming\n",
        "def tokenization_and_stemming(text):\n",
        "    # exclude stop words and tokenize the document, generate a list of string \n",
        "    tokens = [word.lower() for word in nltk.word_tokenize(text) if word not in stopwords]\n",
        "\n",
        "    filtered_tokens = []\n",
        "    \n",
        "    # filter out any tokens not containing letters (e.g., numeric tokens, raw punctuation)\n",
        "    for token in tokens:\n",
        "        if re.search('[a-zA-Z]', token):\n",
        "            filtered_tokens.append(token)\n",
        "            \n",
        "    # stemming\n",
        "    stems = [stemmer.stem(t) for t in filtered_tokens]\n",
        "    return stems\n",
        "\n",
        "# tokenization without stemming\n",
        "def tokenization(text):\n",
        "    tokens = [word.lower() for sent in nltk.sent_tokenize(text) for word in nltk.word_tokenize(sent) if word not in stopwords]\n",
        "    filtered_tokens = []\n",
        "    for token in tokens:\n",
        "        if re.search('[a-zA-Z]', token):\n",
        "            filtered_tokens.append(token)\n",
        "    return filtered_tokens"
      ],
      "execution_count": null,
      "outputs": []
    },
    {
      "cell_type": "code",
      "metadata": {
        "id": "BwbA6hETE8Uf",
        "colab": {
          "base_uri": "https://localhost:8080/",
          "height": 204
        },
        "outputId": "815be247-d602-4a2a-9731-5a630949293a"
      },
      "source": [
        "# tokenization and stemming\n",
        "tokenization_and_stemming(data[0])"
      ],
      "execution_count": null,
      "outputs": [
        {
          "output_type": "execute_result",
          "data": {
            "text/plain": [
              "['absolut',\n",
              " 'love',\n",
              " 'watch',\n",
              " 'get',\n",
              " 'compliment',\n",
              " 'almost',\n",
              " 'everi',\n",
              " 'time',\n",
              " 'i',\n",
              " 'wear',\n",
              " 'dainti']"
            ]
          },
          "metadata": {
            "tags": []
          },
          "execution_count": 10
        }
      ]
    },
    {
      "cell_type": "markdown",
      "metadata": {
        "id": "WtDXMCeME8Uh"
      },
      "source": [
        "Use our defined functions to analyze (i.e. tokenize, stem) our reviews."
      ]
    },
    {
      "cell_type": "code",
      "metadata": {
        "id": "CNtXZ3RlE8Ui"
      },
      "source": [
        "# 1. do tokenization and stemming for all the documents\n",
        "# 2. also just do tokenization for all the documents\n",
        "# the goal is to create a mapping from stemmed words to original tokenized words for result interpretation.\n",
        "docs_stemmed = []\n",
        "docs_tokenized = []\n",
        "for i in data:\n",
        "    tokenized_and_stemmed_results = tokenization_and_stemming(i)\n",
        "    docs_stemmed.extend(tokenized_and_stemmed_results)\n",
        "    \n",
        "    tokenized_results = tokenization(i)\n",
        "    docs_tokenized.extend(tokenized_results)"
      ],
      "execution_count": null,
      "outputs": []
    },
    {
      "cell_type": "code",
      "metadata": {
        "id": "tq4ghw8XxXZn",
        "colab": {
          "base_uri": "https://localhost:8080/",
          "height": 54
        },
        "outputId": "bd3e6dd4-f96b-425b-e6dd-6fe804946707"
      },
      "source": [
        "# create a mapping from stemmed words to original words\n",
        "vocab_frame_dict = {docs_stemmed[x]:docs_tokenized[x] for x in range(len(docs_stemmed))}\n",
        "print(vocab_frame_dict)"
      ],
      "execution_count": null,
      "outputs": [
        {
          "output_type": "stream",
          "text": [
            "{'absolut': 'absolutely', 'love': 'loved', 'watch': 'watch', 'get': 'get', 'compliment': 'compliments', 'almost': 'almost', 'everi': 'every', 'time': 'time', 'i': 'i', 'wear': 'wear', 'dainti': 'dainty', 'keep': 'keep', 'wonder': 'wonderful', 'scratch': 'scratches', 'it': 'it', 'work': 'work', 'well': 'well', 'howev': 'however', 'found': 'found', 'cheaper': 'cheaper', 'price': 'price', 'place': 'place', 'make': 'make', 'purchas': 'purchased', 'beauti': 'beautiful', 'face': 'face', 'the': 'the', 'band': 'band', 'look': 'looks', 'nice': 'nice', 'around': 'around', 'link': 'links', 'squeaki': 'squeaky', 'cheapo': 'cheapo', 'nois': 'noise', 'swing': 'swing', 'back': 'back', 'forth': 'forth', 'wrist': 'wrist', 'embarrass': 'embarrassing', 'front': 'front', 'enthusiast': 'enthusiasts', 'nake': 'naked', 'eye': 'eyes', 'afar': 'afar', 'ca': 'ca', \"n't\": \"n't\", 'tell': 'tell', 'cheap': 'cheap', 'fold': 'folds', 'polish': 'polishing', 'brush': 'brushed', 'pretti': 'pretty', 'tight': 'tight', 'part.': 'part.', 'br': 'br', 'new': 'new', 'member': 'member', 'collect': 'collection', 'great': 'great', 've': \"'ve\", 'week': 'week', 'far': 'far', 'kept': 'kept', 'good': 'good', 'despit': 'despite', 'day': 'days', 'typic': 'typically', 'mechan': 'mechanism', 'purpos': 'purpose', 'peopl': 'people', 'complain': 'complains', 'done': 'done', 'research': 'research', 'better': 'better', 'buy': 'buy', 'dumb': 'dumb', 'wife': 'wife', 'think': 'think', 'swiss': 'swiss', 'armi': 'army', 'infantri': 'infantry', 'descript': 'description', 'use': 'used', 'word': 'words', 'realiz': 'realize', 'must': 'must', 'fraud': 'fraud', 'this': 'this', 'offer': 'offered', 'amazon': 'amazon', 'design': 'design', 'confus': 'confused', 'consum': 'consumers', 'perfect': 'perfect', 'rug': 'rugged', 'metal': 'metal', 'bull': 'bull', 'bar': 'bars', 'red': 'red', 'accent': 'accents', 'touch': 'touch', 'if': 'if', 'worri': 'worry', 'abl': 'able', 'read': 'read', 'sunlight': 'sunlight', 'dark': 'dark', 'led': 'led', 'ilumin': 'ilumination', 'might': 'might', 'even': 'even', 'differ': 'different', 'color': 'colors', 'next': 'next', 'g-shock': 'g-shock', 'qualiti': 'quality', 'build.': 'build.', 'motor': 'motors', 'realli': 'really', 'silent.': 'silent.', 'after': 'after', 'fiddl': 'fiddling', 'set': 'set', 'alway': 'always', 'charg': 'charged', 'readi': 'ready', 'much': 'much', 'describ': 'described', 'like': 'like', 'simplic': 'simplicity', 'amaz': 'amazing', 'slight': 'slightly', 'big': 'big', 'yet': 'yet', 'adjust': 'adjust', \"'m\": \"'m\", 'glad': 'glad', \"'s\": \"'s\", 'rather': 'rather', 'small': 'small', 'weight': 'weight', 'hope': 'hoped', 'veri': 'very', 'satisfi': 'satisfied', 'fenc': 'fence', 'one': 'one', 'previous': 'previous', 'fossil': 'fossil', 'gem': 'gem', 'fall': 'falls', 'ring': 'ring', 'number': 'numbers', 'excus': 'excuse', 'bad': 'badly', 'light': 'light', 'pic': 'pic', 'bought': 'bought', 'screen': 'screen', 'problem': 'problems', 'month': 'months', 'later': 'later', 'sent': 'sent', 'casio': 'casio', 'servic': 'serviced', 'center': 'center', 'la': 'la', 'replac': 'replaced', 'last': 'last', 'less': 'less', 'year': 'year', 'receiv': 'received', 'batteri': 'battery', 'went': 'went', 'shop': 'shopping', 'then': 'then', 'a': 'a', 'button': 'button', 'could': 'could', 'chang': 'changing', 'product': 'product', 'do': 'do', 'there': 'there', 'els': 'else', 'say': 'say', 'heavier': 'heavier', 'though': 'though', 'had': 'had', 'sever': 'several', 'reliabl': 'reliable', 'function': 'functions', 'easi': 'easy', 'heavi': 'heavy', 'also': 'also', 'lot': 'lots', 'comment': 'comment', 'rest': 'rests', 'invicta': 'invicta', 'gave': 'gave', 'classi': 'classy', 'defin': 'defined', 'craftsmanship': 'craftsmanship', 'all': 'all', 'start': 'starting', 'stitch': 'stitching', 'attract': 'attractive', 'except': 'except', 'date': 'date', 'littl': 'little', 'diamond': 'diamond', 'tini': 'tiny', 'happi': 'happy', 'said': 'said', 'wife..': 'wife..', 'deliveri': 'delivery', 'seller': 'seller', 'onli': 'only', 'negat': 'negatives', 'thing': 'thing', 'due': 'due', 'blue/black': 'blue/black', 'difficult': 'difficult', 'averag': 'average', 'low': 'low', 'contrast': 'contrasting', 'white': 'white', 'numer': 'numerals', 'accur': 'accurately', 'overal': 'overall', 'pleas': 'pleased', 'distinct': 'distinct', 'durabl': 'durable', 'water': 'water', 'proof': 'proof', 'leav': 'leave', 'go': 'go', 'kayak': 'kayaking', 'boat': 'boat', 'fish': 'fishing', 'slim': 'slim', 'quarter': 'quarter', 'rase': 'rase', 'right': 'right', 'height': 'height', 'just': 'just', 'need': 'need', 'timex': 'timex', 'fit': 'fits', 'prime': 'prime', 'save': 'savings', 'tax': 'taxes', 'store': 'store', 'between': 'between', 'cool': 'cool', 'stop': 'stop', 'movado': 'movado', 'excel': 'excellent', 'brand': 'brands', 'larg': 'large', 'when': 'when', 'order': 'ordered', 'check': 'check', 'size': 'sized', 'case': 'case', 'quick': 'quickly', 'sale': 'sale', 'normal': 'normally', 'daili': 'daily', 'decent': 'decent', 'retro': 'retro', 'modern': 'modern', 'movement': 'movement', 'simpl': 'simple', 'thought': 'thought', 'somewher': 'somewhere', 'swim': 'swimming', 'bear': 'bear', '50m': '50m', 'resist': 'resistant', 'condit': 'conditions', 'arriv': 'arriving', 'piec': 'piece', 'altern': 'alternative', 'choic': 'choice', 'rolex': 'rolex', 'submarin': 'submariner', 'featur': 'features', 'darn': 'darn', 'close.': 'close.', 'take': 'taking', 'care': 'cares', 'gold': 'gold', 'plate': 'plate', 'not': 'not', 'sport': 'sports', 'watch.': 'watch.', '-rotat': '-rotating', 'timer': 'timer', 'dial': 'dial', '-all': '-all', 'stainless': 'stainless', 'steel': 'steel', 'kinda': 'kinda', '-glow': '-glow', '-water': '-water', 'meter': 'meters', 'feet': 'feet', '-automat': '-automatic', 'wind': 'winding', '-show': '-shows', '-veri': '-very', 'mine': 'mine', 'thumbtack': 'thumbtack', 'hammer': 'hammer', 'tap': 'tap', 'pin': 'pin', 'remov': 'remove', 'three': 'three', 'know': 'know', 'jewelri': 'jewelry', 'feel': 'feels', 'entireti': 'entirety', 'stori': 'story', 'would': 'would', 'star': 'star', 'review.': 'review.', 'unfortun': 'unfortunately', 'import': 'important', 'part': 'parts', 'issu': 'issues', 'automat': 'automatic', 'stay': 'stay', 'wound': 'wound', 're-wind': 're-wind', 'end': 'end', 'most': 'mostly', 'morn': 'morning', 'other': 'other', 'self': 'self', 'fact': 'fact', 'full': 'full', 'in': 'in', 'addit': 'addition', 'spring': 'spring', 'fulli': 'fully', 'click': 'clicks', 'skip': 'skips', 'gear.': 'gear.', 'lazi': 'lazy', 'return': 'returned', 'miss': 'missing', 'window': 'window', 'so': 'so', 'stuck': 'stuck', 'guess': 'guess', 'fashion': 'fashion', 'model': 'model', 'way': 'way', 'quit': 'quite', 'disappoint': 'disappointed', 'apprehens': 'apprehensive', 'dollar': 'dollar', 'onlin': 'online', 'coalit': 'coalition', 'forc': 'force', 'want': 'wanted', 'sharp': 'sharp', 'happier': 'happier', 'sure': 'sure', 'solid': 'solid', 'black': 'black', 'videoid': 'videoid', 'cc599be25462207f860e42621171d7e1': 'cc599be25462207f860e42621171d7e1', 'underst': 'understated', 'clean': 'clean', 'eleg': 'elegant', 'bodi': 'body', 'genuin': 'genuine', 'leather': 'leather', 'maximum': 'maximum', 'width': 'width', 'hole': 'holes', 'made': 'made', 'wide': 'wide', 'thick': 'thickness', 'state': 'stated', 'japanes': 'japanese', 'quartz': 'quartz', 'rain': 'rain', 'splash': 'splashing', 'submerg': 'submerged', 'water.': 'water.', 'china': 'china', 'includ': 'includes', 'english': 'english', 'manual': 'manual', 'cover': 'covered', 'somewhat': 'somewhat', 'refer': 'reference', 'self-wind': 'self-winding', 'third': 'third', 'page': 'page', 'guid': 'guide', 'method': 'method', 'control': 'control', 'everyth': 'everything', 'posit': 'position', 'crown': 'crown', 'pull': 'pull', 'two': 'two', 'first': 'first', 'allow': 'allowing', 'second': 'second', 'move': 'moved', 'arms.': 'arms.', 'come': 'come', 'packag': 'package', 'box': 'box', 'pillow': 'pillow', 'gift': 'gift', 'bag.': 'bag.', 'provid': 'provided', 'burei': 'burei', 'review': 'reviewed', 'influenc': 'influence', 'critic': 'critical', 'one.': 'one.', 'ali': 'ali', 'julia': 'julia', 'awesom': 'awesome', 'yesterday': 'yesterday', 'friend': 'friends', 'famili': 'family', 'crap': 'crap', 'everyday': 'everyday', 'you': 'you', 'beat': 'beat', 'detail': 'details', 'safe': 'safe', 'secur': 'secure', 'organ': 'organized', 'belt': 'belt', 'home': 'home', 'travel': 'traveling', 'none': 'none', '.the': '.the', 'paw-5000': 'paw-5000', 'dwarf': 'dwarfs', 'woman': 'woman', 'no': 'no', 'joke': 'joke', 'best': 'best', 'accommod': 'accommodate', 'probabl': 'probably', 'inch': 'inches', 'left': 'left', 'put': 'put', 'man-siz': 'man-size', 'fantast': 'fantastic', 'indic': 'indicated', 'poor': 'poor', 'still': 'still', 'style': 'style', 'cute': 'cute', 'exact': 'exactly', 'pictur': 'pictured', 'grand': 'grand', 'kid': 'kids', 'have': 'have', 'worn': 'worn', 'constant': 'constantly', 'night': 'night', 'contin': 'continous', 'innov': 'innovation', 'field': 'field', 'given': 'given', 'price-tag': 'price-tag', 'steal': 'steal', 'satisfactori': 'satisfactory', 'fast': 'fast', 'discharg': 'discharges', 'within': 'within', 'hour': 'hour', 'but': 'but', 'natur': 'natural', 'eat-up': 'eat-up', 'for': 'for', 'entri': 'entry', 'level': 'level', 'android-wear': 'android-wear', 'beautul': 'beautul', 'well-mad': 'well-made', 'pilot': 'pilots', 'high': 'high', 'tack-': 'tack-', 'ditch': 'ditch', 'digger': 'digger', 'rev': 'revs', 'comfort': 'comfortable', 'lightweight.th': 'lightweight.the', 'short': 'short', 'side': 'side', 'usabl': 'usable', 'deal': 'deal', 'press': 'press', 'construct': 'construction', 'sturdi': 'sturdy', 'die': 'died', 'easili': 'easily', 'interchang': 'interchangeable', 'tool': 'tools', 'miniatur': 'miniature', 'stiff': 'stiff', 'conform': 'conform', 'beyond': 'beyond', 'expectation..excel': 'expectation..excellent', 'product..good': 'product..good', 'built': 'built', 'done..': 'done..', 'didnt': 'didnt', '22mm': '22mm', 'kick': 'kicks', 'ass': 'ass', 'upon': 'upon', 'grow': 'grow', 'beard': 'beard', 'tame': 'tame', 'pack': 'pack', 'wolv': 'wolves', 'gripe': 'gripe', 'wish': 'wish', 'tad': 'tad', 'valu': 'value', 'strap': 'strap', 'super': 'super', 'space': 'spaces', \"'d\": \"'d\", 'suppos': 'supposed', 'tri': 'trying', 'possibl': 'possible', 'motion': 'motions', 'caus': 'caused', 'winder': 'winder', 'clear': 'clear', 'visibl': 'visible', 'rear': 'rear', 'luck': 'luck', 'alrighti': 'alrighty', 'seek': 'seeking', 'ultim': 'ultimate', 'low-profil': 'low-profile', 'ultra': 'ultra', 'rotat': 'rotates', 'bezel': 'bezel', 'settl': 'settled', 'this.': 'this.', 'famous': 'famous', 'perform': 'performance', 'similarly.': 'similarly.', 'paint': 'paint', 'chip': 'chip', 'smack': 'smack', 'hood': 'hood', 'car': 'car', 'crystal': 'crystal', 'crack': 'cracked', 'shattered.': 'shattered.', 'fair': 'fairly', 'gain': 'gained', 'per': 'per', 'without': 'without', 'healer': 'healer', 'fine': 'fine', 'tune': 'tuned', 'tacki': 'tacky', 'substanti': 'substantial', 'my': 'my', 'boyfriend': 'boyfriend', 'mention': 'mention', 'dot': 'dots', 'outsid': 'outside', 'glow': 'glow', 'long': 'long', 'enough': 'enough', 'loos': 'loose', 'see': 'see', 'near': 'nearly', 'twice': 'twice', 'paid': 'paid', 'more': 'more', 'person': 'person', 'sophist': 'sophisticated', 'mother': 'mother', 'arm': 'arm', 'aerob': 'aerobic', 'tack': 'tack', 'cousin': 'cousin', 'man': 'man', 'predecessor': 'predecessor', 'enjoy': 'enjoy', 'happen': 'happened', 'run': 'run', 'togeth': 'together', 'sometim': 'sometimes', 'distinguish': 'distinguish', 'clasp': 'clasp', 'mani': 'many', 'baby-g': 'baby-g', 'gotten': 'gotten', 'attent': 'attention', 'glitter': 'glitter', 'pop': 'popped', 'everyon': 'everyone', 'silver': 'silver', 'feminin': 'feminine', 'sleek': 'sleek', 'wayi': 'wayy', 'usual': 'usually', 'pay': 'pay', 'worth': 'worth', 'especi': 'especially', 'sinc': 'since', 'special': 'special', 'wo': 'wo', 'uniqu': 'unique', 'background': 'background', 'blue': 'blue', 'goe': 'goes', 'camp': 'camping', 'hike': 'hiking', 'expect': 'expected', 'citizen': 'citizen', 'damag': 'damage', 'upset': 'upset', 'plan': 'plan', 'these': 'these', 'daughter': 'daughter', 'junk': 'junk', 'whi': 'why', 'name': 'name', 'ironkid': 'ironkid', 'ironman': 'ironman', 'consist': 'consistently', 'bike': 'bike', 'claim': 'claimed', 'leak': 'leaking', 'pool': 'pool', 'wast': 'waste', 'money': 'money', 'len': 'lens', 'husband': 'husband', 'smaller': 'smaller', 'he': 'he', 'bigger': 'bigger', 'hard': 'hard', 'besid': 'besides', 'wood': 'wood', 'decor': 'decorative', 'extrem': 'extremely', 'lightweight': 'lightweight', 'actual': 'actually', 'forget': 'forget', 're': \"'re\", 'smooth': 'smooth', 'semi-matt': 'semi-matte', 'finish': 'finish', 'dressy.': 'dressy.', 'catch': 'catches', 'squeez': 'squeezing', 'skin/hair': 'skin/hair', 'varieti': 'variety', 'sizesi': 'sizesi', 'although': 'although', 'dressi': 'dressy', 'use.': 'use.', 'life.': 'life.', 'complimentari': 'complimentary', 'exchang': 'exchange', 'honest': 'honestly', 'opinion': 'opinion', 'express': 'expressed', 'that': 'that', 'item': 'item', 'soft': 'soft', 'pliabl': 'pliable', 'rubber': 'rubber', 'materi': 'material', 'turn': 'turns', 'recommend': 'recommend', 'nurs': 'nurse', 'huge': 'huge', 'popping.th': 'popping.the', 'ridg': 'ridged', 'mush': 'mush', 'broke': 'broke', 'fix': 'fix', 'extra': 'extra', 'may': 'may', 'handi': 'handy', 'give': 'give', 'conserv': 'conservative', 'navi': 'navy', 'unless': 'unless', 'shine': 'shines', 'reflect': 'reflective', 'base': 'based', 'seiko': 'seiko', '5s': '5s', 'nato': 'nato', 'boy': 'boy', 'setup': 'setup', 'brown': 'brown', 'deploy': 'deployment', 'similar': 'similar', 'omega': 'omega', 'seamast': 'seamaster', 'aqua': 'aqua', 'terra': 'terra', 'occas': 'occasion', 'yes': 'yes', 'spec': 'specs', 'etc': 'etc', 'p': 'p', 'cost': 'costs', 'hand': 'hand', 'old': 'old', 'ppl': 'ppl', 'youth': 'youth', 'dont': 'dont', 'irt': 'irt', 'agent': 'agent', 'scotland/edinburgh': 'scotland/edinburgh', 'men': 'men', 'outfit': 'outfits', 'push': 'push', 'luminesc': 'luminescent', 'mark': 'marked', 'weird.': 'weird.', 'curious': 'curious', 'asid': 'aside', 'weakest': 'weakest', 'term': 'terms', 'ever': 'ever', 'seen': 'seen', 'mediocr': 'mediocre', 'alright': 'alright', 'hold': 'hold', 'bulki': 'bulky', '3rd': '3rd', 'hadley': 'hadley', 'roma': 'roma', 'gorgeous': 'gorgeous', 'petit': 'petite', 'engag': 'engagement', 'got': 'got', 'june': 'june', '8th': '8th', 'wore': 'wore', 'fell': 'fell', 'apart': 'apart', 'call': 'call', 'repair': 'repair', 'told': 'told', 'warranti': 'warranty', 'never': 'never', 'ceram': 'ceramic', 'thus': 'thus', 'server': 'servers', 'impress': 'impression', 'timepiec': 'timepiece', 'busi': 'business', 'world': 'world', 'surpass': 'surpassed', 'us': 'us', 'basic': 'basics', 'train': 'training', 'ait': 'ait', 'remain': 'remain', 'seri': 'series', 'good..': 'good..', 'gaudi': 'gaudy', 'misrepres': 'misrepresented', 'darl': 'darling', 'real': 'real', 'thrift': 'thrift', 'donat': 'donation', 'pile': 'pile', 'surpris': 'surprised', 'she': 'she', 'precis': 'precision', 'watch。': 'watch。', 'did': 'did', 'idea': 'idea', 'will': 'will', 'late': 'late', 'parti': 'party', 'discov': 'discovering', 'situat': 'situation', 'dress': 'dress', 'casual': 'casual', 'acquir': 'acquiring', 'let': 'let', 'll': \"'ll\", 'anoth': 'another', 'photo': 'photo', 'distort': 'distorts', 'lighter': 'lighter', 'practic': 'practically', 'blend': 'blend', 'skin': 'skin', 'buck': 'bucks', 'wrong': 'wrong', 'skagen': 'skagen', 'appar': 'apparently', 'proprietari': 'proprietary', 'sell': 'sell', 'dealer': 'dealers', 'as': 'as', 'gather': 'gather', 'send': 'send', 'whatev': 'whatever', 'sum': 'sum', 'demand': 'demand', 'reasonable-look': 'reasonable-looking', 'band.': 'band.', 'aggrav': 'aggravation', 'produc': 'produce', 'matter': 'matter', 'firm': 'firm', 'sold': 'sold', 'alreadi': 'already', 'begun': 'begun', 'corrod': 'corrode', 'green': 'green', 'compar': 'compared', 'iamg': 'iamge', 'open': 'opening', 'trend': 'trend', 'definit': 'definitely', 'complet': 'completely', 'disagre': 'disagree', 'figur': 'figured', 'receipi': 'receipiant', 'ability.': 'ability.', 'meant': 'meant', 'other.a': 'other.a', 'truli': 'truly', 'compani': 'company', 'years.if': 'years.if', 'mos': 'mos', 'sit': 'sit', 'buyer': 'buyer', 'bewar': 'beware', 'soon': 'soon', 'accessori': 'accessory', 'tge': 'tge', 'alarm': 'alarms', 'chronograph': 'chronograph', 'shown': 'shown', 'picture.': 'picture.', 'remind': 'reminds', 'walmart': 'walmart', 'thank': 'thanks', 'vari': 'vary', 'son': 'son', 'gray': 'gray', 'now': 'now', 'garbag': 'garbage', 'plastic': 'plastic', 'egg': 'egg', 'oper': 'operates', 'vend': 'vending', 'machin': 'machined', 'accident': 'accidentally', 'chican': 'chicane', 'orient': 'orienteering', 'favorit': 'favorite', 'pieces.': 'pieces.', 'often': 'often', 'formal': 'formal', 'unbeat': 'unbeatable', 'find': 'find', 'discount': 'discount', 'throughout': 'throughout', 'web': 'web', 'overpaid': 'overpaid', 'stress': 'stress', 'mean': 'means', 'everywher': 'everywhere', 'sort': 'sort', 'scratch.': 'scratch.', 'folded-steel': 'folded-steel', 'they': 'they', 'hair': 'hair', 'occasion': 'occasionally', 'higher': 'higher', 'someth': 'something', 'oem': 'oem', 'felt': 'felt', 'it.': 'it.', 'high-qual': 'high-quality', 'phenomen': 'phenomenal', 'groomsmen': 'groomsmen', 'squar': 'square', 'instruct': 'instructions', 'tricki': 'tricky', 'subdial': 'subdials', 'readabl': 'readable', 'dead': 'dead', 'contact': 'contact', 'refund': 'refund', 'amount': 'amount', 'instal': 'installed', 'stylish': 'stylish', 'reason': 'reason', 'shower': 'shower', 'raini': 'rainy', 'weather': 'weather', 'foggi': 'foggy', 'g': 'g', 'shock': 'shocks', 'horribl': 'horrible', 'came.off': 'came.off', 'minimum': 'minimum', 'android': 'android', 'phone': 'phone', 'updat': 'update', 'text': 'texts', 'download': 'download', 'game': 'games', 'app': 'app', 'it.batteri': 'it.battery', 'life': 'life', 'wake': 'wake', 'charger': 'charger', 'elk': 'elk', 'hunt': 'hunt', 'non-glar': 'non-glare', 'backlight': 'backlight', 'amazon/casio': 'amazon/casio', 'n': 'n', 'proper': 'properly', 'patient': 'patients', 'handsom': 'handsome', 'bit': 'bit', 'cap/screw': 'cap/screw', 'wristband': 'wristband', 'lost': 'lost', 'deadlin': 'deadline', 'useless': 'useless', 'capabl': 'capabilities', 'countdown': 'countdown', 'break': 'breaks', 'dresser': 'dresser', 'shake': 'shaking', 'reset': 'resets', 'certain': 'certain', 'anyon': 'anyone', 'minut': 'minutes', 'expens': 'expensive', 'wed': 'wedding', 'live': 'live', 'hesit': 'hesitant', 'by': 'by', 'skinni': 'skinny', 'counter': 'counter', 'seem': 'seems', 'length': 'length', 'digit': 'digital', 'anyway': 'anyway', 'we': 'we', 'clock': 'clock', 'across': 'across', 'smoothly/quiet': 'smoothly/quietly', 'local': 'local', 'depart': 'department', 'guard': 'guard', 'took': 'took', 'tonight': 'tonight', 'ugh': 'ugh', 'frustrat': 'frustrating', 'polo': 'polo', 'some': 'some', 'notic': 'notice', 'stern': 'stern', 'entir': 'entire', 'insid': 'inside', 'analog': 'analog', 'five': 'five', 'stopwatch': 'stopwatch', 'undoubt': 'undoubtedly', 'list': 'listed', 'breaker': 'breakers', 'book': 'book', 'tomorrow': 'tomorrow', 'itttttt': 'itttttt', 'noisi': 'noisy', 'hear': 'hear', 'liter': 'literally', 'smart': 'smart', 'charm': 'charm', 'prompt': 'promptly', 'birthday': 'birthday', 'profession': 'professional', 'ostentati': 'ostentatious', 'glitzi': 'glitzy', 'delic': 'delicate', 'ad': 'added', 'hint': 'hint', 'classic': 'classic', 'menswear': 'menswear', 'plus': 'plus', 'relat': 'relates', 'narrow': 'narrow', 'arms/wrist': 'arms/wrists', 'girlfriend': 'girlfriend', 'health': 'health', 'bussin': 'bussines', 'wet': 'wet', 'match': 'matches', 'uniform': 'uniform', 'thestar': 'thestar', 'muy': 'muy', 'buen': 'buen', 'producto': 'producto', 'silicon': 'silicone', 'armitron': 'armitron', 'fun': 'fun', 'four': 'four', 'standard': 'standard', 'zone': 'zone', 'weekday': 'weekdays', 'display': 'display', 'clutter': 'cluttered', 'crowd': 'crowded', 'glare': 'glare', 'frill': 'frills', 'while': 'while', 'ocean': 'ocean', 'predict': 'predict', 'degrad': 'degrade', 'discolor': 'discolored', 'sunscreen': 'sunscreens', 'unfriend': 'unfriendly', '.it': '.it', 'came': 'came', 'kind': 'kind', 'necklac': 'necklace', 'type': 'type', 'chain': 'chains', 'nicer': 'nicer', 'bill': 'bill', 'jewel': 'jeweler', 'shorten': 'shorten', 'deliv': 'delivered', '7th': '7th', 'excit': 'excited', 'plenti': 'plenty', 'room': 'room', 'grow.it': 'grow.it', 'angl': 'angles', 'ecstatic.sh': 'ecstatic.she', 'someon': 'someone', 'cant': 'cant', 'complaint': 'complaint', 'suffici': 'sufficiently', 'help': 'helping', 'penni': 'penny', 'reduc': 'reduces', 'correct': 'correct', 'sad': 'sad', 'shorter': 'shorter', 'broken': 'broken', 'rough': 'rough', 'primarili': 'primarily', 'offic': 'office', 'close': 'closed', 'assum': 'assume', 'kate': 'kate', 'spade': 'spade', 'general': 'general', 'superior': 'superior', 'reject': 'rejected', 'maker': 'makers', 'minor': 'minor', 'dysfunct': 'dysfunctions', 'gold-on-gold': 'gold-on-gold', 'harder': 'harder', 'pink': 'pink', 'lower-profil': 'lower-profile', 'rub': 'rubs', 'print': 'printed', 'ink': 'ink', 'suggest': 'suggest', 'medium': 'medium', 'cm': 'cm', 'statement': 'statement', 'women': 'women', 'triathlon': 'triathlon', 'bulk': 'bulk', 'goofi': 'goofy', 'duh': 'duh', 'month/dat': 'month/date', 'default': 'defaults', 'done.': 'done.', 'bright': 'bright', 'sunglass': 'sunglasses', 'doubl': 'double', 'ironman.': 'ironman.', 'prefer': 'preference', 'lighter/smal': 'lighter/smaller', 'easier': 'easier', 'half': 'half', 'dust': 'dust', 'shelf': 'shelf', 'admit': 'admit', 'conveni': 'convenient', 'bedsid': 'bedside', 'loud': 'loud', 'contrari': 'contrary', 'okay': 'okay', 'anticip': 'anticipate', 'ok': 'ok', 'key': 'key', 'least': 'least', 'activ': 'activity', 'recent': 'recently', 'circl': 'circle', 'show': 'showing', 'talk': 'talking', 'a+': 'a+', 'coolest': 'coolest', 'bracelet': 'bracelet', 'deep': 'deep', 'dish': 'dishes', 'style.thank': 'style.thanks', 'dese': 'desing', 'too': 'too', 'pain': 'painful', 'rate': 'rating', 'p.o.': 'p.o.s', 'snob': 'snob', 'worst': 'worst', 'experi': 'experiences', 'area': 'area', 'authent': 'authentic', 'luminox': 'luminox', 'learn': 'learn', 'fake/knock-off/refurbish': 'fake/knock-off/refurbished', 'ship': 'shipped', 'wait': 'wait', 'coupl': 'couple', 'about': 'about', 'begin': 'beginning', 'period': 'period', 'mayb': 'maybe', 'connect': 'connection', 'faulti': 'faulty', 'requir': 'require', 'repairman': 'repairman', 'here': 'here', 'own': 'owned', 'total': 'totally', 'fallen': 'fallen', 'hell': 'hell', 'till': 'till', 'screw': 'screws', 'elleg': 'ellegant', 'ferrari': 'ferrari', 'smile': 'smile', 'signific': 'significant', 'prefect': 'prefect', 'sugest': 'sugests', 'ask': 'ask', 'business/form': 'business/formal', 'gig': 'gigs', 'bank': 'bank', 'tick': 'tick', 'feed': 'feed', 'buckl': 'buckle', 'lil': 'lil', 'brother': 'brother', 'desir': 'desires', 'at': 'at', 'legend': 'legends', 'mm': 'mm', 'diamet': 'diameter', 'small-averag': 'small-average', 'monstrous': 'monstrous', 'tone': 'tone', 'lock': 'lock', 'either': 'either', 'rang': 'range', 'yellow': 'yellow', 'knob': 'knob', 'unscrew': 'unscrewing', 'top': 'top', 'bottom': 'bottom', 'onc': 'once', 'marker': 'markers', 'line': 'line', 'lucki': 'lucky', 'hour/minut': 'hour/minute', 'main': 'main', 'fluoresc': 'fluorescence', 'aid': 'aid', 'surround': 'surroundings', 'measur': 'measure', 'paramet': 'parameters', 'chanc': 'chance', 'sorri': 'sorry', 'past': 'past', 'saw': 'saw', 'illumin': 'illuminator', 'limit': 'limited', 'teeni': 'teeny', 'section': 'section', 'nigh': 'nigh', 'complic': 'complicated', 'movt': 'movt', 'mop': 'mop', 'heart,44': 'heart,44', 'butterfli': 'butterflies', 'anniversari': 'anniversary', 'light-': 'light-', 'wow': 'wow', 'particular': 'particular', 'quick..thx': 'quick..thx', 'lack': 'lacks', 'beefi': 'beefiness', 'masculin': 'masculine', 'point': 'points', 'drop': 'drop', 'visual': 'visual', 'appeal': 'appealing', 'concern': 'concerns', 'chew': 'chewed', 'textur': 'texture', 'shini': 'shiny', 'such': 'such', 'regular': 'regularly', 'grandfath': 'grandfather', 'appreci': 'appreciated', 'cancel': 'cancel', 'scare': 'scared', 'femal': 'female', 'im': 'im', 'combin': 'combinations', 'grey': 'grey', 'croc': 'croc', 'rich': 'rich', 'what': 'what', 'video': 'video', 'indent': 'indented', 'play': 'play', 'beautiful.': 'beautiful.', 'thumb': 'thumbs', 'beautiful': 'beautifull', 'instead': 'instead', 'orang': 'orange', 'nostalgia': 'nostalgia', 'eyecatch': 'eyecatching', 'obvious': 'obvious', 'bunch': 'bunch', 'uncomfort': 'uncomfortable', 'dug': 'dug', 'unbear': 'unbearable', 'grayish': 'grayish', 'advertis': 'advertised', 'timeless': 'timeless', 'pass': 'pass', 'inscript': 'inscription', 'cheesi': 'cheesy', 'liberti': 'liberty', 'miseri': 'misery', 'add': 'adds', 'flair': 'flair', 'otherwis': 'otherwise', 'variat': 'variations', 'pair': 'paired', 'shoes/belt': 'shoes/belt', 'burgundi': 'burgundy', 'oxblood': 'oxblood', 'avail': 'available', 'vike': 'vikings', 'sill': 'sill', 'lumin': 'luminous', 'oversight': 'oversight', 'fault': 'fault', 'incur': 'incur', 'select': 'select', 'option': 'options', 'needed.i': 'needed.i', 'resiz': 'resized', 'holder': 'holder', 'align': 'alignment', 'competit': 'competitive', 'to': 'to', 'stem': 'stem', 'same': 'same', 'shame': 'shame', 'longer': 'longer', 'subaqua': 'subaqua', 'specialti': 'specialty', 'watchband': 'watchband', 'search': 'search', 'imposs': 'impossible', 'upgrad': 'upgrade', 'crappi': 'crappy', 'loop': 'loops', 'havent': 'havent', 'couldnt': 'couldnt', 'head-i': 'head-is', 'bigger-i': 'bigger-i', 'help-th': 'help-the', 'price-you': 'price-you', 'larger..': 'larger..', 'aspect': 'aspect', 'duct': 'duct', 'tape': 'tape', 'wrist.': 'wrist.', 'target': 'target', 'decid': 'decided', 'yard': 'yard', 'out.': 'out.', 'met': 'met', 'easy-to-read': 'easy-to-read', 'fraction': 'fraction', 'notch': 'notch', 'advantag': 'advantage', 'can': 'can', 'stretch': 'stretching', 'soak': 'soaking', 'custom': 'customer', 'largest': 'largest', 'wrists.': 'wrists.', 'wise': 'wise', 'legibl': 'legible', 'scuba': 'scuba', 'dive': 'diving', 'glanc': 'glance', 'distract': 'distract', 'nonsens': 'nonsensical', 'mini': 'mini', 'larger': 'larger', 'doorway': 'doorways', 'sleev': 'sleeves', 'would.': 'would.', 'occasions.': 'occasions.', 'lick': 'licking', 'sun': 'sun', 'solar': 'solar', 'lose': 'lose', '.face': '.face', 'darker': 'darker', 'direct': 'directions', 'upper': 'upper', 'spanish': 'spanish', 'crown.': 'crown.', 'knock': 'knocked', 'pinch': 'pinches', 'unsight': 'unsightly', 'dolphin': 'dolphin', 'emblem': 'emblem', 'favor': 'favor', 'prepar': 'preparing', 'clinic': 'clinical', 'inexpens': 'inexpensive', 'vital': 'vital', 'sign': 'signs', 'track': 'track', 'puls': 'pulse', 'respir': 'respiration', 'interfac': 'interface', 'squint': 'squint', 'respons': 'responsive', 'report': 'reported', 'stain': 'staining', 'resourc': 'resource', 'factor': 'factor', 'flimsey': 'flimsey', 'refere': 'referee', 'version': 'version', 'afford': 'afford', 'downsid': 'downside', 'ordinari': 'ordinary', 'titl': 'title', 'corolla': 'corolla', 'japan': 'japan', 'improv': 'improvement', 'dental': 'dental', 'hygienist': 'hygienist', 'hardi': 'hardy', 'withstand': 'withstand', 'awesome..': 'awesome..', 'unravel': 'unraveling', 'seafir': 'seafire', 'on-lin': 'on-line', 'instrument': 'instrument', 'panel': 'panel', 'specif': 'specifically', 'stiffest': 'stiffest', 'encount': 'encountered', 'bode': 'bodes', 'longev': 'longevity', 'mom': 'mom', 'year-old': 'year-old', 'niec': 'niece', 'lug': 'lug', 'believ': 'believe', 'handl': 'handle', 'lcd': 'lcd', 'bangl': 'bangles', 'wont': 'wont', 'fab': 'fab', 'rose': 'rose', 'catcher': 'catcher', 'mk': 'mk', 'cindi': 'cindy', 'satchel': 'satchel', 'handbag': 'handbag', 'shopper': 'shopper', 'golf': 'golf', 'beaut': 'beaut', 'recipi': 'recipient', 'pearl': 'pearl', 'stand': 'stand', 'vibrat': 'vibrations', 'opposit': 'opposite', 'hack': 'hack', 'synchron': 'synchronize', 'user': 'user', 'jump': 'jumping', 'perhap': 'perhaps', 'hash': 'hash', 'interv': 'intervals', 'equal': 'equal', 'hashmark': 'hashmarks', 'manufactur': 'manufacturer', 'divid': 'divide', '1/60th': '1/60th', 'intuit': 'intuitive', 'zero': 'zero', 'mind': 'mind', 'six': 'six', 'cours': 'course', 'question': 'question', 'tissot': 'tissot', 'shortcom': 'shortcomings', 'collector': 'collectors', 'blog': 'blogs', 'dozen': 'dozen', 'rid': 'rid', 'websit': 'website', 'dec.': 'dec.', 'ador': 'adorable', 'note': 'note', 'tens': 'tense', 'rins': 'rinsed', 'immers': 'immersion', 'routin': 'routine', 'somehow': 'somehow', 'with': 'withe', 'necessari': 'necessary', 'drawback': 'drawback', 'aw': 'awful', 'fog': 'fogged', 'meet': 'meets', 'compass': 'compass', 'acur': 'acurate', 'noth': 'nothing', '24hour': '24hour', 'manner': 'manner', 'antiqu': 'antique', 'action': 'action', 'convers': 'conversation', 'starter': 'starter', 'iphon': 'iphones', 'lower': 'lower', 'stars..': 'stars..', 'condens': 'condensation', 'prevent': 'preventing', 'anyth': 'anything', 'altogeth': 'altogether', 'plain': 'plain', 'batman': 'batman', 'superman': 'superman', 'destroy': 'destroyer', 'job': 'job', 'strong': 'strong', 'terribl': 'terribly', 'program': 'program', 'chines': 'chinese', 'indigo': 'indigo', 'fade': 'fade', 'determin': 'determined', 'identifi': 'identified', 'aqs800w-1b2vcf': 'aqs800w-1b2vcf', 'label': 'label', 'older': 'older', 'younger': 'younger', 'child': 'child', 'overhang': 'overhanging', 'origin': 'originally', 'lg': 'lg', 'road': 'road', 'invicta`': 'invicta`s', 'whati': 'whati', 'kenneth': 'kenneth', 'cole': 'cole', 'softer': 'softer', 'roman': 'roman', 'charact': 'character', 'present': 'present', 'trendi': 'trendy', 'spendi': 'spendy', 'incred': 'incredibly', 'watch.thank': 'watch.thanks', 'chic': 'chic', 'rave': 'rave', 'non-stop': 'non-stop', 'waterproof': 'waterproof', 'depth': 'depth', 'confirm': 'confirmation', 'has': 'has', 'speed': 'speed', 'secondari': 'secondary', 'forti': 'forty', 'weak': 'weak', 'alot': 'alot', 'faster': 'faster', 'ago': 'ago', 'squeak': 'squeaking', 'annoy': 'annoying', 'silenc': 'silence', 'shot': 'shot', 'lubric': 'lubricant', 'realiti': 'reality', 'hate': 'hate', 'choos': 'choosing', 'oppos': 'opposed', 'final': 'finally', 'becam': 'became', 'moistur': 'moisture', 'price-point': 'price-point', 'relic': 'relic', 'screwdriv': 'screwdrivers', 'listen': 'listen', 'panerai': 'panerai', 'daylight.': 'daylight.', 'snorkel': 'snorkeling', 'con': 'cons', 'knew': 'knew', 'sleeker': 'sleeker', 'wear.': 'wear.', 'berni': 'bernie', 'subt': 'subtly', 'chrome': 'chrome', '-japan': '-japan', '-easi': '-easy', '-classi': '-classy', '-it': '-it', 'frame': 'frame', '-a': '-a', 'atleast': 'atleast', 'australia.': 'australia.', 'fee': 'fee', 'carrier': 'carrier', 'perman': 'permanantly', 'browninsh': 'browninsh', 'moment': 'moment', 'restaur': 'restaurant', 'los': 'los', 'angel': 'angeles', 'ladi': 'lady', 'tabl': 'table', 'step': 'stepped', 'itself.': 'itself.', 'inspect': 'inspection', 'catalogu': 'catalogues', 'confidence.': 'confidence.', 'true': 'true', 'art': 'art', 'outer': 'outer', 'harmoni': 'harmony', 'subtl': 'subtle', 'looker': 'looker', 'whilst': 'whilst', 'cheapli': 'cheaply', 'multipl': 'multiple', 'weav': 'weave', 'damage..': 'damage..', 'citi': 'city', 'auto': 'auto', 'toward': 'towards', 'west': 'west', 'straight': 'straight', 'm': 'm', 'power': 'powered', 'h': 'h', 'test': 'test', 'few': 'few', 'guy': 'guys', 'v': 'v', 'caveat': 'caveats', 'sound': 'sound', 'bight': 'bight', 'unisex.': 'unisex.', 'imagin': 'imagine', 'glitteri': 'glittery', 'advanc': 'advance', 'envis': 'envision', 'join': 'joins', 'versac': 'versace', 'bum': 'bummed', 'that..': 'that..', 'pebbl': 'pebble', 'convent': 'conventional', 're-strap': 're-strap', 'snzh53': 'snzh53', 'reserv': 'reserv', 'hardlex': 'hardlex', 'hardest': 'hardest', 'bang': 'bang', 'aftermarket': 'aftermarket', 'diver': 'divers', 'screw-down': 'screw-down', 'underwat': 'underwater', 'gone': 'gone', 'ill': 'ill', 'effect': 'effects', 'ladylik': 'ladylike', 'fopr': 'fopr', 'owner': 'owner', 'advis': 'advise', 'was.': 'was.', 'prove': 'proves', 'disapprov': 'disapprove', 'summer': 'summer', 'grab': 'grab', 'nixon': 'nixon', 'pelag': 'pelage', 'oh': 'oh', 'yeah': 'yeah', 'rose-gold': 'rose-gold', 'contrast.': 'contrast.', 'futur': 'future', 'medium-smal': 'medium-small', 'balan': 'balans', 'seal': 'sealing', 'fray': 'fray', 'count': 'count', 'outrag': 'outrageously', 'onto': 'onto', 'utub': 'utube', 'law': 'law', 'enforc': 'enforcement', 'slam': 'slammed', 'it.giv': 'it.giving', 'appear': 'appearances', 'copi': 'copy', 'site': 'site', 'evalu': 'evaluation', 'excess': 'excess', 'flash': 'flash', 'indiglo': 'indiglo', 'on.': 'on.', 'how': 'how', 'both': 'both', 'substantial-feel': 'substantial-feeling', 'stick': 'sticking', 'tast': 'taste', 'titanium': 'titanium', 'eta': 'eta', 'butter': 'butter', 'winder-': 'winder-', 'hollow': 'hollow', 'suck': 'sucks', 'granddaught': 'granddaughter', 'backward': 'backwards', 'jewlreyw': 'jewlreywe', 'wors': 'worse', 'from': 'from', 'get-go': 'get-go', 'spin': 'spin', 'shift': 'shift', 'velvet': 'velvet', 'bag': 'bag', 'owl-shap': 'owl-shaped', 'paperweight': 'paperweights', 'jewelryw': 'jewelrywe', 'there.': 'there.', 'jewelrew': 'jewelrewe', 'ma': 'ma', 'flaw': 'flawed', 'owl': 'owl', 'cri': 'crying', 'non-work': 'non-working', 'swap': 'swapped', 'again': 'again', 'pendant': 'pendant', 'snooz': 'snooze', 'signatur': 'signature', 'invers': 'inverse', 'broad': 'broad', 'daylight': 'daylight', 'glass': 'glass', 'tilt': 'tilt', 'button.': 'button.', 'drive': 'driving', 'clock.': 'clock.', 'piti': 'pity', 'g-9000-8v': 'g-9000-8v', 'normalish': 'normalish', 'sand': 'sand', 'neat': 'neat', 'support': 'support', 'invest': 'invest', 'sharpi': 'sharpie', 'australia': 'australia', 'shade': 'shade', 'lavend': 'lavender', 'hit': 'hit', 'rec': 'rec', 'besski': 'bessky', 'free': 'free', 'time/d': 'time/date', 'lap': 'lap', 'usethi': 'usethis', 'is': 'is', 'taken': 'taken', 'write': 'write', 'than': 'than', 'year.': 'year.', 'toni': 'tony', 'b': 'b', 'former': 'former', 'gmt': 'gmt', 'master': 'master', 'stuhrl': 'stuhrling', 'duti': 'duty', '3k': '3k', 'overs': 'oversized', 'and': 'and', 'tag': 'tag', 'funni': 'funny', 'smell': 'smell', 'recheck': 'recheck', 'mistak': 'mistake', 'affili': 'affiliated', 'raulph': 'raulph', 'lauren': 'lauren', 'ive': 'ive', 'floor': 'floor', 'multi': 'multi', 'grandson': 'grandson', 'ganpa': 'ganpa', 'up': 'ups', 'thru': 'thru', 'bath': 'baths', 'bump': 'bumping', 'schedul': 'scheduled', '5day': '5days', 'envelop': 'envelope', 'zip': 'zips', 'hey': 'hey', 'hublot': 'hublot', 'lol': 'lol', '34k': '34k', '34dlls': '34dlls', 'allot': 'allot', 'samsung': 'samsung', 'gear': 'gear', 'placement': 'placement', 'separ': 'separately', 'letter': 'letters', 'rememb': 'remember', 'pieces/rod': 'pieces/rods', 'attach': 'attached', 'driver': 'driver', 'pocket': 'pocket', 'knife': 'knife', 'rod': 'rods', 'load': 'loaded', 'compress.th': 'compress.the', 'was': 'was', 'multi-thousand': 'multi-thousand', '..serious': '..seriously', '..etc': '..etc', 'engrav': 'engraver', 'revers': 'reversed', 'jiusko': 'jiusko', 'top-tier': 'top-tier', 'pros': 'pros', 'nice-look': 'nice-looking', 'causual': 'causually', 'garish.': 'garish.', 'repeat': 'repeatedly', 'ensur': 'ensure', 'singl': 'single', 'troubl': 'trouble', 'trust': 'trusted', 'pro': 'pro', '24mm': '24mm', 'adapt': 'adapted', 'appl': 'apple', 'teenag': 'teenager', 'prettier': 'prettier', 'sparkl': 'sparkle', 'streamlin': 'streamlined', 'flow': 'flow', 'maid': 'maid', 'cheaper.': 'cheaper.', 'technic': 'technical', 'copper/ros': 'copper/rose', 'yrs': 'yrs', 'mod': 'mod', 'counterpart': 'counterparts', 'thorough': 'thorough', 'comparison': 'comparison', 'thin': 'thin', 'expedit': 'expedition', 'caught': 'caught', 'rip': 'ripped', 'ahead': 'ahead', 'slow': 'slow', 'speck': 'specks', 'encas': 'encasement', 'liked/did': 'liked/did', 'me.': 'me.', '6-year-old': '6-year-old', 'unrealist': 'unrealistic', 'who': 'who', 'thx': 'thx', 'rust': 'rust', 'school': 'school', 'resembl': 'resembles', 'tail': 'tail', 'neater': 'neater', 'neither': 'neither', 'water-resist': 'water-resistant', 'unrespons': 'unresponsive', 'insur': 'insuring', 'loss': 'loss', 'transit': 'transit', 'thing-': 'thing-', 'coat': 'coat', 'mode': 'mode', 'militari': 'military', 'unfair': 'unfair', 'father': 'father', 'disappear': 'disappeared', 'underneath': 'underneath', 'excelent': 'excelente', 'tear': 'teared', 'to-the-second': 'to-the-second', 'cell': 'cell', 'calibr': 'calibrate', 'afterward': 'afterward', 'sheik': 'sheik', 'form': 'form', 'shipe': 'shiping', 'rectangular': 'rectangular', 'shape': 'shaped', 'nice.i': 'nice.i', 'watch.it': 'watch.it', 'hardier': 'hardier', 'numerals.you': 'numerals.you', 'oliv': 'olive', 'slept': 'slept', 'it.sh': 'it.she', 'awsom': 'awsome', 'glove': 'glove', 'surfac': 'surfaces', 'thinner': 'thinner', 'effort': 'effort', 'middl': 'middle', 'edg': 'edges', 'lume': 'lume', 'dim': 'dim', 'order.': 'order.', 'accuraci': 'accuracy', 'approx': 'approx', '~34s': '~34s', 'caseback': 'caseback', 'balanc': 'balance', 'tremend': 'tremendous', 'no-nonsens': 'no-nonsense', 'hydro-stat': 'hydro-static', 'pressur': 'pressure', '40.5mm': '40.5mm', 'retain': 'retain', 'emboss': 'embossed', 'faux': 'faux', 'pattern': 'pattern', 'bambino': 'bambino', 'regret': 'regret', 'struggl': 'struggle', 'gaug': 'gauging', 'vs': 'vs', 'differenti': 'differentiating', '.look': '.looks', 'over': 'overly', 'maintain': 'maintain', 'dress/work': 'dress/work', 'scale': 'scaling', 'mountain': 'mountains', 'success': 'successful', 'drugstor': 'drugstore', 'down': 'down', '..would': '..would', 'paper': 'paper', 'sweet': 'sweet', 'coordin': 'coordination', 'hue': 'hue', 'snap': 'snap', 'heft': 'heft', 'tend': 'tend', 'waaaay': 'waaaay', 'terrif': 'terrific', 'accept': 'acceptable', 'eager': 'eager', 'leakag': 'leakage', 'atom': 'atomic', 'sync': 'sync', 'on': 'on', '170lbs': '170lbs', 'major': 'major', '30-lap': '30-lap', 'age': 'aging', 'eyesight': 'eyesight', 'toler': 'tolerate', 'brilliant': 'brilliant', 'worthi': 'worthy', 'beatyful': 'beatyfull', 'asin': 'asin', 'b005dre6uu': 'b005dre6uu', 'sea': 'sea', 'hunter': 'hunter', 'extend': 'extends', 'time.': 'time.', 'bracket': 'brackets', '+date': '+date', 'eventu': 'eventually', 'fault.': 'fault.', 'dope': 'dope', 'suitabl': 'suitable', 'grad': 'grad', 'fore': 'fore', 'lie': 'lies', 'complement': 'complements', 'nylon': 'nylon', 'quiet': 'quiet', 'monster': 'monster', 'vey': 'vey', 'keychain': 'keychain', 'hing': 'hinge', 'awkward': 'awkward', 'doubt': 'doubt', 'mislead': 'misleading', 'undersid': 'underside', 'tho': 'tho', 'fan': 'fan', 'maci': 'macy', 'staff': 'staff', 'frequent': 'frequent', 'wash': 'washed', 'refus': 'refused', 'misplac': 'misplaced', 'receipt': 'receipt', 'spend': 'spend', 'second-hand': 'second-hand', 'heart': 'heart', 'increment': 'incrementally', 'date/tim': 'date/time', 'abil': 'ability', 'kit': 'kit', 'usag': 'usage', 'dyi': 'dyi', 'craftsman': 'craftsman', 'trade': 'trade', 'picki': 'picky', 'delight': 'delighted', 'decept': 'deceptively', 'loudest': 'loudest', 'unexpect': 'unexpected', 'shirt': 'shirt', 'stuff': 'stuff', 'earlier': 'earlier', 'skeptic': 'skeptical', 'icon': 'iconic', 'war': 'wars', 'fanat': 'fanatic', 'disney': 'disney', '.i': '.i', 'massiv': 'massive', 'maroon': 'maroon', 'retail': 'retail', 'market': 'market', 'status': 'status', 'symbol': 'symbol', 'depend': 'depending', 'versioon': 'versioon', 'male': 'male', 'centimet': 'centimeter', 'ebay': 'ebay', 'defect': 'defective', 'wheel': 'wheel', 'unscrupul': 'unscrupulous', '24-hour': '24-hour', 'inconveni': 'inconvenience', 'asap': 'asap', 'anyhow': 'anyhow', 'one-minut': 'one-minute', 'pour': 'pouring', 'in.': 'in.', '26k': '26k', 'industri': 'industrial', 'rise': 'rise', 'appoint': 'appointments', 'sub-': 'sub-', 'diesel': 'diesel', 'sculpt': 'sculpted', 'along': 'along', 'various': 'various', 'applications.': 'applications.', 'all-in-al': 'all-in-all', 'killer': 'killer', 'mauistylealoha.com': 'mauistylealoha.com', 'sk8maui.com': 'sk8maui.com', 'texasstyleskateboarding.com': 'texasstyleskateboarding.com', '..i': '..i', 'aka': 'aka', 'outdoor': 'outdoors', 'straightforward': 'straightforward', 'go.': 'go.', '.but': '.but', 'deserv': 'deserves', 'equip': 'equipment', 'ding': 'ding', 'it..': 'it..', 'far..': 'far..', 'dissapoint': 'dissapointed', 'cruis': 'cruise', 'pleasant': 'pleasantly', 'aluminum': 'aluminum', 'common': 'common', 'father-in-law': 'father-in-law', 'off.': 'off.', 'fear': 'fear', 'suprem': 'supremely', 'follow': 'follow', 'onlook': 'onlookers', 'phlip': 'phlip', 'stein': 'stein', 'fruitz': 'fruitz', 'royal': 'royal', 'peel': 'peeling', 'their': 'their', 'off.and': 'off.and', '3d': '3d', 'trim': 'trim', 'declin': 'decline', 'inevit': 'inevitably', 'custserv': 'custserv', 'timex.com.': 'timex.com.', 'repli': 'replied', 'pre-paid': 'pre-paid', 'mail': 'mailing', 'rw': 'rw', 'spent.': 'spent.', 'mike': 'mike', 'stretchi': 'stretchy', 'doe': 'does', 'zodiac': 'zodiac', '/mechan': '/mechanical', 'physic': 'physically', 'generic': 'generic', 'polici': 'policy', 'refund.': 'refund.', '42mm': '42mm', 'have.': 'have.', 'whether': 'whether', 'protrek': 'protrek', 'prg-270': 'prg-270', 'prw-3000': 'prw-3000', 'ton': 'ton', 'both.': 'both.', 'enter': 'enter', 'sgw-100': 'sgw-100', 'sibl': 'siblings', 'ridicul': 'ridiculous', 'amber': 'amber', 'corner': 'corner', 'glue': 'glues', 'ehh': 'ehh', 'crazi': 'crazy', 'silli': 'silly', 'fianc': 'fiance', '.so': '.so', 'florida': 'florida', 'heat': 'heat', 'bargain': 'bargain', 'cloth': 'cloth', 'layout': 'layout', 'fill': 'fills', 'instant': 'instantly', 'high-vis': 'high-visibility', 'abus': 'abusive', 'super-hard': 'super-hard', 'troublesom': 'troublesome', 'watch..': 'watch..', 'blingi': 'blingy', 'immedi': 'immediately', 'outstand': 'outstanding', 'cut': 'cut', 'unhook': 'unhook', 'awar': 'aware', 'estim': 'estimated', 'enorm': 'enormous', 'botton': 'bottons', 'accesori': 'accesoris', 'justic': 'justice', 'scream': 'scream', 'fake': 'fake', 'clamp': 'clamps', 'accord': 'accordance', 'durrabl': 'durrable', 'bore': 'boring', 'trash': 'trash', 'process': 'process', 'rout': 'route', 'explicit': 'explicit', 'earli': 'early', 'flashi': 'flashy', 'wardrob': 'wardrobe', 'expected..': 'expected..', 'record': 'recording', 'watchcheck': 'watchcheck', 'googl': 'google', 'sec/day': 'sec/day', 'laid': 'laid', 'vertic': 'vertical', 'well.': 'well.', 'construction.': 'construction.', 'expos': 'exposed', 'sturdy.': 'sturdy.', 'light.': 'light.', 'luminos': 'luminosity', 'nightstand': 'nightstand', 'faint': 'faint', 'outlin': 'outlines', 'see.': 'see.', 'c': 'c', 'dome': 'domed', 'flat': 'flat', 'date.': 'date.', 'bund': 'bund', 'nato/zulu': 'nato/zulu', 'co.': 'co.', 'sportier': 'sportier', 'consid': 'considering', 'hamilton': 'hamilton', 'consider': 'considerably', 'therefor': 'therefore', 'it.at': 'it.ated', 'stink': 'stinks', 'mildew': 'mildew', 'atroci': 'atrocious', 'simpli': 'simply', 'exceed': 'exceeded', 'attir': 'attire', '*full': '*full', 'disclosure*': 'disclosure*', 'elsewher': 'elsewhere', 'tv': 'tv', 'network': 'network', 'teeter': 'teetering', 'san': 'san', 'mirror': 'mirror', 'gold/gold': 'gold/gold', 'iv': 'iv', 'imo': 'imo', 'explan': 'explanation', 'cutout': 'cutout', 'layer': 'layering', 'cross': 'cross', 'stock': 'stock', 'lest': 'lest', 'vain.': 'vain.', 'micro': 'micro', 'challeng': 'challenging', 'familiar': 'familiar', 'ss': 'ss', 'spot': 'spot', 'sail': 'sailing', 'emphas': 'emphasize', 'micro-adjust': 'micro-adjusts', 'season': 'season', 'increments.': 'increments.', 'ocd': 'ocd', 'serious': 'serious', 'smudg': 'smudged', 'act': 'acts', 'nicknam': 'nickname', 'safeti': 'safety', 'matt': 'matte', 'rigor': 'rigorous', 'haphazardnessha': 'haphazardnesshas', 'etch': 'etched', 'hairlin': 'hairline', 'polish.': 'polish.', 'snapback': 'snapback', 'ronda': 'ronda', '8040n': '8040n', 'yea': 'yea', 'team': 'team', 'intricaci': 'intricacy', 'unriv': 'unrivaled', 'har': 'har', 'attempt': 'attempt', 'redeem': 'redeem', 'public': 'public', 'boost': 'boosting', 'qc': 'qc', 'cs': 'cs', 'weari': 'weary', 'alik': 'alike', 'heck': 'heck', 'continu': 'continued', 'jd': 'jd', 'hand-wind': 'hand-wind', 'encourag': 'encourage', 'promot': 'promote', 'sake': 'sake', 'planet': 'planet', 'energi': 'energy', 'sourc': 'source', 'edit': 'edition', 'specifi': 'specified', 'virtual': 'virtually', 'dexter': 'dexterity', 'octopus': 'octopus', 'grasp': 'grasp', 'exert': 'exert', 'unfasten': 'unfasten', 'blade': 'blade', 'watchmak': 'watchmaker', 'dime': 'dime', 'day/dat': 'day/date', 'share': 'share', '21-jewel': '21-jewel', 'exhibit': 'exhibition', '.work': '.works', 'wait.': 'wait.', 'sweat': 'sweat', 'hardwar': 'hardware', 'think.': 'think.', 'august': 'august', 'seven': 'seven', 'held': 'held', 'forgiv': 'forgivable', 'taper': 'tapering', 'wholeheart': 'wholeheartedly', 'others.': 'others.', '1yr': '1yr', '7mths': '7mths', 'bruis': 'bruises', 'unnotic': 'unnoticeable', 'chiqu': 'chique', 'font': 'font', 'appli': 'apply', 'henc': 'hence', 'basi': 'basis', 'silver/black': 'silver/black', 'combo': 'combo', 'salmon': 'salmon', 'strike': 'striking', 'bubbl': 'bubble', 'tabletop': 'tabletops', '..but': '..but', '.that': '.that', 'hrs': 'hrs', 'adequ': 'adequate', 'tradit': 'traditional', 'feature.': 'feature.', 'facil': 'facility', 'promis': 'promised', 'daniel': 'daniel', 'wellington': 'wellington', 'simplist': 'simplistic', 'w/anyth': 'w/anything', 'whole': 'whole', 'lifeless': 'lifeless', 'mad': 'mad', 'cheap/broken': 'cheap/broken', 'written': 'written', 'dw': 'dw', '20mm': '20mm', 'eas': 'ease', 'slim/averag': 'slim/average', 'tightest': 'tightest', 'slim.': 'slim.', 'inner': 'inner', 'velcro': 'velcro', 'seam': 'seam', 'itchi': 'itchy', 'bother': 'bother', 'start/stop': 'start/stop', 'weigh': 'weighs', 'guarante': 'guarantee', 'budget': 'budgets', 'scuff': 'scuff', 'funki': 'funky', 'warrant': 'warrantly', 'quality.': 'quality.', 'spare': 'spare', 'gadget': 'gadgets', 'skx': 'skx', 'kalashnikov': 'kalashnikovs', 'robust': 'robust', '10-20s': '10-20s', 'regul': 'regulated', 'trace': 'trace', 'evolut': 'evolution', 'interest': 'interesting', 'lineag': 'lineage', '60s': '60s', 'skxa35': 'skxa35', 'fyi': 'fyi', \"mov't\": \"mov't\", 'malaysia': 'malaysia', 'skx173': 'skx173', 'lumibrit': 'lumibrite', 'new.': 'new.', 'beater': \"'beater\", 'reminisc': 'reminiscent', 'era': 'era', 'misalign': 'misaligned', 'chapter': 'chapter', 'insist': 'insisting', 'was/i': 'was/is', 'hill': 'hill', 'fulfil': \"'fulfilled\", 'through': 'through', 'thickish': 'thickish', '13mm': '13mm', 'distanc': 'distance', '45mm': '45mm', 'w/o': 'w/o', 'oval': 'oval', 'strapcod': 'strapcode', 'oyster': 'oyster', 'alignment.a': 'alignment.a', 'veryyyyi': 'veryyyyy', 'goooood': 'goooood', 'canva': 'canvas', 'gunmet': 'gunmetal', 'oversea': 'overseas', 'postag': 'postage', 'ii': 'ii', 'hr': 'hr', 'mont': 'montly', 'stationari': 'stationary', 'garden': 'garden', 'kitchen': 'kitchen', 'dirti': 'dirty', 'gshock': 'gshocks', 'pure': 'pure', 'vibrant': 'vibrant', 'chose': 'chose', 'avoid': 'avoid', 'obnoxi': 'obnoxious', 'club': 'clubs', 'anywher': 'anywhere', 'roller': 'roller', 'overpow': 'overpowering', 'childish': 'childish', 'cartoon': 'cartoon', 'nerf': 'nerf', '80s': '80s', '90s': '90s', 'decad': 'decade', 'afghanistan': 'afghanistan', 'g-': 'g-', 'countri': 'country', 'temperatur': 'temperature', 'access': 'access', '25th': '25th', 'town': 'town', 'tmbr': 'tmbr', 'pick': 'pick', 'ilik': 'ilike', 'protect': 'protect', 'tin': 'tin', '.classic': '.classic', 'elgant': 'elgant', 'finest': 'finest', 'lid': 'lid', 'ssc007': 'ssc007', 'forward': 'forward', 'accustom': 'accustomed', 'techi': 'techie', 'wizard': 'wizard', 'esq': 'esq', 'octan': 'octane', 'discontinued..': 'discontinued..', 'though..': 'though..', 'readable..great': 'readable..great', 'quality..': 'quality..', 'esq-movado': 'esq-movado', 'btw': 'btw', '2nd': '2nd', 'today': 'today', 'portion': 'portion', 'vinyl': 'vinyl', 'split': 'split', 'jar': 'jarring', 'harsh': 'harsh', 'easy-to-loc': 'easy-to-locate', 'unlik': 'unlike', 'sweep': 'sweeping', 'nasti': 'nasty', 'tendenc': 'tendency', 'spontan': 'spontaneously', 'locat': 'location', 'time-set': 'time-setting', 'philadelphia': 'philadelphia', 'compel': 'compelled', 'away': 'away', 'gumbal': 'gumball', 'inferior': 'inferior', 'stray': 'stray', 'replacement.': 'replacement.', 'kill': 'kills', 'weekend': 'weekenders', 'versatil': 'versatile', 'switch': 'switch', 'styles/color': 'styles/colors', 'post': 'posted', 'initi': 'initially', 'suffer': 'suffer', 'snag': 'snag', 'lover': 'lover', 'pathfind': 'pathfinder', 'ten': 'ten', 'bonni': 'bonny', 'j': 'j', 'gianorm': 'gianormous', 'agreement': 'agreement', 'heavy-duti': 'heavy-duty', 'readout': 'readouts', 'jame': 'james', 'bond': 'bond', 'laser': 'laser', 'beam': 'beams', 'decod': 'decoders', 'heaviest': 'heaviest', 'option.': 'option.', 'pun': 'pun', 'intend': 'intended', 'intuitive.': 'intuitive.', 'be': 'be', 'prep': 'prepping', 'emc': 'emc', 'notabl': 'notable', 'eyeglass': 'eyeglasses', 'eyes.': 'eyes.', 'high-end': 'high-end', 'unabl': 'unable', 'outward': 'outwards', 'akribo': 'akribos', 'buttom': 'buttom', 'stop.': 'stop.', 'behind': 'behind', 'offset': 'offset', \"o'clock\": \"o'clock\", 'knurl': 'knurled', 'grip': 'grip', 'sapphir': 'sapphire', 'miner': 'mineral', \"you'l\": \"you'l\", 'ballist': 'ballistic', 'clam': 'clam', 'shell': 'shell', 'rib': 'ribbed', 'roll': 'rolling', 'emit': 'emitting', 'minuet': 'minuet', 'blue/green': 'blue/green', 'oakley': 'oakley', 'hilfig': 'hilfiger', 'anywhere`ord': 'anywhere`order', 'tommi': 'tommy', 'rightn': 'rightn', 'dept': 'dept', 'transact': 'transaction', 'itcsbout': 'itcsbout', 'repres': 'represented', 'tome': 'tome', 'stamp': 'stamp', 'incorrect': 'incorrect', 'backsid': 'backside', 'remak': 'remake', 'stope': 'stoped', 'magnific': 'magnificent', 'workmanship': 'workmanship', 'chime': 'chimes', 'volum': 'volume', 'stone': 'stones', 'instid': 'instide', 'maraca': 'maraca', 'compliments.': 'compliments.', 'email': 'email', 'nifti': 'nifty', 'sued': 'suede', 'pouch': 'pouch', 'fasten': 'fastener', 'flawless': 'flawless', 'stun': 'stunning', 'logo': 'logo', 'workmanship.': 'workmanship.', 'suppl': 'supple', 'breath': 'breathes', 'humid': 'humid', 'perfectly.': 'perfectly.', 'news': 'news', 'christma': 'christmas', 'prank': 'prank', 's***': 's***', 'scrach': 'scrached', 'known': 'known', 'knive': 'knives', 'bolt': 'bolts', 'bent': 'bent', 'legit': 'legit', 'ratti': 'ratty', '.love': '.love', 'administr': 'administrative', 'migrat': 'migrating', 'albeit': 'albeit', 'snug': 'snugly', 'fussi': 'fussy', 'magnifiqu': 'magnifique', 'tough': 'tough', 'it😁👍🏽👍🏽👍🏽👍🏽': 'it😁👍🏽👍🏽👍🏽👍🏽', 'overwhelm': 'overwhelming', 'retir': 'retired', 'replacement/altern': 'replacement/alternate', 'aw80d-1avcb': 'aw80d-1avcb', '10-year': '10-year', 'ana-digi': 'ana-digi', 'picture..would': 'picture..would', 'recommend..': 'recommend..'}\n"
          ],
          "name": "stdout"
        }
      ]
    },
    {
      "cell_type": "markdown",
      "metadata": {
        "collapsed": true,
        "id": "QAWdFqL5E8Uo"
      },
      "source": [
        "# Part 3: TF-IDF\n",
        "\n",
        "TF: Term Frequency\n",
        "\n",
        "IDF: Inverse Document Frequency\n",
        "\n",
        "***example:***\n",
        "\n",
        "document1: \"Arthur da Jason\"\n",
        "\n",
        "document 2: \"Jason da da huang\"\n",
        "\n",
        "document1: tf-idf [1, 0.5, 0.5, 0];  document2: tf-idf [0, 1, 0.5, 1]  \n",
        "\n",
        "2-gram: \n",
        "\n",
        "document 1: Arthur da, da Jason; document 2: Jason da, da da, da huang bigram\n",
        "\n",
        "3-gram:\n",
        "\n",
        "document 1: Athur da Jason;  document 2: Jason da da, da da huang\n",
        "\n",
        "[Arhur, da, Jason...]"
      ]
    },
    {
      "cell_type": "code",
      "metadata": {
        "id": "k-XH7R4pE8Up",
        "colab": {
          "base_uri": "https://localhost:8080/",
          "height": 88
        },
        "outputId": "ba2b3f48-1ff8-41ef-bda8-d2521ea92e8a"
      },
      "source": [
        "# define vectorizer parameters\n",
        "# TfidfVectorizer will help us to create tf-idf matrix\n",
        "# max_df : maximum document frequency for the given word\n",
        "# min_df : minimum document frequency for the given word\n",
        "# max_features: maximum number of words\n",
        "# use_idf: if not true, we only calculate tf\n",
        "# stop_words : built-in stop words\n",
        "# tokenizer: how to tokenize the document\n",
        "# ngram_range: (min_value, max_value), eg. (1, 3) means the result will include 1-gram, 2-gram, 3-gram\n",
        "tfidf_model = TfidfVectorizer(max_df=0.99, max_features=1000,\n",
        "                                 min_df=0.01, stop_words='english',\n",
        "                                 use_idf=True, tokenizer=tokenization_and_stemming, ngram_range=(1,1))\n",
        "\n",
        "tfidf_matrix = tfidf_model.fit_transform(data) #fit the vectorizer to synopses\n",
        "\n",
        "print (\"In total, there are \" + str(tfidf_matrix.shape[0]) + \\\n",
        "      \" reviews and \" + str(tfidf_matrix.shape[1]) + \" terms.\")"
      ],
      "execution_count": null,
      "outputs": [
        {
          "output_type": "stream",
          "text": [
            "/usr/local/lib/python3.6/dist-packages/sklearn/feature_extraction/text.py:385: UserWarning: Your stop_words may be inconsistent with your preprocessing. Tokenizing the stop words generated tokens ['afterward', 'alon', 'alreadi', 'alway', 'anoth', 'anyon', 'anyth', 'anywher', 'becam', 'becom', 'besid', 'cri', 'describ', 'els', 'elsewher', 'empti', 'everi', 'everyon', 'everyth', 'everywher', 'fifti', 'forti', 'henc', 'hereaft', 'herebi', 'howev', 'hundr', 'inde', 'mani', 'meanwhil', 'moreov', 'nobodi', 'noon', 'noth', 'nowher', 'otherwis', 'perhap', 'pleas', 'sever', 'sinc', 'sincer', 'sixti', 'someon', 'someth', 'sometim', 'somewher', 'thenc', 'thereaft', 'therebi', 'therefor', 'togeth', 'twelv', 'twenti', 'whatev', 'whenc', 'whenev', 'wherea', 'whereaft', 'wherebi', 'wherev'] not in stop_words.\n",
            "  'stop_words.' % sorted(inconsistent))\n"
          ],
          "name": "stderr"
        },
        {
          "output_type": "stream",
          "text": [
            "In total, there are 1000 reviews and 245 terms.\n"
          ],
          "name": "stdout"
        }
      ]
    },
    {
      "cell_type": "code",
      "metadata": {
        "id": "SZR6Sfr__aR6",
        "colab": {
          "base_uri": "https://localhost:8080/",
          "height": 884
        },
        "outputId": "500bf1ba-b9b2-4d59-bd17-72e92105303d"
      },
      "source": [
        "print(tfidf_matrix)"
      ],
      "execution_count": null,
      "outputs": [
        {
          "output_type": "stream",
          "text": [
            "  (0, 233)\t0.3384314773121352\n",
            "  (0, 221)\t0.2913457104640176\n",
            "  (0, 72)\t0.48447912757435474\n",
            "  (0, 49)\t0.46320707753263723\n",
            "  (0, 230)\t0.16540744731980545\n",
            "  (0, 124)\t0.26150574089750894\n",
            "  (0, 3)\t0.5055255822169622\n",
            "  (1, 221)\t0.6855151455877585\n",
            "  (1, 230)\t0.389191624445557\n",
            "  (1, 124)\t0.6153038799091247\n",
            "  (3, 165)\t0.382128480198896\n",
            "  (3, 126)\t0.4094324612441284\n",
            "  (3, 156)\t0.5262476537694314\n",
            "  (3, 162)\t0.3362979204153272\n",
            "  (3, 105)\t0.45122907749587593\n",
            "  (3, 240)\t0.30447055612845897\n",
            "  (4, 57)\t0.15318217348217658\n",
            "  (4, 93)\t0.11065612128160672\n",
            "  (4, 112)\t0.22130955741998992\n",
            "  (4, 81)\t0.1748276313072244\n",
            "  (4, 234)\t0.16473514304285583\n",
            "  (4, 228)\t0.17842634892207415\n",
            "  (4, 95)\t0.10774641155392574\n",
            "  (4, 136)\t0.4030645760868654\n",
            "  (4, 29)\t0.29513900050991076\n",
            "  :\t:\n",
            "  (995, 151)\t0.23535263450269214\n",
            "  (995, 195)\t0.22821824487010978\n",
            "  (995, 210)\t0.19250454624278207\n",
            "  (995, 109)\t0.450106621790073\n",
            "  (995, 193)\t0.20203435236685066\n",
            "  (995, 185)\t0.19545102928179944\n",
            "  (995, 0)\t0.17333120006622146\n",
            "  (995, 219)\t0.1847181276873196\n",
            "  (995, 36)\t0.16509285068098697\n",
            "  (995, 134)\t0.38964478171899003\n",
            "  (995, 37)\t0.19861596325687272\n",
            "  (995, 221)\t0.12492449215759577\n",
            "  (995, 72)\t0.20773708621550546\n",
            "  (995, 230)\t0.2127723932087511\n",
            "  (996, 233)\t0.7578589206854989\n",
            "  (996, 221)\t0.6524184671952588\n",
            "  (997, 93)\t1.0\n",
            "  (998, 59)\t0.7091925693177218\n",
            "  (998, 75)\t0.6621330385857828\n",
            "  (998, 230)\t0.24212752598101392\n",
            "  (999, 13)\t0.5875249834721108\n",
            "  (999, 229)\t0.4419682281956171\n",
            "  (999, 114)\t0.46852051444427834\n",
            "  (999, 1)\t0.30830324116076474\n",
            "  (999, 172)\t0.3806784970238784\n"
          ],
          "name": "stdout"
        }
      ]
    },
    {
      "cell_type": "code",
      "metadata": {
        "id": "GoRH6IDVE8Ur",
        "colab": {
          "base_uri": "https://localhost:8080/",
          "height": 374
        },
        "outputId": "1ef8cf3e-8b98-4c05-bb09-aeaf58ec65fc"
      },
      "source": [
        "# check the parameters\n",
        "tfidf_model.get_params()"
      ],
      "execution_count": null,
      "outputs": [
        {
          "output_type": "execute_result",
          "data": {
            "text/plain": [
              "{'analyzer': 'word',\n",
              " 'binary': False,\n",
              " 'decode_error': 'strict',\n",
              " 'dtype': numpy.float64,\n",
              " 'encoding': 'utf-8',\n",
              " 'input': 'content',\n",
              " 'lowercase': True,\n",
              " 'max_df': 0.99,\n",
              " 'max_features': 1000,\n",
              " 'min_df': 0.01,\n",
              " 'ngram_range': (1, 1),\n",
              " 'norm': 'l2',\n",
              " 'preprocessor': None,\n",
              " 'smooth_idf': True,\n",
              " 'stop_words': 'english',\n",
              " 'strip_accents': None,\n",
              " 'sublinear_tf': False,\n",
              " 'token_pattern': '(?u)\\\\b\\\\w\\\\w+\\\\b',\n",
              " 'tokenizer': <function __main__.tokenization_and_stemming>,\n",
              " 'use_idf': True,\n",
              " 'vocabulary': None}"
            ]
          },
          "metadata": {
            "tags": []
          },
          "execution_count": 14
        }
      ]
    },
    {
      "cell_type": "markdown",
      "metadata": {
        "id": "whu1pCOiE8Uv"
      },
      "source": [
        "Save the terms identified by TF-IDF."
      ]
    },
    {
      "cell_type": "code",
      "metadata": {
        "id": "lLdKk6n-E8Uw"
      },
      "source": [
        "# words\n",
        "tf_selected_words = tfidf_model.get_feature_names()"
      ],
      "execution_count": null,
      "outputs": []
    },
    {
      "cell_type": "code",
      "metadata": {
        "id": "6mWvzNWQFB26",
        "colab": {
          "base_uri": "https://localhost:8080/",
          "height": 1000
        },
        "outputId": "ad6c3097-f197-4a12-c1a9-ee55829122db"
      },
      "source": [
        "# print out words\n",
        "tf_selected_words"
      ],
      "execution_count": null,
      "outputs": [
        {
          "output_type": "execute_result",
          "data": {
            "text/plain": [
              "[\"'m\",\n",
              " \"'s\",\n",
              " 'abl',\n",
              " 'absolut',\n",
              " 'accur',\n",
              " 'actual',\n",
              " 'adjust',\n",
              " 'alarm',\n",
              " 'alreadi',\n",
              " 'alway',\n",
              " 'amaz',\n",
              " 'amazon',\n",
              " 'anoth',\n",
              " 'arm',\n",
              " 'arriv',\n",
              " 'automat',\n",
              " 'awesom',\n",
              " 'bad',\n",
              " 'band',\n",
              " 'batteri',\n",
              " 'beauti',\n",
              " 'best',\n",
              " 'better',\n",
              " 'big',\n",
              " 'bit',\n",
              " 'black',\n",
              " 'blue',\n",
              " 'bought',\n",
              " 'box',\n",
              " 'br',\n",
              " 'bracelet',\n",
              " 'brand',\n",
              " 'break',\n",
              " 'bright',\n",
              " 'broke',\n",
              " 'button',\n",
              " 'buy',\n",
              " 'ca',\n",
              " 'came',\n",
              " 'case',\n",
              " 'casio',\n",
              " 'chang',\n",
              " 'cheap',\n",
              " 'clasp',\n",
              " 'classi',\n",
              " 'clock',\n",
              " 'color',\n",
              " 'come',\n",
              " 'comfort',\n",
              " 'compliment',\n",
              " 'cool',\n",
              " 'cost',\n",
              " 'crown',\n",
              " 'crystal',\n",
              " 'dark',\n",
              " 'date',\n",
              " 'daughter',\n",
              " 'day',\n",
              " 'deal',\n",
              " 'definit',\n",
              " 'deliveri',\n",
              " 'design',\n",
              " 'dial',\n",
              " 'differ',\n",
              " 'difficult',\n",
              " 'disappoint',\n",
              " 'display',\n",
              " 'dress',\n",
              " 'durabl',\n",
              " 'easi',\n",
              " 'easili',\n",
              " 'end',\n",
              " 'everi',\n",
              " 'everyday',\n",
              " 'everyth',\n",
              " 'exact',\n",
              " 'excel',\n",
              " 'expect',\n",
              " 'expens',\n",
              " 'face',\n",
              " 'fair',\n",
              " 'far',\n",
              " 'fast',\n",
              " 'featur',\n",
              " 'feel',\n",
              " 'fell',\n",
              " 'fine',\n",
              " 'finish',\n",
              " 'fit',\n",
              " 'function',\n",
              " 'gave',\n",
              " 'gift',\n",
              " 'gold',\n",
              " 'good',\n",
              " 'got',\n",
              " 'great',\n",
              " 'hand',\n",
              " 'happi',\n",
              " 'hard',\n",
              " 'heavi',\n",
              " 'high',\n",
              " 'hold',\n",
              " 'honest',\n",
              " 'hope',\n",
              " 'hour',\n",
              " 'howev',\n",
              " 'husband',\n",
              " 'includ',\n",
              " 'instruct',\n",
              " 'invicta',\n",
              " 'issu',\n",
              " 'item',\n",
              " 'kept',\n",
              " 'know',\n",
              " 'larg',\n",
              " 'leather',\n",
              " 'light',\n",
              " 'like',\n",
              " 'link',\n",
              " 'littl',\n",
              " 'll',\n",
              " 'long',\n",
              " 'look',\n",
              " 'lot',\n",
              " 'love',\n",
              " 'low',\n",
              " 'make',\n",
              " 'mani',\n",
              " 'metal',\n",
              " 'minut',\n",
              " 'model',\n",
              " 'money',\n",
              " 'month',\n",
              " 'movement',\n",
              " \"n't\",\n",
              " 'need',\n",
              " 'new',\n",
              " 'nice',\n",
              " 'night',\n",
              " 'normal',\n",
              " 'number',\n",
              " 'old',\n",
              " 'open',\n",
              " 'oper',\n",
              " 'order',\n",
              " 'origin',\n",
              " 'overal',\n",
              " 'packag',\n",
              " 'paid',\n",
              " 'pay',\n",
              " 'perfect',\n",
              " 'perform',\n",
              " 'person',\n",
              " 'pictur',\n",
              " 'piec',\n",
              " 'pin',\n",
              " 'place',\n",
              " 'plastic',\n",
              " 'pleas',\n",
              " 'point',\n",
              " 'press',\n",
              " 'pretti',\n",
              " 'price',\n",
              " 'problem',\n",
              " 'product',\n",
              " 'purchas',\n",
              " 'qualiti',\n",
              " 'quick',\n",
              " 'quit',\n",
              " 'rate',\n",
              " 'read',\n",
              " 'real',\n",
              " 'realli',\n",
              " 'reason',\n",
              " 'receiv',\n",
              " 'recommend',\n",
              " 'red',\n",
              " 'remov',\n",
              " 'replac',\n",
              " 'resist',\n",
              " 'return',\n",
              " 'review',\n",
              " 'right',\n",
              " 'run',\n",
              " 'said',\n",
              " 'say',\n",
              " 'screw',\n",
              " 'second',\n",
              " 'seiko',\n",
              " 'seller',\n",
              " 'send',\n",
              " 'sent',\n",
              " 'set',\n",
              " 'sever',\n",
              " 'ship',\n",
              " 'short',\n",
              " 'simpl',\n",
              " 'sinc',\n",
              " 'size',\n",
              " 'small',\n",
              " 'smaller',\n",
              " 'solid',\n",
              " 'someth',\n",
              " 'somewhat',\n",
              " 'son',\n",
              " 'star',\n",
              " 'start',\n",
              " 'stop',\n",
              " 'strap',\n",
              " 'sturdi',\n",
              " 'style',\n",
              " 'stylish',\n",
              " 'super',\n",
              " 'sure',\n",
              " 'surpris',\n",
              " 'swim',\n",
              " 'tell',\n",
              " 'thank',\n",
              " 'thing',\n",
              " 'think',\n",
              " 'thought',\n",
              " 'time',\n",
              " 'timex',\n",
              " 'tini',\n",
              " 'tri',\n",
              " 'turn',\n",
              " 'use',\n",
              " 'valu',\n",
              " 've',\n",
              " 'want',\n",
              " 'watch',\n",
              " 'water',\n",
              " 'way',\n",
              " 'wear',\n",
              " 'week',\n",
              " 'weight',\n",
              " 'went',\n",
              " 'wife',\n",
              " 'wind',\n",
              " 'wish',\n",
              " 'work',\n",
              " 'worn',\n",
              " 'worth',\n",
              " 'wrist',\n",
              " 'year']"
            ]
          },
          "metadata": {
            "tags": []
          },
          "execution_count": 16
        }
      ]
    },
    {
      "cell_type": "markdown",
      "metadata": {
        "id": "1hPhgwSeE8U4"
      },
      "source": [
        "# (Optional) Calculate Document Similarity"
      ]
    },
    {
      "cell_type": "code",
      "metadata": {
        "scrolled": true,
        "id": "NI1CN6m6E8U5",
        "colab": {
          "base_uri": "https://localhost:8080/",
          "height": 136
        },
        "outputId": "62cf49d4-d128-47cc-9f06-df04fe3a9043"
      },
      "source": [
        "# use cosine similarity to check the similarity for two documents\n",
        "from sklearn.metrics.pairwise import cosine_similarity\n",
        "cos_matrix = cosine_similarity(tfidf_matrix)\n",
        "print (cos_matrix)"
      ],
      "execution_count": null,
      "outputs": [
        {
          "output_type": "stream",
          "text": [
            "[[1.         0.42500259 0.         ... 0.         0.0400497  0.        ]\n",
            " [0.42500259 1.         0.         ... 0.         0.09423401 0.        ]\n",
            " [0.         0.         0.         ... 0.         0.         0.        ]\n",
            " ...\n",
            " [0.         0.         0.         ... 1.         0.         0.        ]\n",
            " [0.0400497  0.09423401 0.         ... 0.         1.         0.        ]\n",
            " [0.         0.         0.         ... 0.         0.         1.        ]]\n"
          ],
          "name": "stdout"
        }
      ]
    },
    {
      "cell_type": "markdown",
      "metadata": {
        "id": "XEcwtws5E8U8"
      },
      "source": [
        "# Part 4: K-means clustering"
      ]
    },
    {
      "cell_type": "code",
      "metadata": {
        "scrolled": true,
        "id": "7LJQ5i3IE8U9"
      },
      "source": [
        "# k-means clustering\n",
        "from sklearn.cluster import KMeans\n",
        "\n",
        "num_clusters = 5\n",
        "\n",
        "# number of clusters\n",
        "km = KMeans(n_clusters=num_clusters)\n",
        "km.fit(tfidf_matrix)\n",
        "\n",
        "clusters = km.labels_.tolist()"
      ],
      "execution_count": null,
      "outputs": []
    },
    {
      "cell_type": "markdown",
      "metadata": {
        "id": "fboVpRAfE8U-"
      },
      "source": [
        "## 4.1. Analyze K-means Result"
      ]
    },
    {
      "cell_type": "code",
      "metadata": {
        "id": "KGs4aIIME8U_"
      },
      "source": [
        "# create DataFrame films from all of the input files.\n",
        "product = { 'review': df[:1000].product_title, 'cluster': clusters}\n",
        "frame = pd.DataFrame(product, columns = ['review', 'cluster'])"
      ],
      "execution_count": null,
      "outputs": []
    },
    {
      "cell_type": "code",
      "metadata": {
        "id": "APmEUmm6E8VC",
        "colab": {
          "base_uri": "https://localhost:8080/",
          "height": 359
        },
        "outputId": "03f57929-45ab-4074-80be-da27fd16f194"
      },
      "source": [
        "frame.head(10)"
      ],
      "execution_count": null,
      "outputs": [
        {
          "output_type": "execute_result",
          "data": {
            "text/html": [
              "<div>\n",
              "<style scoped>\n",
              "    .dataframe tbody tr th:only-of-type {\n",
              "        vertical-align: middle;\n",
              "    }\n",
              "\n",
              "    .dataframe tbody tr th {\n",
              "        vertical-align: top;\n",
              "    }\n",
              "\n",
              "    .dataframe thead th {\n",
              "        text-align: right;\n",
              "    }\n",
              "</style>\n",
              "<table border=\"1\" class=\"dataframe\">\n",
              "  <thead>\n",
              "    <tr style=\"text-align: right;\">\n",
              "      <th></th>\n",
              "      <th>review</th>\n",
              "      <th>cluster</th>\n",
              "    </tr>\n",
              "  </thead>\n",
              "  <tbody>\n",
              "    <tr>\n",
              "      <th>0</th>\n",
              "      <td>Invicta Women's 15150 \"Angel\" 18k Yellow Gold ...</td>\n",
              "      <td>3</td>\n",
              "    </tr>\n",
              "    <tr>\n",
              "      <th>1</th>\n",
              "      <td>Kenneth Cole New York Women's KC4944 Automatic...</td>\n",
              "      <td>3</td>\n",
              "    </tr>\n",
              "    <tr>\n",
              "      <th>2</th>\n",
              "      <td>Ritche 22mm Black Stainless Steel Bracelet Wat...</td>\n",
              "      <td>2</td>\n",
              "    </tr>\n",
              "    <tr>\n",
              "      <th>3</th>\n",
              "      <td>Citizen Men's BM8180-03E Eco-Drive Stainless S...</td>\n",
              "      <td>2</td>\n",
              "    </tr>\n",
              "    <tr>\n",
              "      <th>4</th>\n",
              "      <td>Orient ER27009B Men's Symphony Automatic Stain...</td>\n",
              "      <td>2</td>\n",
              "    </tr>\n",
              "    <tr>\n",
              "      <th>5</th>\n",
              "      <td>Casio Men's GW-9400BJ-1JF G-Shock Master of G ...</td>\n",
              "      <td>3</td>\n",
              "    </tr>\n",
              "    <tr>\n",
              "      <th>6</th>\n",
              "      <td>Fossil Women's ES3851 Urban Traveler Multifunc...</td>\n",
              "      <td>0</td>\n",
              "    </tr>\n",
              "    <tr>\n",
              "      <th>7</th>\n",
              "      <td>INFANTRY Mens Night Vision Analog Quartz Wrist...</td>\n",
              "      <td>2</td>\n",
              "    </tr>\n",
              "    <tr>\n",
              "      <th>8</th>\n",
              "      <td>G-Shock Men's Grey Sport Watch</td>\n",
              "      <td>0</td>\n",
              "    </tr>\n",
              "    <tr>\n",
              "      <th>9</th>\n",
              "      <td>Heiden Quad Watch Winder in Black Leather</td>\n",
              "      <td>2</td>\n",
              "    </tr>\n",
              "  </tbody>\n",
              "</table>\n",
              "</div>"
            ],
            "text/plain": [
              "                                              review  cluster\n",
              "0  Invicta Women's 15150 \"Angel\" 18k Yellow Gold ...        3\n",
              "1  Kenneth Cole New York Women's KC4944 Automatic...        3\n",
              "2  Ritche 22mm Black Stainless Steel Bracelet Wat...        2\n",
              "3  Citizen Men's BM8180-03E Eco-Drive Stainless S...        2\n",
              "4  Orient ER27009B Men's Symphony Automatic Stain...        2\n",
              "5  Casio Men's GW-9400BJ-1JF G-Shock Master of G ...        3\n",
              "6  Fossil Women's ES3851 Urban Traveler Multifunc...        0\n",
              "7  INFANTRY Mens Night Vision Analog Quartz Wrist...        2\n",
              "8                     G-Shock Men's Grey Sport Watch        0\n",
              "9          Heiden Quad Watch Winder in Black Leather        2"
            ]
          },
          "metadata": {
            "tags": []
          },
          "execution_count": 20
        }
      ]
    },
    {
      "cell_type": "code",
      "metadata": {
        "id": "Ht1SbbOSE8VE",
        "colab": {
          "base_uri": "https://localhost:8080/",
          "height": 221
        },
        "outputId": "bfa40576-5947-4d2c-8255-b7872f3fd210"
      },
      "source": [
        "print (\"Number of reviews included in each cluster:\")\n",
        "frame['cluster'].value_counts().to_frame()"
      ],
      "execution_count": null,
      "outputs": [
        {
          "output_type": "stream",
          "text": [
            "Number of reviews included in each cluster:\n"
          ],
          "name": "stdout"
        },
        {
          "output_type": "execute_result",
          "data": {
            "text/html": [
              "<div>\n",
              "<style scoped>\n",
              "    .dataframe tbody tr th:only-of-type {\n",
              "        vertical-align: middle;\n",
              "    }\n",
              "\n",
              "    .dataframe tbody tr th {\n",
              "        vertical-align: top;\n",
              "    }\n",
              "\n",
              "    .dataframe thead th {\n",
              "        text-align: right;\n",
              "    }\n",
              "</style>\n",
              "<table border=\"1\" class=\"dataframe\">\n",
              "  <thead>\n",
              "    <tr style=\"text-align: right;\">\n",
              "      <th></th>\n",
              "      <th>cluster</th>\n",
              "    </tr>\n",
              "  </thead>\n",
              "  <tbody>\n",
              "    <tr>\n",
              "      <th>2</th>\n",
              "      <td>659</td>\n",
              "    </tr>\n",
              "    <tr>\n",
              "      <th>3</th>\n",
              "      <td>108</td>\n",
              "    </tr>\n",
              "    <tr>\n",
              "      <th>0</th>\n",
              "      <td>96</td>\n",
              "    </tr>\n",
              "    <tr>\n",
              "      <th>1</th>\n",
              "      <td>76</td>\n",
              "    </tr>\n",
              "    <tr>\n",
              "      <th>4</th>\n",
              "      <td>61</td>\n",
              "    </tr>\n",
              "  </tbody>\n",
              "</table>\n",
              "</div>"
            ],
            "text/plain": [
              "   cluster\n",
              "2      659\n",
              "3      108\n",
              "0       96\n",
              "1       76\n",
              "4       61"
            ]
          },
          "metadata": {
            "tags": []
          },
          "execution_count": 21
        }
      ]
    },
    {
      "cell_type": "code",
      "metadata": {
        "scrolled": false,
        "id": "PEk3P4BTE8VI",
        "colab": {
          "base_uri": "https://localhost:8080/",
          "height": 394
        },
        "outputId": "3d8aaefd-9f1a-47b6-85b9-999d8a252c5d"
      },
      "source": [
        "print (\"<Document clustering result by K-means>\")\n",
        "\n",
        "#km.cluster_centers_ denotes the importances of each items in centroid.\n",
        "#We need to sort it in decreasing-order and get the top k items.\n",
        "order_centroids = km.cluster_centers_.argsort()[:, ::-1]  \n",
        "#argsort： 选出array里最大值\n",
        "#cluster_centers_ array，看中心点，5个cluster*245feature/words/tf-idf的值\n",
        "\n",
        "Cluster_keywords_summary = {}\n",
        "for i in range(num_clusters):\n",
        "    print (\"Cluster \" + str(i) + \" words:\", end='')\n",
        "    Cluster_keywords_summary[i] = []\n",
        "    for ind in order_centroids[i, :6]: #replace 6 with n words per cluster\n",
        "        Cluster_keywords_summary[i].append(vocab_frame_dict[tf_selected_words[ind]])\n",
        "        print (vocab_frame_dict[tf_selected_words[ind]] + \",\", end='')\n",
        "    print ()\n",
        "    \n",
        "    cluster_reviews = frame[frame.cluster==i].review.tolist()\n",
        "    print (\"Cluster \" + str(i) + \" reviews (\" + str(len(cluster_reviews)) + \" reviews): \")\n",
        "    print (\", \".join(cluster_reviews))\n",
        "    print ()\n",
        "  \n",
        "  # 从每个cluster里拿出前几重要的词\n",
        "  # 强行看"
      ],
      "execution_count": null,
      "outputs": [
        {
          "output_type": "stream",
          "text": [
            "<Document clustering result by K-means>\n",
            "Cluster 0 words:great,watch,looks,price,work,comfortable,\n",
            "Cluster 0 reviews (96 reviews): \n",
            "Fossil Women's ES3851 Urban Traveler Multifunction Stainless Steel Watch - Rose, G-Shock Men's Grey Sport Watch, HDE Watch Link Pin Remover Band Strap Repair Tool Kit for Watchmakers with Pack of 3 Extra Pins, August Steiner Men's AS8160TTG Silver And Gold Swiss Quartz Watch with Black Dial and Two Tone Bracelet, Lucien Piccard Men's 11577-RG-02S Stockhorn Silver Textured Dial Brown Leather Watch, Timex Ironman Sleek 50-Lap Full Size, Seiko Men's SNKL43 \"Seiko 5\" Stainless Steel Automatic Watch, Hadley-Roma Men's MSM881RB-170 17-mm Brown Oil-Tan Leather Watch Strap, Michael Kors Petite Silvertone Darci Watch, Ceramic Bezel Insert for Rolex Sea-dweller Deep Sea, Fossil Fossil Ladies Multi-Function White Ceramic Watch, Casio GD110-2CR 55mm Blue Plastic Band & Case Men's Watch, Casio G-Shock Digital Dial Resin Quartz Men's Watch DW6900WW-7, Game Time Men's NFL Beast Watch, Tommy Hilfiger Men's 1710330 Stainless Steel Watch with Black Genuine Leather Band, Ostri Ladies Star Series Waterproof Retro Watch Color Black, G-SHOCK Men's GA-100 Limited Edition Watch, 6900 Military Watch - Mens, Burberry The City Champagne Dial Haymarket Check Strap Unisex Watch BU9026, Paylak UNIKEY-1E Even Sizes 5 Prong Universal Clock Key for Winding Clocks, Invicta Men's 18037SYB Pro Diver Gunmetal Ion-Plated Stainless Steel Watch, CASIO F91W-1 Casual Sport Watch, Invicta Men's 9204 Pro Diver Collection Silver-Tone Watch, Watch Box Carbon Fiber Finish Wood Constructed 5 Large Compartments High Clearance Glass Window, Citizen Men's CA4170-51E Shadowhawk Eco-Drive Stainless Steel Bracelet Watch, Casio Men's AW80V-5BV, Timex Men's Expedition Field Chronograph Watch, Casio Men's W756-1AVCR Sport Watch, Original Casio Capacitor Battery CTL1616, Casio Men's GA100SD-8A G-Shock Military Watch, Skagen Women's SKW2142 Gitte Rose Gold Mesh Watch, Men's Gold-Tone Casio World Time Stainless Steel Watch A500WGA-1, Kenneth Cole New York Men's KC1995 Classic Grey Dial Rose Gold Details Analog Watch, Oulm Analog Dark Brown Leather Strap Four Sub-dials Men Watch, Casio Men's STB-1000-1CF OmniSync Sports Gear Bluetooth Fitness Smartwatch, Tommy Hilfiger Men's 1791061 Analog Display Quartz Silver Watch, ESS Men's Stainless Steel Case White Dial Amber Front Antique Pocket Watch with Chain WP013-ESS, Timex Men's Expedition Field Chronograph Watch, Peugeot Rectangle Deco Crystal Bezel Bracelet Dress Watch, Versus Tokyo R Mens Watch Black, Invicta Men's 8928OB Pro Diver Gold Stainless Steel Two-Tone Automatic Watch, Invicta Men's 17794 Pro Diver Analog Display Quartz Grey Watch, Bestpriceam® New Butterfly Diamond Watch Gold Dial Leather Band Quartz Wrist Watch Purple, Casio Men's VA430TDA-1A3V Waveceptor Titanium Atomic Solar Watch, Invicta Men's 16992 Venom Analog Display Swiss Quartz Black Watch, Timex Unisex T2N889 \"Weekender\" Black and Gray Nylon Strap Watch, DASSARI Monaco Smooth Leather Watch Band for panerai, DETOMASO Men's Quartz Stainless Steel and Leather Casual Watch, Color:Black (Model: DT1068-A), 2 Pack White and Black Geneva Women's Large Round Face Silicone Rainbow Numbers Watch, Tommy Hilfiger  Men's 1710294 Stainless Steel Watch with Brown Leather Band, U.S. Polo Assn. Classic Men's USC50233 Analog Display Analog Quartz Brown Watch, Tommy Hilfiger Men's 1790877 Silver-Tone Stainless Steel Watch, Nixon Men's 51-30 Chronograph Stainless Steel Watch With Leather Band, G-Shock GA100A-7A Classic Series Designer Watches - White, GEN Bamboo LeGENd Men's Wooden Bamboo Watch in Black with Genuine Leather Strap (Japanese Quartz), Seiko Men's SKX007K Diver's Automatic Watch, Festina Women's F16580/3 Brown Leather Quartz Watch with Brown Dial, G-SHOCK The GA 100 Military Series Watch in Black,Watches for Men, Timex Fieldstone Way Watch, Freestyle Tide 3.0, Luminox Men's 3067 EVO Navy SEAL Colormark Watch, 22mm Military MoD Ballistic Nylon G10 Watch Band - Black with Grey & Orange stripes, [Upgrades]CHIYODA Single Watch Winder with Quiet Motor-12 Rotation Modes, Casio Men's A158WEA-9CF Casual Classic Digital Bracelet Watch, Dyn Mens Y27 Analog Digital Talking Watch, Readeel New Casual Watch Leather Black Strap Military Army Wrist Watch Man watch Date Week Display Watch Quartz Watch,White, G-Shock Men's Military GD-400 Watch, Black, One Size, Disney Unisex W001989 Mickey Mouse Analog Display Analog Quartz Black Watch, Freestyle Unisex 102282 Predator Blue Detail Digital Canvas  Velcro Watch, Casio Men's MTP1240D-2A Silver Stainless-Steel Quartz Watch with Blue Dial, Invicta Men's 18819 Subaqua Analog Display Swiss Quartz Silver Watch, Seiko Men's SNKM95 Stainless Steel Automatic Watch with Blue Canvas Band, Casio G-Shock Mens Watch G8900A-4D, Casio Women's LA-11WB-4UW Digital watch, SS.COM 1 x BLUE Slap On Quartz Silicone Sports Watch, Iced Out Watches LUXURMAN Real Diamond Watch for Men in Stainless Steel with Diamond Band 1.25ct, TKO ORLOGI Women's TK642TQ Floral Analog Display Quartz Multi-Color Watch, Casio Men's Dive Style Watch, Nemesis #IN-BS Wide Brown Leather Cuff Wrist Watch Band, Bluetooth Smart Watch Gold Case with SIM SLOT and Camera works with Android phones, Timex Women's T2P0959J Analog Display Beige Watch, Invicta Men's 19222 Specialty Analog Display Japanese Quartz Gold Watch, 22mm Military MoD Ballistic Nylon G10 Watch Band - Orange, Timex Unisex Weekender Analog Quartz Watch, G-Shock DW6900-1V Men's Black Resin Sport Watch, Invicta Men's 12404 Vintage Mechanical Blue Dial Black Leather Watch, Tommy Hilfiger Men's 1791062 Stainless Steel Watch with Blue Silicone Band, Timex Men's T2P0439J Analog Display Analog Quartz Black Watch, Casio Men's PAW1300T-7V \"Pathfinder\" Resin Watch, Skagen Men's SKW6019 Havene Stainless Steel Mesh Watch, Nixon 48-20 Chronograph White Dial Black Leather Mens Watch A363486, SE JT6216 21-Piece Watch Repair Kit, Stuhrling Original Men's 879.03 Leisure Sniper Transparent Swiss Quartz Black Rubber Strap Gunmetal Watch, Seiko Mantel Chime Clock Brown Wooden Case, Nixon Men's A058-100 Stainless Steel Analog with White Dial Watch, Mens Rubbertech Silicone Rubber Watchband Stainless Steel Buckle 22mm Wide Buckle - by JP Leatherworks\n",
            "\n",
            "Cluster 1 words:good,product,quality,seller,'s,looks,\n",
            "Cluster 1 reviews (76 reviews): \n",
            "Luminox Men's 3081 Evo Navy SEAL Chronograph Watch, Voguestrap TX046801XL Allstrap 16-20mm Brown Extra-Long-Length Fits Fast-Wrap Expedition Watchband, XOXO Women's XO110 Silver Dial Gold-tone Bracelet Watch, Akribos XXIV Men's AK787YGBU Quartz Movement Watch with Blue Dial and Yellow Gold Stainless Steel Bracelet, AMPM24 Men's Hand-winding Mechanical Watch Black Leather Watchband Skeleton PMW069, Gotham Men's Silver-Tone Ultra Thin Railroad Open Face Quartz Pocket Watch # GWC15022S, Casio Unisex MRW200H-2BV Neo-Display Black Watch with Resin Band, Seiko Wall Clock Silver-Tone Metallic Case Luminous  Numerals, Casio Men's STB-1000-1CF OmniSync Sports Gear Bluetooth Fitness Smartwatch, Casio Men's PRG-270B-1CR PRO TREK Aviator Black Watch, Casio Men's Dive Style Watch, DASSARI Carrera Distressed Leather GT Rally Racing Watch Strap, CYMA 18mm Black Alligator Grain Genuine Leather Watchband with Gold-Plated S/S Buckle, Burgi Women's BUR102TTG Silver and Yellow Gold Quartz Watch with White Dial and Silver and Yellow Gold Bracelet, Timex Men's Easy Reader Date Leather Strap Watch, Lucien Piccard Men's LP-13346-02 Peak Analog Display Japanese Quartz Black Watch, Casio Men's GA201-1 G-Shock Shock Resistant Sport Watch With Black Resin Band, Casio Men's PRW-3500Y-4CR Atomic Black Digital with Red Resin Band, Watch, Unisex Fashion Sport Watch Multifunction Multi-colour Led LAnalog Digital Waterproof Alarm Wristwatch, Roots Men's 1R-AT104WH1W Seymour Digital Light Grey Watch, Invicta Women's 6908 II Collection Stainless Steel Watch, LUNIWEI New Dreamcatcher Friendship Bracelet Watches Women Braid Dress ..., Tissot Men's T0854072201100 T Classic Powermatic Automatic Two-Tone Watch, Anleowatch 1PCS Black Watch Men Women Unisex Military Sports Watches Waterproof Quartz Wristwatches, Nautica Men's N16553G Stainless Steel Watch with Black Band, Casio Baby-G Neon Dial Series Women's Watch BGA-131-7B3JF (Japan Import), Seiko Men's SNN237 Sports Black Stainless-Steel Black Chronograph Dial Watch, Armitron Sport Men's 40/8301 Digital Chronograph Resin Strap Watch, Tommy Hilfiger Women's 1781473 Analog Display Quartz Brown Watch, U.S. Polo Assn. Classic Men's USC2254 Set of Two Two-Tone Watches, Casio watch strap watchband Resin Band dark Blue for PRG-550-2 PRG-550 PRG-260, U.S. Polo Assn. Women's USC40063 Gold-Tone and Pink Bracelet Watch, ESQ Movado Unisex 07301432 ESQ ONE Black Stainless Steel Watch with Yellow Silicone Band, Technomarine Cruise Original Chronograph Steel Unisex Watch Rubber Strap Silver Dial 110046, Invicta Men's 6977 Pro Diver Collection Chronograph Black Dial Black Polyurethane Watch, Casio Unisex MTP-S100L-7B2VCF Solar Easy-To-Read Watch with Brown Band, Timex Women's Q7B852 Padded Calfskin 12mm Brown Replacement Watchband, Tommy Hilfiger Women's 1781210 Sport Tank Gold Plated Tan Watch, Seiko Men's SNK601 Seiko 5 Automatic Silver Dial Stainless Steel Bracelet Watch, Curren White Case Stainless Steel Band Men Analog Wrist Watch (White), Timex Men's Q7B765 Genuine Padded Oiled Leather 18mm Brown Replacement Watchband, G-SHOCK Men's GA-100 Limited Edition Watch, Daniel Wellington Women's 0501DW Oxford Analog Display Quartz Multi-Color Watch, G-Shock GA-1000-1A Aviation Series Men's Luxury Watch - Black / One Size, HACBIWA Classic Men Big Dial Brown Wrist Watch on Sale Gift, Nautica Men's N20503G NST Stainless Steel Watch, XOXO Women's XO9043 Seven Color Silicone Rubber Interchangeable Strap Set Watch, SE JT6216 21-Piece Watch Repair Kit, Invicta Men's 8928OB Pro Diver Gold Stainless Steel Two-Tone Automatic Watch, Swiss Legend Men's 30427-YG-02 Airbourne Analog Display Swiss Quartz White Watch, Casio Women's BA-110-7A1CR Baby-G Rose Gold Analog-Digital Watch with White Resin Band, Elegant Rose Golden Oval Quartz Watch OL Lady Cuff Bangle Bracelet, G-Shock GA-110 Garish Trending Series Men's Luxury Watch - White / One Size, Readeel Harajuku Retro Trend of Men Watch Quartz Watch Brown Leather Band Yellow Digital Date Watch Men Watch, Bilingual Week Shows,adjustable, Diplomat Double Metallic Silver / Black Watch Winder with Built In IC Timer, Casio Men's EF106SG-2AV Edifice Two-Tone Stainless Steel Watch, Daniel Wellington Women's 0508DW Sheffield Analog Quartz Black Leather Watch, Luxury Sport Watches For Men Skeleton Wrist Watches Automatic Winding Mechanical Movement, Fossil Fs4487p Machine Chronograph Black Silicone Watch Watch For Men, LEMFO Bluetooth Smart Watch WristWatch U8 U Watch for Android Samsung S2 S3 S4 S5 Note 2 3 iphone 4 4S 5 5C 5S (Black), Skagen Men's 915XLSSS Steel Matte Textured Mesh Accents Watch, Seiko Women's SUP237 \"Tressia\" Diamond-Accented Stainless Steel Solar Watch, Tommy Hilfiger Men's 1791121 Sophisticated Sport Gold-Tone Stainless Steel Watch, Timex Women's T2H641 Classic Black Leather Strap Watch, Timex Ironman Sleek 50 Lap, Vince Camuto Men's VC/1005BLTR \"The Spectator\" Stainless Steel and Rose-Tone Blue Dial Watch, Casio Men's MTP1316D-9AV Silver Stainless-Steel Quartz Watch with Grey Dial, Daniel Wellington Men's 0105DW Analog Quartz Classic Warwick Stainless Steel Watch with Striped Nylon Band, SE Watch Battery Replacement Kit, Skagen Men's SK696XLTBB Titanium Black Dial Watch, U.S. Polo Assn. Classic Men's USC50192 Analog Display Analog Quartz White Watch, Seiko Men's SSC081 Adventure-Solar Classic Casual Watch, Hamilton Men's Khaki Regatta watch #H77614133, Caravelle by Bulova Women's 43L131 Antique Black Watch, Kenneth Cole Reaction Unisex RK1325 Street Triple Black Bright Blue Dial Watch, Caravelle by Bulova Women's 43L125 Easy Read Classic Tank Watch\n",
            "\n",
            "Cluster 2 words:watch,like,looks,'s,n't,band,\n",
            "Cluster 2 reviews (659 reviews): \n",
            "Ritche 22mm Black Stainless Steel Bracelet Watch Band Strap Pebble Time/Pebble Classic, Citizen Men's BM8180-03E Eco-Drive Stainless Steel Watch with Green Canvas Band, Orient ER27009B Men's Symphony Automatic Stainless Steel Black Dial Mechanical Watch, INFANTRY Mens Night Vision Analog Quartz Wrist Watch with Nato Nylon Watchband-Red., Heiden Quad Watch Winder in Black Leather, Fossil Women's ES3621 Serena Crystal-Accented Two-Tone Stainless Steel Watch, Casio General Men's Watches Sporty Digital AE-2000W-1AVDF - WW, 2Tone Gold Silver Cable Band Ladies Bangle Cuff Watch, Bulova Men's 98B143 Precisionist Charcoal Grey Dial Bracelet Watch, Casio - G-Shock - Gulfmaster - Black - GWN1000C-1A, Invicta Men's 3329 Force Collection Lefty Watch, Seiko Women's SUT068 Dress Solar Classic Diamond-Accented Two-Tone Stainless Steel Watch, Anne Klein Women's 109271MPTT Swarovski Crystal Accented Two-Tone Multi-Chain Bracelet Watch, Nixon Men's Geo Volt Sentry Stainless Steel Watch with Link Bracelet, Nautica Men's N14699G BFD 101 Chrono Classic Stainless Steel Watch with Brown Band, Timex Women's Q7B860 Padded Calfskin 8mm Black Replacement Watchband, Movado Men's 0606545 \"Museum\" Perforated Black-Rubber Strap Sport Watch, Invicta Men's 6674 Corduba Chronograph Black Dial Polyurethane Watch, Szanto Men's SZ 2001 2000 Series Classic Vintage-Inspired Stainless Steel Watch with Pebbled Leather Band, Casio F-108WH-2AEF Mens Blue Digital Watch, Invicta Men's 8928OB Pro Diver Gold Stainless Steel Two-Tone Automatic Watch, BOS Men's Automatic self-wind mechanical Pointer Skeleton Watch Black Dial Stainless Steel Band 9008, INFANTRY Mens 50mm Big Face Military Tactical Analog Digital Sport Wrist Watch Black Silicone Band, BUREI Dress Women's Minimalist Wrist Watches with Date Analog Quartz Stainless Steel and Ultra Slim Dial, Motorola Moto 360 Modern Timepiece Smart Watch - Black Leather 00418NARTL, Casio Women's LQ139B-1B Classic Round Analog Watch, Invicta Men's 15256 I-Force Gunmetal Ion-Plated Stainless Steel Watch with Black Leather Strap, Casio Men's Slim Solar Multi-Function Analog-Digital Watch, TS6202BLK 8 Belt Box Organizer Black Leather XL Compartments, Casio Men's GW2310FB-1CR G-Shock Shock Resistant Multifunction Watch, U.S. Polo Assn. Sport Men's US9506 Analog-Digital Display Silver-Tone Watch with Textured Band, Cerentino Women's CR106-TQ  Turquoise Silicone Rubber Rhinestones Watch, Motorola Moto 360 Modern Timepiece Smart Watch - Black Leather 00418NARTL, Ingersoll Men's IN1824CR Monticello Fine Automatic Timepiece Cream Dial Watch, Lucien Piccard Men's 11576-YG-01 Clariden Black Textured Dial Watch, XOXO Women's XO5478 Rhinestone-Accented Two-Tone Watch, Watch Case Press with 12 Nylon Dies, Watch Case Closer Set, iStrap Calfskin Leather Watch Band Replacement Choice of Color & Width (18mm,19mm, 20mm,21mm or 22mm), G-SHOCK Men's GA-100 Neon Highlights Watch, Invicta Men's 8926OB Pro Diver Stainless Steel Automatic Watch with Link Bracelet, Absolute Hot Iron man Super Hero build-in Blue LED for Men's luxury Army military Wrist Watches, Seiko Men's White Dial Brown Leather Easy Reader Solar Calendar Watch, Armitron Sport Women's 25/6416 Easy To Read Dial Resin Strap Watch, Seiko Men's SNK809 Seiko 5 Automatic Stainless Steel Watch with Black Canvas Strap, Tissot Women's T0492103303300 PR 100 Gold-Tone Silver Dial Watch, CASIO BABY-G (BG-6900SG-8JF) GLITTER DIAL SERIES LADY'S WATCH JAPANESE MODEL 2014 JULY RELEASED, Casio Men's AW80V-1BV, Citizen Men's AT8020-54L Blue Angels Stainless Steel Eco-Drive Dress Watch, Outop Wholesale Lot of 5pcs Womens Girls Butterfly Bracelet Wrist Watches, Timex Kids' T7B9829J IronKids Translucent Blue Sport Watch, Cool Men's Racer Military Pilot Army Silicone Sports Watch, Armitron Men's Black Sunray Dial Silvertone Bracelet Watch, Topwell Mens Wood watches, Date Time 24hours Wooden watch with Round Multi-Eyed QUARTZ Wrist Watch for Gift, Armitron Sport Women's 25/6422BLK Easy to Read Dial Black Resin Strap Watch, Swiss Legend Men's 10068-03 Commander II Analog Display Swiss Quartz Blue Watch, Stuhrling Original Men's 219.331657 Symphony Eternity Monterey Swiss Quartz Date Watch, LuckyStore 14mm 5X Watch Band Stainless Steel Spring Bars Strap Link Pin Watchmaker New, red line Men's RL-50042-YG-01 Stealth Chronograph Black Textured Dial Black Silicone Watch, Invicta Men's 14640 I-Force Analog Display Japanese Quartz Black Watch, Tommy Hilfiger  Women's 1781145 Sport Stainless Steel  Watch, GUESS U17531G1 - Bold and Sporty Watch Silver, Armitron Men's 20/5048 Day/Date Function Dial Croco-Grain Leather Strap Watch, Stuhrling Original Men's 238.321K43 Ascot Newberry Analog Swiss Quartz Brown Leather Watch, Timex Expedition Rugged Metal Watch, Tommy Hilfiger  Women's 1781145 Sport Stainless Steel  Watch, Dasone D0014 Women's Quartz White Ceramic Watches with Colorful Diamond Bezel, Tissot Men's T0954173603700 Rose Gold-Tone Chronograph Watch with Brown Leather Band, Armitron Sport Men's 49mm Digital Chronograph Black Strap Watch, Geneva Cat Face With Ears Watch - Mint!, MK6162 Michael Kors Runway Gold-Tone Ladies Watch, Tissot Men's T0494071603100 PR 100 Silver Automatic Dial Watch, Timex Unisex Weekender Analog Quartz Watch, WobL - Pink 8 Alarm Vibrating Reminder Watch, Invicta Watch Sizing Tool, Invicta Men's 17946 Russian Diver Analog Display Swiss Quartz Black Watch, Skagen Men's Ancher Silvertone Watch with Genuine Brown Leather Strap & Blue Dial, Skagen Women's SKW2184 Leonora Stainless Steel Mesh Watch, Akribos XXIV Women's AK765YG Impeccable Gold-Tone Stainless Steel Watch, AMPM24 White Leather Transparent Dial Fashion Lady Girl Wrist Quartz Watch Gift WAA025, Timex Kids' TW7B998009J My First Timex Silver-Tone Watch with Blue Nylon Band, Picard & Cie Eleanor Ladies Watch, Caddy Bay Collection Black Carbon Fiber Glass Top Watch Case Holds 10 Large Watches, Timex Unisex TW2P62400 Weekender Chrono Oversize Blue/Cream/Brown Striped Slip-Thru Nylon Strap Watch, Victorinox Men's 249085 Original XL Swiss Quartz Watch With Black Nylon Band, Retro World Map Womens Quartz Wrist Watch Brown, Casio F108WH Water Resistant Digital Red Resin Strap Watch, Lucien Piccard Men's LP-10339-014-GA-BRW Volos Analog Display Japanese Quartz Brown Watch, Swatch Golden Dial Golden Sparkle Silicone Ladies Watch SUOK704, G-Rescue Solar Atomic Classic Color Watch, Watch Link Remover with Pins, Michael Kors Women's Runway Black Watch MK5191, Orient Men's FER1X002D0 Chicane Analog Display Japanese Automatic Silver Watch, Lowpricenice Cool watches For Men Skeleton Mens Black Automatic Mechanical Sport Wrist Watch Stainless Steel Band, OBAKU HARMONY Stainless Steel Men Watch., Timex Women's T2P4589J Main Street Modern Minis Gold-Tone Watch, Stuhrling Original Women's 'Vogue' Quartz White Casual Watch (Model: 530S2.111EP3), Timex Men's T2N721 Intelligent Quartz Compass Tide Temperature Silver Case Brown Strap Watch, Motorola Moto 360 Modern Timepiece Smart Watch - Black Leather 00418NARTL, G-Shock Men's GA-100 Camouflage Watch, Grey, One Size, Citizen Men's AT9013-03H Rose Gold-Tone Stainless Steel Eco-Drive Watch, Timex Women's T2N436 Elevated Classics Two-Tone Watch with Brown Leather Strap, Lucien Piccard Women's LP-10222-WWSA La Tournette White/Silver-Tone Mother of Pearl Dial Ceramic Watch, HACBIWA Classic Men Big Dial Brown Wrist Watch on Sale Gift, Casio Men's W735H-1AVCF Super Illuminator Watch With Black Resin Band, Lucien Piccard Men's LP-10527-02 Moubra White Dial Black Leather Watch, Casio Men's STB-1000-1CF OmniSync Sports Gear Bluetooth Fitness Smartwatch, TAG Heuer Men's CAP2110.BA0833 Aquaracer Black Chronograph Dial Watch, Timex Marathon TW5K84900 Mid-Size Watch, Seiko QXA520KLH Wall Clock, U.S. Polo Assn. Men's US8211 Analog/Digital Display Sterling Silver Watch, Timex Unisex Originals Oversize Watch, Voguestrap TX39318LBK Allstrap 18mm Black Long-Length Genuine Calf Watchband, Seiko Men's SNN233 Stainless Steel Watch, Invicta Men's 0072 Pro Diver Collection Chronograph 18k Gold-Plated Watch, Pulsar Women's PH8062 Analog Display Japanese Quartz Gold Watch, U.S. Polo Assn. Sport Men's US8170 Black and Gunmetal-Tone Bracelet Watch, Armitron Sport Women's 45/7051 Digital Jelly Strap Watch, Fashion Movie Black&red Deadpool Mask Quartz Pocket Watch Necklace Chain Pendant Mens Womens Gifts P193, Seiko Men's SGG709 Titanium Watch, GGI International WTK-037 Metal Watch Repair Kit, Vilam Girl Kids' Translucent Cartoon Waterproof Quartz 3D Dial Watch Time Teacher Color Pink, ShoppeWatch Elegant Plane Style Digital Display LED Silicone Wrist Watch Black, Timex Men's Expedition Gallatin Watch, Timex Women's Easy Reader Date Expansion Band Watch, kate spade new york Women's 1YRU0510 Metro Grand Gold-Tone Stainless Steel Watch with Beige Leather Band, Casio Women's BG169G-4 Baby G Pink Champagne Watch, Braun Travel Alarm Clock - BNC-5, Swatch Golden Dial Golden Sparkle Silicone Ladies Watch SUOK704, Casio Women's STR300 Runner Eco Friendly Digital Watch, Ritche 22mm Black Stainless Steel Bracelet Watch Band Strap Pebble Time/Pebble Classic, Unisex Fashion Sport Watch Multifunction Multi-colour Led LAnalog Digital Waterproof Alarm Wristwatch, Mens Puma Wristwatch Essence PU103241001, Despicable Me 2 LCD Watch, Casio Men's GWX8900B-7 G-Shock Tough Solar Multi-Band Atomic Watch, Relic Payton - Gunmetal Bracelet Watch, Game Time Men's NFL-VET-OAK \"Veteran\" Watch - Oakland Raiders, Luminox Men's 3001.BO Quartz Rubber Black Dial Watch, Michael Kors Lexington Gold-Tone Stainless Steel Watch MK8281, Bulova Women's 98N101 Stainless Steel Watch, G-Shock GLX6900-1 Classic Series Quality Watch - Black, Caravelle by Bulova Men's 45D106 Classic Two Tone Watch, Swatch Glistar Silver Pearl Dial Transaprent Double Wrap) Strap Ladies Watch LK343, Timex Mens Expedition Trail Chronograph Resin Combo Watch, Disney Boys' Jake Blue Time Teacher Watch, U.S. Polo Assn. Sport Men's US9486 Analog-Digital Display Analog Quartz Blue Watch, Sankuwen 1pc Unisex White Sports Silicone Digital LED Sports Bracelet Wrist Watch, Swiss Legend Men's 10013-11-GB World Timer Collection Chronograph Two-Tone Stainless Steel Watch, Seiko Men's SNA411 Flight Alarm Chronograph Watch, Casio Men's Solar Sport Combination Watch, PromiseU Woman's Charming Vintage Weave Wrap Leather Chain Bracelet Watch, Bulova Women's 96R122 Diamond Accented Automatic Watch, Game Time Women's NFL Frost Series Watch, Geneva Women's 2380-Silver-GEN Oversized Interlocked Chain Band Watch, Seiko Men's SNDC33 Classic Black Leather Black Chronograph Dial Watch, G-Shock Unisex Atomic Solar GWA1100 Orange Watch, S&W Men's Ego Watch Black., Lucien Piccard Men's 12011-RG-09 Monte Viso Chronograph Rose-Gold Tone Textured Dial Leather Band Watch, ShoppeWatch Skeleton Pocket Watch Mechanical Movement Hand Wind Full Hunter Silver Tone Engravable PW20, Kenneth Cole New York Men's KC1931 Classic Light Grey Dial Field Case Watch, Invicta Men's Reserve Super Lum Diver 5050E Chrono 1022, Timex Men's Easy Reader Day-Date Expansion Band Watch, Casio Men's CA53W-1 Calculator Watch, Invicta Men's 1402 Venom Reserve Chronograph Orange Dial Orange Polyurethane Watch, Hamilton Men's 'American Classic Spirit Of Liberty' Swiss Automatic Stainless Steel Casual Watch, Color:Brown (Model: H42415551), Geneva Multi-strand Crystal Bling Wrap-around Watch-Black Gold, PromiseU Leather Bracelet Woman Rhinestone Rivet Chain Quartz Wrist Watch, U.S. Polo Assn. Sport Men's US8170 Black and Gunmetal-Tone Bracelet Watch, Seiko Solar Chronograph Black Dial Stainless Steel Mens Watch SSC215 by Seiko Watches, Speidel (Accessories) Men's 230161WR 18 -mm  Classic Watch Strap, (5) CR1130 Lithium Coin Cell Batteries, MARATHON Military Nylon Watch Band (Various Colors and Sizes), Timex Mens Expedition Trail Chronograph Resin Combo Watch, 32mm,, Smooth Black Leather, Medium Padding for your Sporty Watch, Invicta Men's 10091 Subaqua Reserve Black Carbon Fiber Dial Watch, Casio Men's W-S220-1BVCF \"Tough Solar\" Running Watch with Black Resin Band, [LAD WEATHER] German Sensor Digital Compass Altimeter / Barometer/ Weather Forecast/ Multi function/ Outdoor Climbing/running/walking Sport Watch, Seiko Men's SNK807 Seiko 5 Automatic Stainless Steel Watch with Blue Canvas Band, Timex Unisex Weekender Analog Quartz Watch, Seiko 5 Men's SNK793 Automatic Stainless Steel Watch with Blue Dial, Timex Easy Reader Day-Date Leather Strap Watch, Orient Men's CEM65005D 'Blue Mako' Automatic Dive Watch With Black Rubber Band, Geneva Women's Brushed Metal Leather Band watch, Watch Band Silicone Rubber Heavy Orange Strap Waterproof Stainless Buckle 22 millimeters, Nautica Men's N12643G NSR 103 Classic Analog Watch, Timex Men's T5H581 Ironman Traditional 30-Lap Watch, Tissot Men's T063.617.11.067.00 Charcoal Stainless Steel Bracelet Watch with Black Dial, PromiseU Leather Bracelet Woman Rhinestone Rivet Chain Quartz Wrist Watch, Stuhrling Original Men's 879.01 Leisure Sniper Transparent Swiss Quartz Black Rubber Strap Watch, XOXO Women's XO5571 Silver-Tone Watch with Mesh Strap, TAG Heuer Men's THWAK2120BB0835 Aqua Racer Analog Display Swiss Automatic Two Tone Watch, Invicta Men's 17266 Russian Diver Gold-Tone Stainless Steel Watch with Black Silicone Band, AVI-8 Men's AV-4033-03 Supermarine Seafire Analog Display Japanese Quartz Black Watch, Anne Klein Women's AK/1814WTGB Glitter Accented Gold-Tone and White Ceramic Bracelet Watch, Invicta Men's 17887 Pro Diver Blue-Accented and 18k Gold Ion-Plated Stainless Steel Watch, Men's Casio G-Shock Gravitymaster Compass Black Watch, FASH Limited 42 pcs Premium Watch Set with Interchangeable Bands & False Nails, Michael Kors Mid-Size Rose Goldtone/Stainless Steel Parker Three-Hand Glitz Watch, 40Nine Unisex 40NINE03/BLACK3 Medium 40mm Analog Display Japanese Quartz Black Watch, New Geneva Lime w/ White Silicone Watch, Gucci Stainless Steel WYNC Watch(Model:YA137104), Watch Case Closer Opener works w/ waterproof watches Pocket crab tool case backs, Invicta 15044 Mens Pro Diver Scuba Special Edition 1.0 Bracelet Watch [Watch], Seiko Women's SUT130 Solar-Power Gold-Tone Bracelet Watch, Casio Men's W735H-8AVCF Super Illuminator Black Watch, Tissot Men's T0444172103100 T-Sport PRS516 Quartz Silver Chronograph Dial Watch, Tendence 02013012 Rainbow Yellow 44mm Watch, U.S. Polo Assn. Women's USC40061 Two-Tone Watch, Forté 24 Hour Quartz Black Dial Unisex Watch 1039M24-KKC -- with Real 24-hour Movement, Casio Men's Dive Style Watch, Fafada Mens Retro Mechanical Skeleton Roman Numeral Manual Wind Antique Zodiac Symbol Pocket Watch, CASIO F91W-1 Casual Sport Watch, Fanmis Bluetooth Smart Watch Wrist Wrap Watch Phone for IOS Apple Iphone 4/4s/5/5c/5s Android Samsung S2/s3/s4/note 2/note 3 HTC Nokia... (Black), Casio #10096986 Genuine Factory Replacement G Shock Band GW300, GW301, GW330A, Casio Kids W-214HC-1AVCF Classic Digital Display Quartz Black Watch, PASNEW HighQuality PASNEW Water-proof Children Girls Sport Watch N1 (Purple), Panasonic CTL1616 Solar Rechargeable CTL 1616 Battery Replacement Watch Cells Casio, LEGO DC Comics Super Heroes Batman Kids Minifigure Link Buildable Watch | black/yellow | plastic | 28mm case diameter| analog quartz | boy girl | official, Readeel Military Sports Watches Men's Quartz Digital Dual-display Multi-function Stainless Steel Mens Watches White, New Geneva Silver Metal Loop Style Band Oval Face Women's Bangle Cuff Watch, TOPSTARONLINE Fashion Colorful Unisex 8 Digit Alarm Calculator Watch Sky-blue, Timex Women's Easy Reader Leather Strap Watch, Casio Kids W-214HC-1AVCF Classic Digital Display Quartz Black Watch, Anne Klein Women's AK/1046CHCV Swarovski Crystal Accented Watch, 20mm Long Black Rubber Watch Band -- Comfortable and Durable PVC Material, Michael Kors Cooper Gold-Tone Stainless Steel Chronograph Women's watch #MK5916, Invicta Men's 16644 BLU Analog Display Japanese Quartz Yellow Watch, Timex Expedition Uplander Watch, Kenneth Cole New York Women's KC4852 Transparency Stainless Steel Watch, Tommy Hilfiger  Men's 1790806 Sport Grey Silicon and Stainless Steel Watch, August Steiner Men's CN001S-AS Round Wheat Penny Antique Copper Collectors Coin Watch, Casio MQ-24-1BLCK Mq24-1b 3-hand Analog Water Resistant Watch, Casio Men's AQ160WD-1BV Stainless Steel Ana-Digi Electro-Luminescent Sport Watch, iStrap Genuine Calf Leather Watch Band Alligator Grain Padded for Men Women Color & Width (18mm,19mm, 20mm,21mm,22mm or 24mm), Skagen Women's SKW2136 Gitte Quartz Two-Hand Stainless Steel White Watch, Timex 1440 Digital Sports Watch - Women's, KS Automatic Mechanical Date Day Big Case Sport Wrist Watch Gift KS083, Watch Box for 10 Wood Finish XL Extra Large Compartments Fits 63mm Soft Cushions Clearance Glass Window, G-Shock MTGM900DA-8CR Men's Tough Solar Atomic Stainless Steel Sport Watch, Relic Round Automatic, Casio Men's GA-400-1AJF G-Shock Hyper Colors Series Wrist Watch [Japan Import], Casio Women's LA670WA-7 Silver Tone Digital Retro Watch, Armitron Men's 20/4962BLSV Blue Sunray Dial Silver-Tone Bracelet Watch, U.S. Polo Assn. Classic His and Her USC2249 Round Black Dial Gunmetal-Tone Mesh Strap Watch Set, Megir Men Matte Leather Luminous Chronograph Automatic Mechanical Wrist Watches, Armitron Sport Men's 40/8252BLK Black Digital Chronograph Watch, Debeer Replacement Watch Strap - Teju Lizard Grain - Black - Fits 38mm Apple Watch [Silver Adapters], adidas Performance Fitness Watch, Timex Expedition Double Shock Watch, Casio A159WGEA-1EF Casio Gold Classic Collection, Casio Women's BG169R-7B Baby-G Clear Whale Digital Sport Watch, U.S. Polo Assn. Women's USC40065 Gold-Tone and White Bracelet Watch, Tissot Men's T0444302104100 PRS 516 Blue Dial Stainless Steel Watch, Invicta Men's 8926OB Pro Diver Stainless Steel Automatic Watch with Link Bracelet, U.S. Polo Assn. Sport Men's US9061 Watch with Black Rubber Strap Watch, StrapsCo NATO Strap Ballistic Nylon Watch Band w/ 5 Rings in Matt Black, Invicta Men's 13870 Pro Diver Silver Dial Stainless Steel Watch, Hot Sell New Fashion Diamond Dial 3 Small Dial Decoration Womens / Ladies Wrist Watch (Gold), Casio Men's PRW-3500-1CR Atomic Resin Digital Watch, Ballistic NATO Two Piece Nylon Canvas 20mm Military Black Replacement Watch Band, Seiko Men's SNQ117 Premier Stainless-Steel Black Roman Numeral Dial Watch, BRAND NEW BLACK 4+6 AUTOMATIC QUAD WATCH WINDER 6 DISPLAY STORAGE BOX CASE, 40Nine Men's 40NINE01/BLACK/Y Extra Large 50mm Analog Display Japanese Quartz Black Watch, 2015 Hot Sell Lady Belt Watch for Summer+birthday, Nine West Goldtone Bangle Watch, Tommy Hilfiger Men's 1710281 Classic Black Croco Embossed Strap Watch, Timex Expedition Camper Watch, Nollimet 7PCS Geneva Alloy Silicon Quartz Simple Elegant Fashion Watches Assorted Color Wristwatch, Swatch Unisex SUOK703 Pink Glistar Watch with Sparkling Band, Burgi Women's BUR069TTG Analog Display Swiss Quartz Two Tone Watch, FACILLA® 22mm Durable Silver Steel Watch Band Strap Pin Buckle Adjustable, Seiko Men's SNZH53 Seiko 5 Automatic Dark Blue Dial Stainless Steel Watch, Anne Klein Women's 10/9918RGTP Rose Gold-Tone and Taupe Leather Strap Watch, Lorus Ladies Watch Black Dial Silver Tone, Anne Klein Women's AK/1610BKRG Diamond-Accented Rose Gold-Tone and Black Ceramic Bracelet Watch, Square Triple Chain Wrap Watch-Eggplant Purple, Burgi Women's BUR112YGW Crystal Accented Yellow Gold Quartz Watch with Silver Dial and Silver Bracelet, Invicta Men's 0765 II Collection Silver Dial Brown Leather Watch, Swiss Legend Men's 20028-02S-BBL Planetimer Silver Textured Dial Watch, Timex Men's South Street Sport Watch, Replacement Black Polyurethane Link Bracelet Band 22mm for Luminox 3000 and 3900 Series Watches, Gold Tone White Crystals Hip-hop Cz-ice Bling Black Rubber Watch, Outop Fashion Women Analog Quartz Business Wrist Watch, Anne Klein Women's AK/2030RGTP Rose Gold-Tone Watch With Grey Leather Band, DREAMUS®HOT!!! U8 Bluetooth Smart Wristband Watch Phone for Android Samsung S2/S3/S4/S5/Note 2/Note 3 HTC...(IOS System and Blackberry System Can Use Partial Function), Tissot T-Classic Luxury Automatic Ladies Watch T0862071626100, MARATHON Military Nylon Watch Band (Various Colors and Sizes), Casio Baby-g Big Size Dual Illuminator Limited Edition Watch Bgd140-1bdr, PUMA Men's PU100041003 Motor Sport Collection Top Podium Ana-digit Watch, CASIO G-SHOCK GA-400-1BJF JAPAN IMPORT, Casio Women's LTP1237D-7A Analog Quartz Silver Watch, New Silicone Rubber Watch Band Strap for Invicta Subaqua Noma, Timex Men's T2N614 Intelligent Quartz Traveller Series World Time  Black IP Stainless Steel Bracelet Watch, HACBIWA Classic Golden Bracelet Men Stainless Steal Wrist Watches Big Dial Watches, Fossil Sport Cuff, Swiss Legend Men's 11876A-TI-01-W Commander Analog Display Swiss Automatic Black Watch, Neff Men's NF0204-pink Old School Digital Design Soft PU Strap Watch, JewelryWe Christmas Gift Vintage Retro Owl Bronze Steampunk Locket Pocket Watch Pendant Long Chain 31.5 Inch, U.S. Polo Assn. Classic His and Her USC2250 Silver-Tone Mesh Strap Watch Set, Casio Baby-G BA-110-8A Silver Watch, G-Shock G9000MS-1CR Men's Military Black Resin Sport Watch, Readeel Sports Men Watch Stainless Steel Quartz Men Watch LED Dual Display Watch, Red, Invicta Men's 11290 Pro Diver Chronograph Black Carbon Fiber Dial Black Stainless Steel Watch, Native American Indian Pocket Watch & Chain, Armani Exchange AX1214 Mens Black Silver Zulu Chronograph Active Watch, Women's Real Diamond Watch with Iced Out Dial and Metal Band Luxurman Montana Plus 2 Leather Straps, Caravelle by Bulova Women's 45M03 Expansion Bracelet White Dial Watch, LCD Digital Watches, Boyes Watches, Colorful Light Sports Watches, Water-proof Military Stealth Fighter Style Wrist Watches White, YouYouPifa Red+Yellow+Green+Blue LED Light Stainless Steel Fashion Wrist Watch, Bessky® Waterproof Outdoor Sports Men Digital LED Quartz Alarm Wrist Watch, Columbia Men's CT004 Singletrak Digital Display Quartz Watch, Extra Long Watch Band Genuine Leather Calfskin Light Brown 22 millimeters Tech Swiss, Stuhrling Original Men's 824.01 Regatta Analog Japanese Quartz Stainless Steel Watch, Caddy Bay Collection Black Carbon Fiber Glass Top Watch Case Holds 10 Large Watches, Skagen 358srrd Rose Gold Ion Plated Stainless Steel Mesh Bracelet Watch Watch For Women, Nixon Rubber 51-30 Watch, Stuhrling Original Mens 22mm honey leather watch Strap with yellow tone buckle st.165B2.3335K31, Tommy Hilfiger Women's 1781122 Sport Stainless Steel White silicone Watch, U.S. Polo Assn. Women's USC40070 Rose Gold-Tone Watch with Link Bracelet, Kenneth Cole New York Men's KC9286 \"Rock Out\" Stainless Steel Diamond-Accented Watch, Mokingtop® New Fahsion Children Boy Digital LED Quartz Alarm Date Waterproof Sports Wrist Watch, U.S. Polo Assn. Classic Men's US4023 Watch with Black Leather Band, Anne Klein Two-Tone Illusion Dress Watch, Men's Watches Chronograph, 24 Hr Indicator Military Sports Watches - Voeons 3ATM Waterproof Steel Case Quartz Watches, Big Dial Silicone Wrist Watch, Gold / Silver, Mens Rubbertech Silicone Rubber Watchband Stainless Steel Buckle 22mm Wide Buckle - by JP Leatherworks, Armitron Sport Men's 408108BLK Chronograph Black Digital Watch, Armitron Sport Women's 45/7053 Digital Resin Strap Watch, Heiden Battery Powered Single Watch Winder, 19mm Brown/Black Pebbled Water Resistant Genuine Leather Fits Timex Expedition, Wenger Men's 0541.102 Terragraph Stainless Steel Watch with Brown Leather Band, 18mm Mens Braided Leather Brown Watch Band Speidel, Watch Case Press with Nylon Dies, JIUSKO Mens Analog Fashion Wrist Watch - Multifunction Quartz Chronograph Stopwatch - Sapphire - 24 Hour - Alarm - Brown Leather Strap - Blue Hands - Stainless Steel - 113L0107, Invicta Men's Pro Diver Japanese Automatic Watch, Kenneth Cole New York Men's KC1847 Stainless Steel Watch with Black Leather Band, G-Shock MTGM900DA-8CR Men's Tough Solar Atomic Stainless Steel Sport Watch, Invicta Women's 15274 Bolt Analog Display Swiss Quartz Two Tone Watch, GUESS Men's U0279G1 Dressy Silver-Tone Watch with Black Dial  and Mesh Deployment Buckle, 7 Weapons Fashion Creative LED Waterproof Men's Watch#black, Invicta Men's 1433 Russian Diver Black Dial Rubber Watch, Vernier Women's VNR11140 Dazzling Oversized Roman Numeral Watch, Expedition Chrono Alarm Timer Watch, Fossil Women's ES3818 Original Boyfriend Rose Gold-Tone Watch with Grey Leather Strap, Citizen Men's JY0050-55L Blue Angels Skyhawk A-T Titanium Eco-Drive Watch, Timex Women's T5J151 1440 Sports Digital Black/Pink Resin Strap Watch, Citizen Women's EW3140-51E Eco-Drive Stainless Steel Sport Watch, Casio Men's Watches BGA-153M-4BER, Invicta Men's 9938 Pro Diver Collection Automatic Diver Watch, Skagen Men's SKW6068 \"Havene\" Silver-Tone Stainless Steel Watch with Mesh Band, Stuhrling Original Men's 699.01 Aviator Quartz Day and Date Watch With Black Leather Strap, Nautica Unisex N09908G Sport Ring Multifunction Stainless Steel Watch With Two Interchangable Bands, GuTe Old Fashion Mens Auto Mechanical Wristwatch White Dial Blue Hands Day Date 24hrs, Voguestrap TX51012BK Allstrap 16 mm Black Nylon Adjustable Sport Watch Band, Nine West Women's NW/1652BKBK Gold-Tone Case Easy To Read Dial Black Strap Watch, Stuhrling Original Men's 91D.334554 Enigma Automatic Mother of Pearl AM/PM Indicator Brown Watch, Timex Girls Time Machines Analog Elastic Fabric Strap Watch, Seiko Men's SKS401 Analog Display Japanese Quartz Silver Watch, U.S. Polo Assn. Sport Men's US9282 Silver-Tone Watch with White Silicone Band, Valletta Women's FMDCT501A Analog Display Quartz Gold Watch, Invicta Men's Subaqua 15616, Armitron Women's 75/2967BLU Diamond Accented Blue Dial Silver-Tone Bangle Watch, Invicta Men's 8928OB Pro Diver Gold Stainless Steel Two-Tone Automatic Watch, Casio Men's Slim Solar Multi-Function Analog-Digital Watch, Fossil Women's ES3622 Jesse Crystal-Accented Two-Tone Stainless Steel Watch, DaLuca Ballistic Nylon NATO Watch Strap - Black (PVD Buckle) : 22mm, Bling Jewelry Plated Classic Round CZ Ladies Watch, Timex 1440 Digital Sports Watch - Women's, Casio Women's BGA140-7BCR Baby-G Shock Resistant Analog Digital Watch, Michele Style White Baby Python Leather Watchband with Quick Release Pins, Casio Men's WV200DA-1A Multi-Task Gear Waveceptor Sports Watch, Seiko Men's SNK805 Seiko 5 Automatic Stainless Steel Watch with Green Canvas, LNI Fashion Stainless Steel Band Watch Mk, red line Mens RL-18101-014WH-GUN Watch, Geneva Women's 2380-Silver-GEN Oversized Interlocked Chain Band Watch, Skagen Men's Titanium Mesh Watch with Blue Accents, Geneva Platinum 9203 Women's Decorative Chronograph and Bezel Link Watch-SILVER, Timex Women's Q7B851 Padded Calfskin 14mm Brown Replacement Watchband, Casio Men's SGW100-1V Twin Sensor Digital Black Watch, Women's Geneva Chevron Style Leather Watch - Blue, Timex Expedition Rugged Metal Watch, Victorinox Swiss Army Men's 241340 Summit XLT Chrono Watch, M&c Women's | Classy Crystal Embedded Bangle Look Watch with Self-Adjustable Bracelet | FC0365, Game Time Men's NFL Beast Watch, Armitron Sport Men's 40/8177 Digital Chronograph Perforated Resin Strap Watch, Invicta Men's 15580 Subaqua Analog Display Swiss Quartz Black Watch, Stuhrling Original Men's 699.03 Aviator Quartz Day and Date Watch With Green Leather Band, Nixon Men's A105 Sentry 42mm Stainless Steel Leather Quartz Movement Watch, Pangaea Quad Automatic Watch Winder Q480 (Dark Walnut), Geneva Watch Peacock Feather Decor Watches Leather Quartz Watch for Women Lady Dress, Mudder Watch Band Strap Link Pin Remover Repair Tool Kit for Watchmakers with 3 Extra Pins, Vostok Amphibian Russian Automatic Divers Wrist Watch 100819 200m Auto Black, INFANTRY 22mm 5 Rings Military Watch Band Strong Fabric Nylon Strap 100M water resistant - black, Casio Men's G7900-1 G-Shock Rescue Digital Sport Black Resin Watch, Tissot Men's T063.617.16.057.00 Black Dial Tradition Watch, Orient Men's FER24004B0 Bambino Stainless Steel Automatic Watch with Black Leather Band, Invicta Women's 4720 II Collection Limited Edition Diamond Watch, Swatch Men's Irony YOS449 Silver Leather Swiss Quartz Watch, BOS Men's Automatic self-wind mechanical Pointer Skeleton Watch Black Dial Stainless Steel Band 9008, New Fashion GENEVA Rose Flower Watch for Women Quartz Dress Watch, Seiko Men's SSC305 Solar-Power Stainless Steel Bracelet Watch, Bessky® Women's Chronograph Silicone with Crystal Rhinestones Watch, Casio watch strap watchband textile Band black for G-303B AW-591MS DW-5600B, Juicy Couture Women's 1901169 J Couture Gold-Tone Watch, ToyWatch Jelly Watch JY03OR Orange Silicone Strap Plasteramic Case Date Display Interchangeable Strap, Invicta Men's 8935 Pro Diver Collection Two-Tone Stainless Steel Watch with Link Bracelet, G-Shock GW6900-1 Men's Tough Solar Black Resin Sport Watch, Seiko Men's SSC229 Sport Solar-Power Stainless Steel Bracelet Watch, Stuhrling Original Aquadiver Mens Dive Watch - Quartz Analog Waterproof Sports Watch - Blue Dial Date Display Swim Wrist Watch for Men - Luminous Waterproof Watch with Stainless Steel Bracelet 664.02, Invicta Men's 1432 Specialty Black Dial Rubber Watch, Akribos XXIV Men’s AK714BK “Ultimate” Black Multifunction Stainless Steel Watch with Mesh Bracelet, Invicta Men's 0069 \"Pro Diver Collection\" Stainless Steel Watch, U.S. Polo Assn. Sport Men's US9061 Watch with Black Rubber Strap Watch, Seiko Solar Alarm Chronograph Watch, TAG Heuer Men's CV201AH.BA0725 Carrera Analog Display Swiss Automatic Black Watch, Invicta Women's Mako Pro Diver Quartz 8942, Timex Ironman Sleek 50-Lap Sport Watch - Women's, Casio Men's WVA-M640D-1ACR Wave Ceptor Analog-Digital Stainless Steel Bracelet Watch, 22mm Military RAF Style Ballistic Nylon Watch Band - Olive, Casio Women's LQ139A-1E Classic Round Analog Watch, Genuine Synthetic Rubber Black \"Monster\" Diver 20mm Watch Strap by Seiko, Textured Silver Tone Turtle Pendant Hunter Case Key Ring Watch, Weave Classic Leather Band Black Paris Eiffel Tower Women Quartz Wrist Watch Black, Casio Men's Dive Style Watch, Timex Men's Expedition Field Chronograph Watch, Invicta Women's 8945 Pro Diver Collection Gold-Tone Watch, Mens Rubbertech Silicone Rubber Watchband Stainless Steel Buckle 22mm Wide Buckle - by JP Leatherworks, Betsey Johnson Women's BJ00501-28 Analog Display Quartz Rose Gold Watch, Mirror Men Lady LED Digital Sport Unisex Watch Gift,- Black Colors, Seiko Women's Silvertone Solar Watch, Timex Women's T5J151 1440 Sports Digital Black/Pink Resin Strap Watch, SE JT6216 21-Piece Watch Repair Kit, Timex Unisex T2N751 \"Weekender\" Watch with Red Nylon Strap, Timex Unisex Weekender Analog Quartz Watch, DC Comics Batman Kids' BAT4177 Digital Display Quartz Multi-Color Watch, Bling Jewelry Plated Classic Round CZ Ladies Watch, Stuhrling Original men's 23mm black leather Strap with red stitching red outline with steel buckle st.4ATC.332B164, Torgoen Swiss Men's T28104 T28 3 Stainless Steel Watch with Leather Band, LEGO Star Wars Stormtrooper Figurine Alarm Clock (9002137), Casio Genuine Replacement Strap for G Shock Watch Model - GW-530 GW-500, Bling Jewelry Plated Classic Round CZ Ladies Watch, Timex Ironman Sleek 50 Classic Mid-Size Watch, Silver Geneva Crystal Rhinestone Chronograph Watch with Metal Link Band, Timex Unisex T2P235 Weekender Maroon Nylon Slip-Thru Strap Watch, Timex Women's T2P2589J Crystal Silver-Tone Stainless Steel Bracelet Watch, Nautica Men's N18720G NST 402 Gray Leather Chronograph Watch, Citizen Quartz Day and Date Black Dial Men's Watch - BK4052-59F, Timex Men's T28071 Easy Reader Black Leather Strap Watch, Mokingtop(TM) Fashion New Waterproof Girl's Sports Waterproof LED Electronic Wrist Watch, Casio Men's AWGM100B-1ACR \"G-Shock\" Solar Watch, Vogue V6 3D Surface Thick Case Strips Hour Marks Black Hours Analog Military Man Men Business Watch, Casio Men's DW290-1V \"Classic\" Sport Watch, Daniel David Men's | Classic Silver-Tone Bracelet Sports Watch | HA0474, Diesel Dz4297 Chronograph Black Textured Leather Strap Watch Watch For Men, Women Geneva Rhinestone Leather Band Quartz Wrist Watch, U.S. Polo Assn. Classic Men's USC80287 Analog Display Analog Quartz Two Tone Watch, Casio Men's W735H-1AVCF Super Illuminator Watch With Black Resin Band, Fossil Jacqueline, Watch Band Rubber Waterproof Strap Adjustable Stainless Steel Black 20 millimeter, Luminox Men's 3051 EVO Navy SEAL Colormark Watch, Citizen Men's CC1084-63E Satellite Wave Analog Display Japanese Quartz Silver Watch, 10 CR927 Lithium Button Cell batteries, 5-Pcs Card X2, Readeel® Stylish Red LED Light Silicone Jelly Sports Watch Black Band Men Wrist Watch, High Quality White Dial Brown Leather Band Japanese Quartz Movement Wrist Watch Graduation Gift, ANDROID Women's AD439BPU Paris Swiss Quartz Watch, Timex Women's Easy Reader Date Expansion Band Watch, ESS Black Bezel Skeleton Dial Mechanical Automatic Watch Mens Stainless Steel Case WM257, Nautica Men's N22634G NST 402 Analog Display Quartz Grey Watch, Citizen Eco-Drive Men's Goldtone Axiom Chronograph Watch, Casio Men's EFA131D-1A2V Silver Stainless-Steel Quartz Watch with Black Dial, Seiko Men's SSC009 Solar Chronograph Black Dial Flight Watch, Citizen Eco-Drive Men's Silvertone and Black World Time A-T Watch, Bulova Women's 98R149 \"Anabar\" Stainless Steel Watch, Caravelle New York Women's 44L153 Stainless Steel Watch with Blue Leather Band, Daniel David Women's | Two Tone Silver & Gold Self-Adjustable Links Watch | HA0328, Casio Men's AQS800WD-1EV Slim Solar Multi-Function Analog-Digital Watch, Nurse Mates - Womens - Chrome Basic Military Dial, Vilam Girl Kids' Translucent Cartoon Waterproof Quartz 3D Dial Watch Time Teacher Color Pink, Timex Ironman Sleek 50 Classic Mid-Size Watch, Luxury black 22mm Stainless Steel Watch Band strap Solid Links +Tool+spring bars, Timex Men's T26481 Elevated Classics Stainless Steel Two-Tone Watch, BESSKY Women's White Dial Clock Leather Quartz Wrist Watch, Zodiac ZMX Men's ZO8525 Special Ops Stainless Steel Watch With Gray Rubber Band, Invicta Men's 15146 Pro Diver 18k Gold Ion-Plated Stainless Steel Watch with Black Silicone Band, Accessorize Ladies Butterfly Charm Gold Tone Bracelet Strap Dress Watch AZ4000, Bulova Men's 96A135 BVA-SERIES 120 Automatic strap Watch, Stuhrling Original Men's Aquadiver Dive Quartz Analog Waterproof Sports Blue Dial Wrist Watch Bracelet with Stainless Steel, Seiko Men's SSC317 Analog Display Analog Quartz Silver Watch, Casio G-shock Watch Military Color Series GA-100MC-2AJF Men, Casio Men's SGW100-1V Twin Sensor Digital Black Watch, Swiss Legend Men's 30721-YG-02S Skyline Analog Display Swiss Quartz Black Watch, Topwell® 5 Watches Cases Soft Cushions Clearance Window Wood Watch Display Case and Storage Organizer Box, Tommy Hilfiger Riverside White Silicone White Dial Women's Watch #1780915, Frenzy Kids' FR2001 \"Panda Critter Face\" Black Band Children's Watch, Vernier Women's VNR11096 Interchangeable Silicone Quartz Watch, Base Camp Chrono with Strap Watch, LEGO Watches Star Wars Luke Skywalker Kids Buildable Watch with Link Bracelet, August Steiner Men's ASA810BU Stainless Steel Dual Time Watch, Transformers Kids' TRF0007 Bumblebee Autobots Watch, Armitron Sport Men's 40/8284 Digital Chronograph Resin Strap Watch, Fjord Women's Alida FJ-6017-55 White Ceramic Quartz Watch, Invicta Men's 11169 Reserve Analog Display Swiss Quartz Black Watch, Casio Men's Sport Analog Dive Watch, PUMA Men's PU102941001 Ultrasize Analog Display Left-Handed Black/White Sport Watch, Casio G-shock Black and Green Standard Japanese Model #G8900-1, GUESS Women's U0559L1 Sporty Silver-Tone Stainless Steel Watch with Multi-function Dial and Pilot Buckle, U.S. Polo Assn. Sport Men's US9061 Watch with Black Rubber Strap Watch, SEIKO Mechanical Standard Models Automatic Mens Watch SARB033, Seiko Men's SNK809 Seiko 5 Automatic Stainless Steel Watch with Black Canvas Strap, Fanmis S-Shock Multi Function Digital LED Quartz Watch Water Resistant Electronic Sport Watches Black, Momentum Women's 1M-DV11WU1U M1 Twist Dive Watch, Men's White Decorative Chron Dial Brown Pu Leather Strap Quartz Movement Wrist Watch, LEGO Star Wars Darth Vader Kids Minifigure Light Up Alarm Clock | black/gray | plastic | 9.5 inches tall | LCD display | boy girl | official, Invicta Men's 14655SYB \"Pro Diver\" Stainless Steel Watch, Soleasy Women's Quartz Watch Fashionable Cross Style Diamante PU Band Analog Wrist Watch WTH0822, Dainty New Genuine Abalone Gold Tone Stretch Band Fashion Watch, Susenstone® Fashion Luxury Women Ladies Diamond Quartz Gold Watch+bracelet, Timex Men's Easy Reader Day-Date Expansion Band Watch, Fossil Women's ES3718 Chelsey Crystal-Accented Stainless Steel Watch with Link Bracelet, Candy-colored Blue Geneva Silicone Colorful couple of style quartz watches, Voguestrap TX48312BK Allstrap 12mm Black Regular-Length Padded Genuine Calf Watchband, Invicta Men's 17046 Pro Diver Analog Display Japanese Quartz Silver Watch, Casio Men's AW80V-5BV, Timex Men's T49799 Expedition Dive Style Stainless Steel Blue Dial Watch, Stuhrling Original Women's 579.04 Soiree Swarovski Crystal-Accented Rose Gold-Tone Watch, German Military Titanium Automatic Watch. GPW Date. 200M W/R. Sapphire Crystal. German BUND Leatherstrap, Mini Clock Quartz Movement Insert Round White Dial Gold Tone Bezel Roman Number, Michael Kors Watches Channing Watch (Silver), 2014 New Vintage Women Roma Digit Quartz Watch - Black, Ostri Ladies Star Series Waterproof Retro Watch Color Black, Invicta Men's 14497 Subaqua Chronograph Gold Textured Dial 18k Gold Ion-Plated Stainless Steel Watch, BINKADA 3 Pointer Automatic Mechanical Black Dial Women's Wrist Watch #7001W03-4, Invicta Men's 15951 Subaqua Analog Display Swiss Quartz Two Tone Watch, GuTe Classic Skeleton Mechanical Wristwatch Automatic Steel Watch Silver Black X Dial, Timex Men's Highland Street Watch, Stuhrling Original Men's 'Symphony' Swiss Quartz Stainless Steel and Leather Dress Watch, Color:Black (Model: 434.33151), Bling Jewelry Plated Classic Round CZ Ladies Watch, Replacement Black Polyurethane Link Bracelet Band 22mm for Luminox 3000 and 3900 Series Watches, Daniel Wellington Men's 0204DW Glasgow Stainless Steel Watch With Striped Nylon Band, Bling Jewelry Plated Classic Round CZ Ladies Watch, Kenneth Cole New York Men's KC9260 Dress Sport Rose Gold Bezel Men's Bracelet Watch, GGI International MLEDLAVABB 25 MM  Stainless Steel Black Watch Bracelet., Coromose® Luxury 22mm Stainless Steel Watch Band For LG G Smart Watch+Tool(black), INFANTRY 5 Rings Genuine Leather Black Brown Watch Strap Band Stainless Steel Buckle with 20mm 22mm 24mm, YouYouPifa Classy 4 Dial Stainless Steel Quartz Watch (Black), Lucien Piccard Men's LP-12356-YG-02S Mulhacen Chronograph White Textured Dial Brown Leather Watch, Swiss Army Black Leather Peak II Watch Strap, Casio Men's PAG240-8 Pathfinder Triple Sensor Tough Solar Digital Watch, Hadley Roma MB7288BL 16-22mm Black PVD Metal Expansion Watch Band, Invicta Men's 14071 Bolt Reserve Chronograph Silver Dial Black Polyurethane Watch, U.S. Polo Assn. Sport Men's US9057 Black Metal Watch with Orange Rubber Band, Swatch Women's LR127 Originals Analog Display Swiss Quartz Red Watch, Invicta Women's 17388 Pro Diver Analog Display Swiss Quartz Two Tone Watch, Youyoupifa Hot Design High End Double Movement Multi-Function Black Strap Sport Watch NBW0HE5756-SS3, Tissot Men's T0636371603700 Stainless Steel Watch With Brown Band, Vintage PU Leather Music Score Scale Women Girls Watch, Timex Men's T2M441 Easy Reader Brown Croco Patterned Leather Strap Watch, Nautica Men's Watch A09921G, Nixon Men's A278-1089-00 48-20 Chrono P Analog Display Japanese Quartz Watch, Lowpricenice Magic Hidden Touch Screen Red LED Digital Watch Men Women Sport Cuff Wrist Watch Black, Vintage Hollow Roman Flower Alloy Black Men Women Pocket Watch DDStore, VINTAGE SILVER C RING HOOK END GENUINE DIAMOND STAINLESS STEEL EXPANSION BAND, Daniel Wellington Men's 0106DW St. Mawes Stainless Steel Watch with Brown Band, Chronicles of Narnia Kids' MC2090 Aslan Coat of Arms Watch, Freestyle Unisex 102245 Shark Fast Strap Retro 80's Watch with Multicolored Nylon Band, Debeer Replacement Watch Band - 2-Piece Nylon - Khaki - Fits 42mm Series 1 & 2 Apple Watch [Silver Adapters], Invicta Men's 8935 Pro Diver Collection Two-Tone Stainless Steel Watch with Link Bracelet, Invicta Men's 6409 Python Collection Chronograph Stainless Steel and Gun Metal Watch, Casio AQS810W-1A2V Solar Ana-Digi Sports Wrist Watch, Tech Swiss LEA333-20SS 20mm Leather Calfskin Blue Watch Strap, Casio Men's MQ24-1E Black Resin Watch, Shark Men's Sport Quartz Wrist Watch Black 3D Dial Oversized Crown Silicone SH171, U.S. Polo Assn. Sport Men's US9061 Watch with Black Rubber Strap Watch, Watch Band Genuine Leather 18mm Black Double Padded, Casio Men's F28W-1 \"Classic\" Digital Watch, Seiko Men's Black Dial Automatic Divers Watch, DETOMASO Men's Quartz Stainless Steel Casual Watch, Color:Black (Model: DT1052-M), Timex Unisex TW2P62400 Weekender Chrono Oversize Blue/Cream/Brown Striped Slip-Thru Nylon Strap Watch, Barron Watch Company Replacement Watch Band with 4 bars and remover, Stuhrling Original Men's 879.03 Leisure Sniper Transparent Swiss Quartz Black Rubber Strap Gunmetal Watch, Women's Geneva Silicone Band Jelly Gel Quartz Wrist Watch Pink, SODIAL(R) Alloy Case Bracelet Black Dial Modern Silver Fashion Women Quartz Watches, Coromose® Luxury 22mm Stainless Steel Watch Band For LG G Smart Watch+Tool(black), Michael Kors Collection Men's MK8386 - Accelerator Other Platings, Caravelle By Bulova 47J18 Stainless Steel Nurses Lapel Pin Watch, Casio G-Shock GA-400-4A Multi-Dimensional Analog Digital Watch, Lorus RXT67CX9 Urban Two-tone Stainless Steel Watch, Retro World Map Womens Quartz Wrist Watch Brown, XOXO Women's XO8041 Rhinestone Accent Black Silicone Strap Watch, Casio Men's PRG550-1A1CR Pro Trek Triple Sensor Tough Solar Analog-Digital Watch, Stuhrling Original Women's 910.01 Symphony Calliope Analog Display Quartz Silver Watch, Tmbr. Helm Gold Walnut Wood Unisex Wooden Watch Leather Strap Quartz Analog Wristwatch, Invicta Men's 0074 pro Diver Analog Japanese Quartz 18k Gold-plated Stainless Steel Watch, Casio Men's WV200DA-1A Multi-Task Gear Waveceptor Sports Watch, Fossil Women's ES3818 Original Boyfriend Rose Gold-Tone Watch with Grey Leather Strap, Frederique Constant Slimline Men's FC-245M4S5 Designer Stainless Steel Plated Yellow Gold Watch With Brown Leather Band, Seiko Men's SNDC31 Classic Stainless Steel Chronograph Watch with Brown Leather Band, Atomic Talking Watch, Salvatore Ferragamo Men's F55LCQ75909 S113 F-80 Rose Gold-Plated Watch, Caddy Bay Collection Carbon Fiber Pattern Watch Case Box Holds 5 Watches with Red Stripe/Stitching NEW AND IMPROVED, [LAD WEATHER] German Sensor Digital Compass Altimeter / Barometer/ Weather Forecast/ Multi function/ Outdoor Climbing/running/walking Sport Watch, GGI Metal Watch Repair Kit - Pack of 2, Mokingtop Fashion New 22mm Brown Soft Sweatband Genuine Leather Strap Steel Buckle Wrist Watch Band, Seiko Bedside Alarm Clock Silver-Tone Metallic Case, Invicta Men's 5699 II Collection Two-Tone Chronograph Watch, Swiss Legend Men's 21344-22 Luminous Stainless Steel Watch with Link Bracelet, Seiko Men's SPL035 Criteria Stainless Steel Chronograph Grey Dial Watch, Jechin Classic Pocket Watch, Hunter Case, 14'' Chain, Comes in Silk-Lined Gift Box, Fanmis Russian Skeleton Black Dial Silver Stainless Steel Luxury Men's Automatic Mechancial Wrist Watch, Rhino by Marc Ecko Men's E8M055MV Stone on Metal Three-Eye Chronograph Watch, Timex Unisex Weekender Analog Quartz Watch, Timex Men's Expedition Field Chronograph Watch, Thomas Earnshaw Men's ES-8009-01 Robinson Analog Display Automatic Self Wind Black Watch, Bulova Men's 96C113 Stainless Steel Watch with Black Leather Strap, Invicta Men's 15942 \"Specialty\" 18k Gold Ion-Plated Stainless Steel Bracelet Watch, Batman Kids' BAT4045 \"Batman\" Watch with Black Rubber Band, Michael Kors MK3265 Women's Slim Runway Gold-Tone Stainless Steel Bracelet Watch, Earth Wood Rhizomes, MEKU Men's Wooden Watches Natural Sandalwood Day Date Calendar Watches Gifts, Soleasy Women's Bracelet Style Analog Quartz Metal Watch WTH8022, Nixon The Unit Digital Dial Stainless Steel Quartz Men's Watch A360-502, Night Vision INFANTRY Mens Military Army Sport Luxury Chronograph Quartz Wrist Watch Rubber / Leather Straps #FS-001-S-D-SET, Swiss Legend Men's 10013-11-GB World Timer Collection Chronograph Two-Tone Stainless Steel Watch, Armitron Sport Men's 49mm Digital Chronograph Black Strap Watch, Casio Men's W96H-1AV Sport Watch with Black Band, Lucien Piccard Men's LP-12356-RG-11 Mulhacen Analog Display Japanese Quartz Rose Gold Watch, Michael Kors Watches Parker Watch, Timex Women's T5J151 1440 Sports Digital Black/Pink Resin Strap Watch, Peugeot Women's Silver-tone Tank Leather Dress Watch, Akribos XXIV Women's AK759SSTQ Swiss Quartz Movement Watch with Blue Sunburst Effect Dial and Silver Twist Chain Bracelet, Akribos XXIV Men's AK622SS Grandiose Stainless Steel Bracelet Watch, Style Trend Kids Watches Cute Flash Lights 50m Waterproof Chronograph Digital Sports Watch - Blue Color, Oakley Men's 10-032 Analog Watch, Timex Men's T2N635 Weekender Classic Casual Cream Dial Bracelet Watch, Nine West Pink Textured Bracelet Watch, Nautica Men's N14675G NST 700 Stainless Steel Watch with Black Resin Band, Invicta Women's 17490 Angel Analog Display Japanese Quartz Two Tone Watch, Irish Sixpence Coin Watch Pair of Cufflinks (2 Watches), Casio Men's Black Analog Anti Reverse Bezel Watch, Glam Rock Men's GR33008 SoBe Black Dial Black Ion-Plated Stainless Steel Watch, Gevril Columbus Circle Mens Swiss Automatic Black Leather Strap Watch, (Model: 2004), Wrist And Style Perlon Watch Strap - Light Brown | 20mm, OrangeTag New Flower Face Style Leather Woman Man Analog Quartz Wrist Wa..., NEW BURL WOOD 2+3 AUTOMATIC DUAL / DOUBLE WATCH WINDER + 3 DISPLAY STORAGE BOX BATTERY OR AC/DC POWER, Carrie Hughes Ladies Fashion Small Flower Steampunk Alloy Stainless steel Necklaces Pendants Pocket Watch, August Steiner Women's AS8137TTR Rose Gold And Silver Swiss Quartz Watch with Silver Mother of Pearl Dial and Crystal Accented Rose Gold & Silver Bracelet, Invicta Men's 1941 Subaqua Sport Chronograph Blue Dial 18k Gold Ion-Plated Stainless Steel Watch, red line Men's RL-50046-22RD-GYST Torque Sport Silver Dial Grey Silicone Automatic Watch, Bestpriceam Women Silicone Printed Flower Causal Quartz Wrist Watches Pink, Casio 16/25mm Black Resin, Casio Men's PRW-3000-2CR \"Protrek\" Sport Watch with Black Resin Band, Casio Men's MCW-100H-1AVCF Heavy Duty Design Watch with Black Silicone Band Watch, Seiko Tiber Wall Clock, Shensee Simple Vogue Men Casual Waterproof Date Leather Military Watch Gift Black Gold, Casio Men's AW80D-7A Sports Chronograph Alarm 10-Year Battery Databank Watch, Fossil Womens Jacqueline - ES3866, Timex Women's Indiglo Easy Reader Quartz Analog Leather Strap Watch with Date Feature, Casio W213 Digital Multi-Function Sports Watch w/ 10 Year Battery Life, Invicta Men's 1434 Russian Diver Blue Dial Stainless Steel Watch, Casio Men's AMW320D-9EV Ana-Digi Alarm Chronograph Dive Watch, Fossil Riley\n",
            "\n",
            "Cluster 3 words:loved,watch,wife,husband,looks,beautiful,\n",
            "Cluster 3 reviews (108 reviews): \n",
            "Invicta Women's 15150 \"Angel\" 18k Yellow Gold Ion-Plated Stainless Steel and Brown Leather Watch, Kenneth Cole New York Women's KC4944 Automatic Silver Automatic Mesh Bracelet Analog Watch, Casio Men's GW-9400BJ-1JF G-Shock Master of G Rangeman Digital Solar Black Carbon Fiber Insert Watch, Domire Fashion Accessories Trial Order New Quartz Fashion Weave Wrap Around Leather Bracelet Lady Woman Butterfly Wrist Watch, Batman Kids' BAT4072 Black Rubber Batman Logo Strap Watch, Timex Easy Reader Day-Date Leather Strap Watch, Casio F108WH Water Resistant Digital Blue Resin Strap Watch, Stuhrling Original Women's 956.02 Symphony Gold-Tone Watch with Brown Genuine Leather Band, Seiko Men's SNKK27 Seiko 5 Stainless Steel Automatic Watch, Swiss Legend Women's 11044D-01 Neptune Black Dial Watch with Silicone Band, Michael Kors Womens MK5145 - Runway Chronograph, LEGO Star Wars Yoda Kids Buildable Watch with Link Bracelet and Minifigure | green/gray | plastic | 28mm case diameter| analog quartz | boy girl | official, Bling Jewelry Plated Classic Round CZ Ladies Watch, Fossil Women's ES3822 Georgia Stainless Steel Watch with Blue Leather Band, Stuhrling Original Men's 574.03 Analog Executive II Stainless Steel Automatic Skeleton Watch with Brown Leather Band, Nemesis #HST-K Unisex Black Wide Leather Cuff Wrist Watch Band, Unisex Fashion Sport Watch Multifunction Multi-colour Led LAnalog Digital Waterproof Alarm Wristwatch, Women Luxury Luminous Stainless Steel Roman Number Calendar Date Quartz Watches Gold, Seiko Men's SKA605 KINETIC \"Amazon Exclusive\" Black Ion-Plated Stainless Steel Watch, Armani Exchange Women's AX4321  Gold  Watch, Casio Men's WS210H-1AV, Michael Kors Watches Runway Twist Watch (Two Tone Gold), Nine West Rose Goldtone and Blush Pink Strap Watch, Timex Womens 80’s Classic Digital Display Chronograph White Case Resin Strap Watch, Timex Unisex Weekender Analog Quartz Watch, 22mm NATO G10 Green Nylon Military Watch Band Strap, Ferrari Men's 0830105 Race Day Analog Display Quartz Black Watch, COCOTINA Brand New Lady Women Quartz Rhinestone Crystal Wrist Watch Rhombus gold surface, Casio Men's GW-9400-1CR Master of G Stainless Steel Solar Watch, Towallmark(TM)New Women Handmade Braided Zebra Bracelet Dial Quarzt Watch Wrist Watch Blue, Casio #LA670WGA-6 Women's Gold Tone Chronograph Alarm LCD Digital Watch, Casio Men's G-7900-2DR G-Shock Blue Resin Digital Dial Watch, Casio G-Shock GD-100-1B Watch, Timesshine Men's TSM1405 Sports & Outdoor Personalized Quartz Watch with Black Geniune Leather Band, Casio G-Shock Atomic Solar Watch, Whimsical Watches Women's S0610004 Dentist Baby Light Blue Leather Watch, Michael Kors Women's Runway Black Watch MK5191, Timex 1440 Digital Sports Watch - Women's, Relic Women's ZR15750 Beth Rose Gold-Tone Bracelet Watch with Cobalt Blue Dial, Stuhrling Original Men's Aquadiver Dive Quartz Analog Waterproof Sports Blue Dial Wrist Watch Bracelet with Stainless Steel, Hamilton Men's H70555523 \"Khaki Field\" Stainless Steel Watch with Brown Leather Band, Daniel Wellington Men's 0107DW Classic Sheffield Watch with Black Band, Purple Paw Face Silicone Watch w/ CZ Crystal Rhinestones Face Bling, Kenneth Cole New York Men's KC8042 Dress Sport Round Chronograph Brown Strap Analog Watch, Nixon Cannon Watch, Bulova Women's 96R19 Diamond-Studded Chronograph Watch, Invicta Men's 9211 Speedway Collection Stainless Steel Chronograph Watch with Link Bracelet, NSSTAR Retro Vintage Classic Dragonfly Pendant Beads Girls Ladies Women Floral Quartz Fashion Weave Wrap Around Leather Strap Bracelet Wristband Wrist Watch (Brown), Flower Style Women Fashion Watch, White, Casio Ladies Mid-Size Silver Tone Digital Retro Watch LA-680WA-7DF, Casio Women's BG169R-4 Baby-G Pink Whale Digital Sport Watch, KS Men's Wrist Watch Luxury Moon Phase Automatic Mechanical White Dial KS069, August Steiner Women's AS8178YG Yellow Gold Quartz Watch with Gold Dial and Yellow Gold Bracelet, Mens Rectangle Dial Watch 14k Gold Plated 2 Time Zone Simulated Lab Diamonds New, Elini Barokas Women's 10197-BB-02S-WHT Artisan Watch, Casio Men's Sport Analog Dive Watch, Gotham Women's Gold-Tone Dual Time Zone Leather Strap Watch # GWC15091GW, Nixon Men's A105 Sentry 42mm Stainless Steel Leather Quartz Movement Watch, Disney Kids' FZN3580 Frozen Anna and Elsa Flashing-Dial Watch with Glitter Pink Rubber Band, Geneva Platinum Women's 6886.Lavender Purple Silicone Quartz Watch with Purple Dial, Sinceda Watch Gun Classic Roman Numerals Series Women's Bangle Wrist Watches, Rado Centrix Rose Gold-tone Ladies Watch R30555103, Disney's Frozen Elsa & Anna Singing Watch - Let it GO!, Citizen Men's AT2187-51E Drive from Citizen Eco-Drive WDR 3.0 Chronograph Watch, Casio BA112-1A Baby-G Multicolor Dial Black Resin Multi Quartz Woman's Watch, Tonsee Mens Silicone Rubber Watch Strap Band Waterproof with Deployment Clasp 22mm, Citizen Men's Drive from Citizen Eco-Drive AR 2.0 Stainless Steel Watch, Invicta Women's 14731 Angel Analog Japanese-Quartz Two Tone Watch, [Upgrades]CHIYODA Single Watch Winder with Quiet Motor-12 Rotation Modes, KANO BAK Womens Ladies Retro Vintage Antique Bangle Bracelet Wrist Watch White Round Dial, Geneva Black and White Faux Rhinestones Chronograph Silicone Watch, Lacoste Goa Black, Yellow and Blue Silicone Unisex Watch 2020031, Swiss Army Men's Victorinox Watch 24984, Michael Kors Women's Parker Blue Watch MK2280, XOXO Women's XO5753 Silver-Tone Bracelet Watch, Nine West Women's NW/1694BLGB Blue Sunray Dial Gold-Tone Bracelet Watch, Bulova Women's 98L153 Two-Tone Stainless Steel Bracelet Watch, Invicta Women's Mako Pro Diver Quartz 8942, MVMT Watches Black Face with Black Leather Strap Men's Watch, Readeel Men Sports Watches Fashion Casual Quartz Watch Digital & Analog Multifunctional Waterproof Student Men Sports LED Watches, Green Case, Burgi Women's BUR127RG Diamond & Crystal Accented Mother-of-Pearl Dial Embossed Rose Gold Bracelet Watch, Armitron Sport Men's 408108BLK Chronograph Black Digital Watch, Michael Kors Watches Runway Chronograph Stainless Steel Watch (Rose Gold), Readeel Rose Red Silicone Absolutely Environmentally Friendly Materials Band Butterfly Cartoon Kids Watch, Vince Camuto Women's VC/5224CHGB Gold-Tone Mesh Bracelet Watch, Casio Kids W-214HC-1AVCF Classic Digital Display Quartz Black Watch, Fruitz NECTARINE Ladies Watch F36S-N-PR, JOJINO Real Diamond Watch Chronograph Mens Silver Case Black Rubber Band MJ-1130, Michael Kors MK5719 Women's Chronograph Camille Stainless Steel Bracelet Silver Watch, Rose Gold Case Crystal Eiffel Tower Lady Women Pink Leather Quartz Analog Watch WAA500, Daniel Wellington Women's 0511DW Classic Bristol Analog Display Quartz Brown Watch, Seiko Men's SNKN39 Analog Display Automatic Self Wind Orange Watch, MVMT Watches Rose Gold Case with Brown Leather Strap Men's Watch, HJX Novelty Real Watch With Collectable Butane Cigarette Cigar Lighter, TAG Heuer Men's WAY1110.BA0910 300 Aquaracer Stainless Steel Watch, Timex Kids T79081 My First Timex Easy Reader Watch with Pink Faux Leather Strap, Frenzy Kids' FR248 \"Peace Novelty\" Watch, Nautica Men's NAD19505G NST 101 Stainless Steel Watch with Blue Band, Tissot Men's T0484172705700 T-Race Black Chronograph Dial Watch, Timex Men's T2P390 \"Elevated Classics\" Stainless Steel Watch, Marathon by Timex Full-Size Watch, Caddy Bay Collection Vintage Wood Glass Clear Top Watch Display Storage Case Chest Holds 10+ Watches With Adjustable Soft Pillows and High Clearance for Larger Watches, Tommy Hilfiger Women's 1781271 Stainless Steel Watch with White Silicone Band, Citizen Women's EW2130-51D Silhouette Eco Drive Watch, Invicta Men's 1221 Invicta II Chronograph Black Dial 18k Rose Gold-Ion Plated Stainless Steel Watch, Tmbr. Helm Rose Gold Cherry Wood Unisex Wooden Watch Leather Strap Quartz Analog Wristwatch, Fossil Fs4487p Machine Chronograph Black Silicone Watch Watch For Men, Susenstone®Ultra Thin Sports Silicone Digital LED Sports Wrist Watch\n",
            "\n",
            "Cluster 4 words:nice,watch,price,looks,really,good,\n",
            "Cluster 4 reviews (61 reviews): \n",
            "Guess U13630G1 Men's day and date Gunmetal dial Gunmetal tone bracelet, Casio Men's MRW200H-7EV Sport Resin Watch, Casio G-shock Mudman Multiband6 Japanese Model [ Gw-9300-1jf ], Stuhrling Original Men's 395.33U16 Aquadiver Regatta Analog Swiss Quartz Stainless Steel Link Bracelet Watch, Invicta Men's Bolt 12298, Invicta Men's 3332 Force Collection Stainless Steel Left-Handed Watch with Black Leather Band, Timex Ironman Rugged 30 Full-Size Watch, Nautica Men's A16577G BFD 105 Chrono Analog Display Analog Quartz Black Watch, Invicta Women's 16267 ANGEL Analog Display Japanese Quartz Grey Watch, U.S. Polo Assn. Classic Men's US4023 Watch with Black Leather Band, Men's Gold-Tone Casio World Time Stainless Steel Watch A500WGA-1, Daniel Wellington Women's 0506DW Classic Southhampton Stainless Steel Watch With Multi-Color Striped Band, Domire Fashion Accessories Trial Order New Quartz Fashion Weave Wrap Around Leather Bracelet Lady Woman Leaf Wrist Watch, G-Shock GA-100B LTD Edition White GA-100B-7 Watch, Caddy Bay Collection Vintage Dark Walnut Wood Watch Case Display Storage Watch Box Glass Top Holds 20+ Watches With Adjustable Soft Pillows and High Clearance for Larger Watches, Readeel Sports Men Watch Stainless Steel Quartz Men Watch LED Dual Display Watch, Red, Stuhrling Original Men's 824.01 Regatta Analog Japanese Quartz Stainless Steel Watch, ShoppeWatch Pocket Watch Quartz Movement Black Case White Dial Arabic Numeral with Chain Full Hunter PW23, Michael Kors Women's Audrina Blue Watch MK6236, G-Shock Ga-110 Watch - Men's ( White/Multi ), GUESS Men's U0496G4 Vintage Iconic Rose Gold-Tone and Navy Dial Watch, Timex Women's T2P050KW Ameritus Sport Black Dial Multi-Colored Numbers, Black Croco Patterned Leather Strap Watch, Timex Men's Q7B810 Expedition Sport Genuine Leather 18mm Brown and Green Replacement Watchband, Fossil Am4532p Cecile Multifunction Sand Leather Watch Watch For Women, Nine West Women's NW/1584TQGB Turquoise Sunray Dial Gold-Tone Bracelet Watch, WEIDE Men's Digital Electronic Waterproof LED Sport Watch Casual Quartz Military Multifunction 12H/24H Time Back Light with Simple Design Alarm Stopwatch Calendar Month Date Day Week - Black, Nine West Women's NW/1585PKSB Hot Pink Dial Silver-Tone Bracelet Watch, Stuhrling Original Men's 699.02 Aviator Quartz Day and Date Grey Dial Brown Leather Band Watch, Invicta Men's 6792 Pro Diver Collection Chronograph 18k Gold-Plated and Stainless Steel Watch, Timex Men's Easy Reader Day-Date Expansion Band Watch, Casio #MTP1374L-1AV Men's Standard Leather Band Multi-Function Black Dial Watch, Kezzi Womens Watch K842 Quartz Dress Wrist Watches Ceramic Bracelet Casual Classic Waterproof Blue, MULCO Men's MW2-6263-025 Analog Display Japanese Quartz Black Watch, Casio Men's AMW320D-9EV Ana-Digi Alarm Chronograph Dive Watch, Bling Jewelry Geneva Rose Gold Plated Classic Round CZ Ladies Watch, SO&CO New York Men's 5027.3 Monticello Stainless Steel TAchymeter Day and Date Watch with Nylon-Covered Leather Band, 18mm NATO MOD G10 Olive Drab Green Nylon Military Watch Band Strap, Seiko Men's SSC021 Solar Diver Chronograph Watch, Treehut Mens Wooden Bamboo Watch with Genuine Brown Leather Strap Quartz Analog with Quality Miyota Movement, 1.7 inches, XOXO Women's XO5218 Black Dial Two-Tone Half Cuff and Half Bracelet Watch, Tommy Hilfiger Men's 1790877 Silver-Tone Stainless Steel Watch, Victorinox Unisex Infantry Analog Display Swiss Quartz Watch, Mokingtop®New 20mm Waterproof Silicone Rubber Watch Strap Band Deployment Buckle, Nine West Grey Textured Bracelet Watch, Timex Ironman Classic 30 Full-Size Watch, Womens Timex T42591 Womens Camper Watch PINK INDIGLO NIGHT LIGHT DATE, Kenneth Cole New York Women's KC2861 Automatic Analog Display Japanese Automatic White Watch, Timex Men's T49551 Expedition E-Compass Leather Watch, Nine West White Textured Bracelet Watch, PUMA Men's PU100041003 Motor Sport Collection Top Podium Ana-digit Watch, Disney Kids' FZN3560 Frozen Anna and Elsa Pink Watch with Plastic Band, 40 Bestpresso Nespresso Compatible Gourmet Coffee Capsules - Nespresso Pods Alternative: Intenso Blend Natural Espresso Flavor (High Intensity) - Certified Genuine Espresso, Invicta Men's 19192 Pro Diver Analog Display Swiss Quartz Gold Watch, ESQ Movado Unisex 07301442 \"ESQ ONE\" Stainless Steel Watch with Black Silicone Band, Armitron Sport Men's 40/8330BLK Brown Accented Digital Chronograph Black Nylon Strap Watch, Nautica Men's N13616G BFD 102 Stainless Steel and Brown Leather Watch, Authentic German WW-II Kriegsmarine Push-Button Heavy Brass Compass with Leather Pouch, Casio Men's EQS500DB-1A1 Edifice Tough Solar Stainless Steel Multi-Function Watch with Link Bracelet, Casio Women's B640WC-5AEF Retro Digital Watch, Rolex Day-Date II 2 President Yellow Gold Watch 218238, Invicta Men's 9010 Pro Diver Collection Automatic Watch\n",
            "\n"
          ],
          "name": "stdout"
        }
      ]
    },
    {
      "cell_type": "markdown",
      "metadata": {
        "id": "oYOZXL53E8VV"
      },
      "source": [
        "# Part 5: Topic Modeling - Latent Dirichlet Allocation"
      ]
    },
    {
      "cell_type": "code",
      "metadata": {
        "id": "lBPVbFNFE8VW"
      },
      "source": [
        "# Use LDA for clustering\n",
        "from sklearn.decomposition import LatentDirichletAllocation\n",
        "lda = LatentDirichletAllocation(n_components=5, learning_method = 'online')"
      ],
      "execution_count": null,
      "outputs": []
    },
    {
      "cell_type": "code",
      "metadata": {
        "id": "FCACS4Vp9qFB",
        "colab": {
          "base_uri": "https://localhost:8080/",
          "height": 88
        },
        "outputId": "d9f191a6-921c-4872-80c6-f1de0c0b10b4"
      },
      "source": [
        "from sklearn.feature_extraction.text import CountVectorizer\n",
        "# LDA requires integer values\n",
        "tfidf_model_lda = CountVectorizer(max_df=0.99, max_features=500,\n",
        "                                 min_df=0.01, stop_words='english',\n",
        "                                 tokenizer=tokenization_and_stemming, ngram_range=(1,1))\n",
        "\n",
        "tfidf_matrix_lda = tfidf_model_lda.fit_transform(data) #fit the vectorizer to synopses\n",
        "\n",
        "print (\"In total, there are \" + str(tfidf_matrix_lda.shape[0]) + \\\n",
        "      \" reviews and \" + str(tfidf_matrix_lda.shape[1]) + \" terms.\")"
      ],
      "execution_count": null,
      "outputs": [
        {
          "output_type": "stream",
          "text": [
            "/usr/local/lib/python3.6/dist-packages/sklearn/feature_extraction/text.py:385: UserWarning: Your stop_words may be inconsistent with your preprocessing. Tokenizing the stop words generated tokens ['afterward', 'alon', 'alreadi', 'alway', 'anoth', 'anyon', 'anyth', 'anywher', 'becam', 'becom', 'besid', 'cri', 'describ', 'els', 'elsewher', 'empti', 'everi', 'everyon', 'everyth', 'everywher', 'fifti', 'forti', 'henc', 'hereaft', 'herebi', 'howev', 'hundr', 'inde', 'mani', 'meanwhil', 'moreov', 'nobodi', 'noon', 'noth', 'nowher', 'otherwis', 'perhap', 'pleas', 'sever', 'sinc', 'sincer', 'sixti', 'someon', 'someth', 'sometim', 'somewher', 'thenc', 'thereaft', 'therebi', 'therefor', 'togeth', 'twelv', 'twenti', 'whatev', 'whenc', 'whenev', 'wherea', 'whereaft', 'wherebi', 'wherev'] not in stop_words.\n",
            "  'stop_words.' % sorted(inconsistent))\n"
          ],
          "name": "stderr"
        },
        {
          "output_type": "stream",
          "text": [
            "In total, there are 1000 reviews and 245 terms.\n"
          ],
          "name": "stdout"
        }
      ]
    },
    {
      "cell_type": "code",
      "metadata": {
        "id": "9PU80SW391II",
        "colab": {
          "base_uri": "https://localhost:8080/",
          "height": 153
        },
        "outputId": "5ff27b39-288a-492e-b4e2-0f8b0f94ab57"
      },
      "source": [
        "# document topic matrix for tfidf_matrix_lda\n",
        "lda_output = lda.fit_transform(tfidf_matrix_lda)\n",
        "print(lda_output.shape)\n",
        "print(lda_output)"
      ],
      "execution_count": null,
      "outputs": [
        {
          "output_type": "stream",
          "text": [
            "(1000, 5)\n",
            "[[0.48740415 0.02526923 0.43669621 0.02511219 0.02551822]\n",
            " [0.0528759  0.05028864 0.79244491 0.05073923 0.05365133]\n",
            " [0.2        0.2        0.2        0.2        0.2       ]\n",
            " ...\n",
            " [0.10022029 0.10000334 0.10000968 0.59952223 0.10024446]\n",
            " [0.79756622 0.05019916 0.05101547 0.05043761 0.05078155]\n",
            " [0.03371813 0.86527468 0.03387609 0.03333822 0.03379288]]\n"
          ],
          "name": "stdout"
        }
      ]
    },
    {
      "cell_type": "code",
      "metadata": {
        "scrolled": true,
        "id": "hCJs3lBz90vY",
        "colab": {
          "base_uri": "https://localhost:8080/",
          "height": 204
        },
        "outputId": "ac9125b9-43a4-4a3f-c2c3-7d0ce277c1cf"
      },
      "source": [
        "# topics and words matrix\n",
        "topic_word = lda.components_\n",
        "print(topic_word.shape)\n",
        "print(topic_word)"
      ],
      "execution_count": null,
      "outputs": [
        {
          "output_type": "stream",
          "text": [
            "(5, 245)\n",
            "[[32.32432625 97.75142467  0.2245553  ...  9.62927722 28.69973525\n",
            "   7.7793401 ]\n",
            " [ 3.99248665 36.48319404  0.21246842 ...  0.20789636  9.28294405\n",
            "   0.5146028 ]\n",
            " [ 2.74091365 15.95737619  2.18968878 ...  7.59944756  9.20684266\n",
            "   7.27012677]\n",
            " [ 0.20427835  0.75010728  0.20529895 ...  0.21760173  0.59696094\n",
            "   0.20398933]\n",
            " [ 8.89547473 81.56675156 13.54719106 ...  0.24947214 23.31670178\n",
            "  39.76098737]]\n"
          ],
          "name": "stdout"
        }
      ]
    },
    {
      "cell_type": "code",
      "metadata": {
        "id": "xCEVfJS5AEgx",
        "colab": {
          "base_uri": "https://localhost:8080/",
          "height": 359
        },
        "outputId": "45c98622-2d49-4523-ae95-e5f5d6e01c75"
      },
      "source": [
        "# column names\n",
        "topic_names = [\"Topic\" + str(i) for i in range(lda.n_components)]\n",
        "\n",
        "# index names\n",
        "doc_names = [\"Doc\" + str(i) for i in range(len(data))]\n",
        "\n",
        "df_document_topic = pd.DataFrame(np.round(lda_output, 2), columns=topic_names, index=doc_names)\n",
        "\n",
        "# get dominant topic for each document\n",
        "topic = np.argmax(df_document_topic.values, axis=1)\n",
        "df_document_topic['topic'] = topic\n",
        "\n",
        "df_document_topic.head(10)"
      ],
      "execution_count": null,
      "outputs": [
        {
          "output_type": "execute_result",
          "data": {
            "text/html": [
              "<div>\n",
              "<style scoped>\n",
              "    .dataframe tbody tr th:only-of-type {\n",
              "        vertical-align: middle;\n",
              "    }\n",
              "\n",
              "    .dataframe tbody tr th {\n",
              "        vertical-align: top;\n",
              "    }\n",
              "\n",
              "    .dataframe thead th {\n",
              "        text-align: right;\n",
              "    }\n",
              "</style>\n",
              "<table border=\"1\" class=\"dataframe\">\n",
              "  <thead>\n",
              "    <tr style=\"text-align: right;\">\n",
              "      <th></th>\n",
              "      <th>Topic0</th>\n",
              "      <th>Topic1</th>\n",
              "      <th>Topic2</th>\n",
              "      <th>Topic3</th>\n",
              "      <th>Topic4</th>\n",
              "      <th>topic</th>\n",
              "    </tr>\n",
              "  </thead>\n",
              "  <tbody>\n",
              "    <tr>\n",
              "      <th>Doc0</th>\n",
              "      <td>0.49</td>\n",
              "      <td>0.03</td>\n",
              "      <td>0.44</td>\n",
              "      <td>0.03</td>\n",
              "      <td>0.03</td>\n",
              "      <td>0</td>\n",
              "    </tr>\n",
              "    <tr>\n",
              "      <th>Doc1</th>\n",
              "      <td>0.05</td>\n",
              "      <td>0.05</td>\n",
              "      <td>0.79</td>\n",
              "      <td>0.05</td>\n",
              "      <td>0.05</td>\n",
              "      <td>2</td>\n",
              "    </tr>\n",
              "    <tr>\n",
              "      <th>Doc2</th>\n",
              "      <td>0.20</td>\n",
              "      <td>0.20</td>\n",
              "      <td>0.20</td>\n",
              "      <td>0.20</td>\n",
              "      <td>0.20</td>\n",
              "      <td>0</td>\n",
              "    </tr>\n",
              "    <tr>\n",
              "      <th>Doc3</th>\n",
              "      <td>0.03</td>\n",
              "      <td>0.24</td>\n",
              "      <td>0.03</td>\n",
              "      <td>0.03</td>\n",
              "      <td>0.67</td>\n",
              "      <td>4</td>\n",
              "    </tr>\n",
              "    <tr>\n",
              "      <th>Doc4</th>\n",
              "      <td>0.28</td>\n",
              "      <td>0.01</td>\n",
              "      <td>0.17</td>\n",
              "      <td>0.01</td>\n",
              "      <td>0.53</td>\n",
              "      <td>4</td>\n",
              "    </tr>\n",
              "    <tr>\n",
              "      <th>Doc5</th>\n",
              "      <td>0.04</td>\n",
              "      <td>0.04</td>\n",
              "      <td>0.84</td>\n",
              "      <td>0.04</td>\n",
              "      <td>0.04</td>\n",
              "      <td>2</td>\n",
              "    </tr>\n",
              "    <tr>\n",
              "      <th>Doc6</th>\n",
              "      <td>0.03</td>\n",
              "      <td>0.03</td>\n",
              "      <td>0.49</td>\n",
              "      <td>0.42</td>\n",
              "      <td>0.03</td>\n",
              "      <td>2</td>\n",
              "    </tr>\n",
              "    <tr>\n",
              "      <th>Doc7</th>\n",
              "      <td>0.03</td>\n",
              "      <td>0.03</td>\n",
              "      <td>0.03</td>\n",
              "      <td>0.03</td>\n",
              "      <td>0.88</td>\n",
              "      <td>4</td>\n",
              "    </tr>\n",
              "    <tr>\n",
              "      <th>Doc8</th>\n",
              "      <td>0.18</td>\n",
              "      <td>0.01</td>\n",
              "      <td>0.27</td>\n",
              "      <td>0.08</td>\n",
              "      <td>0.45</td>\n",
              "      <td>4</td>\n",
              "    </tr>\n",
              "    <tr>\n",
              "      <th>Doc9</th>\n",
              "      <td>0.02</td>\n",
              "      <td>0.02</td>\n",
              "      <td>0.02</td>\n",
              "      <td>0.02</td>\n",
              "      <td>0.92</td>\n",
              "      <td>4</td>\n",
              "    </tr>\n",
              "  </tbody>\n",
              "</table>\n",
              "</div>"
            ],
            "text/plain": [
              "      Topic0  Topic1  Topic2  Topic3  Topic4  topic\n",
              "Doc0    0.49    0.03    0.44    0.03    0.03      0\n",
              "Doc1    0.05    0.05    0.79    0.05    0.05      2\n",
              "Doc2    0.20    0.20    0.20    0.20    0.20      0\n",
              "Doc3    0.03    0.24    0.03    0.03    0.67      4\n",
              "Doc4    0.28    0.01    0.17    0.01    0.53      4\n",
              "Doc5    0.04    0.04    0.84    0.04    0.04      2\n",
              "Doc6    0.03    0.03    0.49    0.42    0.03      2\n",
              "Doc7    0.03    0.03    0.03    0.03    0.88      4\n",
              "Doc8    0.18    0.01    0.27    0.08    0.45      4\n",
              "Doc9    0.02    0.02    0.02    0.02    0.92      4"
            ]
          },
          "metadata": {
            "tags": []
          },
          "execution_count": 27
        }
      ]
    },
    {
      "cell_type": "code",
      "metadata": {
        "id": "InPLDW7kBSOc",
        "colab": {
          "base_uri": "https://localhost:8080/",
          "height": 204
        },
        "outputId": "2335393c-c943-453e-d7a3-315f9ff87853"
      },
      "source": [
        "df_document_topic['topic'].value_counts().to_frame()"
      ],
      "execution_count": null,
      "outputs": [
        {
          "output_type": "execute_result",
          "data": {
            "text/html": [
              "<div>\n",
              "<style scoped>\n",
              "    .dataframe tbody tr th:only-of-type {\n",
              "        vertical-align: middle;\n",
              "    }\n",
              "\n",
              "    .dataframe tbody tr th {\n",
              "        vertical-align: top;\n",
              "    }\n",
              "\n",
              "    .dataframe thead th {\n",
              "        text-align: right;\n",
              "    }\n",
              "</style>\n",
              "<table border=\"1\" class=\"dataframe\">\n",
              "  <thead>\n",
              "    <tr style=\"text-align: right;\">\n",
              "      <th></th>\n",
              "      <th>topic</th>\n",
              "    </tr>\n",
              "  </thead>\n",
              "  <tbody>\n",
              "    <tr>\n",
              "      <th>0</th>\n",
              "      <td>275</td>\n",
              "    </tr>\n",
              "    <tr>\n",
              "      <th>4</th>\n",
              "      <td>252</td>\n",
              "    </tr>\n",
              "    <tr>\n",
              "      <th>2</th>\n",
              "      <td>228</td>\n",
              "    </tr>\n",
              "    <tr>\n",
              "      <th>3</th>\n",
              "      <td>171</td>\n",
              "    </tr>\n",
              "    <tr>\n",
              "      <th>1</th>\n",
              "      <td>74</td>\n",
              "    </tr>\n",
              "  </tbody>\n",
              "</table>\n",
              "</div>"
            ],
            "text/plain": [
              "   topic\n",
              "0    275\n",
              "4    252\n",
              "2    228\n",
              "3    171\n",
              "1     74"
            ]
          },
          "metadata": {
            "tags": []
          },
          "execution_count": 28
        }
      ]
    },
    {
      "cell_type": "code",
      "metadata": {
        "id": "_yLe_RFHCz0a",
        "colab": {
          "base_uri": "https://localhost:8080/",
          "height": 423
        },
        "outputId": "519c53b4-8251-46ba-ce16-4d1f3d91e633"
      },
      "source": [
        "# topic word matrix\n",
        "print(lda.components_)\n",
        "# topic-word matrix\n",
        "df_topic_words = pd.DataFrame(lda.components_)\n",
        "\n",
        "# column and index\n",
        "df_topic_words.columns = tfidf_model_lda.get_feature_names()\n",
        "df_topic_words.index = topic_names\n",
        "\n",
        "df_topic_words.head()"
      ],
      "execution_count": null,
      "outputs": [
        {
          "output_type": "stream",
          "text": [
            "[[32.32432625 97.75142467  0.2245553  ...  9.62927722 28.69973525\n",
            "   7.7793401 ]\n",
            " [ 3.99248665 36.48319404  0.21246842 ...  0.20789636  9.28294405\n",
            "   0.5146028 ]\n",
            " [ 2.74091365 15.95737619  2.18968878 ...  7.59944756  9.20684266\n",
            "   7.27012677]\n",
            " [ 0.20427835  0.75010728  0.20529895 ...  0.21760173  0.59696094\n",
            "   0.20398933]\n",
            " [ 8.89547473 81.56675156 13.54719106 ...  0.24947214 23.31670178\n",
            "  39.76098737]]\n"
          ],
          "name": "stdout"
        },
        {
          "output_type": "execute_result",
          "data": {
            "text/html": [
              "<div>\n",
              "<style scoped>\n",
              "    .dataframe tbody tr th:only-of-type {\n",
              "        vertical-align: middle;\n",
              "    }\n",
              "\n",
              "    .dataframe tbody tr th {\n",
              "        vertical-align: top;\n",
              "    }\n",
              "\n",
              "    .dataframe thead th {\n",
              "        text-align: right;\n",
              "    }\n",
              "</style>\n",
              "<table border=\"1\" class=\"dataframe\">\n",
              "  <thead>\n",
              "    <tr style=\"text-align: right;\">\n",
              "      <th></th>\n",
              "      <th>'m</th>\n",
              "      <th>'s</th>\n",
              "      <th>abl</th>\n",
              "      <th>absolut</th>\n",
              "      <th>accur</th>\n",
              "      <th>actual</th>\n",
              "      <th>adjust</th>\n",
              "      <th>alarm</th>\n",
              "      <th>alreadi</th>\n",
              "      <th>alway</th>\n",
              "      <th>amaz</th>\n",
              "      <th>amazon</th>\n",
              "      <th>anoth</th>\n",
              "      <th>arm</th>\n",
              "      <th>arriv</th>\n",
              "      <th>automat</th>\n",
              "      <th>awesom</th>\n",
              "      <th>bad</th>\n",
              "      <th>band</th>\n",
              "      <th>batteri</th>\n",
              "      <th>beauti</th>\n",
              "      <th>best</th>\n",
              "      <th>better</th>\n",
              "      <th>big</th>\n",
              "      <th>bit</th>\n",
              "      <th>black</th>\n",
              "      <th>blue</th>\n",
              "      <th>bought</th>\n",
              "      <th>box</th>\n",
              "      <th>br</th>\n",
              "      <th>bracelet</th>\n",
              "      <th>brand</th>\n",
              "      <th>break</th>\n",
              "      <th>bright</th>\n",
              "      <th>broke</th>\n",
              "      <th>button</th>\n",
              "      <th>buy</th>\n",
              "      <th>ca</th>\n",
              "      <th>came</th>\n",
              "      <th>case</th>\n",
              "      <th>...</th>\n",
              "      <th>star</th>\n",
              "      <th>start</th>\n",
              "      <th>stop</th>\n",
              "      <th>strap</th>\n",
              "      <th>sturdi</th>\n",
              "      <th>style</th>\n",
              "      <th>stylish</th>\n",
              "      <th>super</th>\n",
              "      <th>sure</th>\n",
              "      <th>surpris</th>\n",
              "      <th>swim</th>\n",
              "      <th>tell</th>\n",
              "      <th>thank</th>\n",
              "      <th>thing</th>\n",
              "      <th>think</th>\n",
              "      <th>thought</th>\n",
              "      <th>time</th>\n",
              "      <th>timex</th>\n",
              "      <th>tini</th>\n",
              "      <th>tri</th>\n",
              "      <th>turn</th>\n",
              "      <th>use</th>\n",
              "      <th>valu</th>\n",
              "      <th>ve</th>\n",
              "      <th>want</th>\n",
              "      <th>watch</th>\n",
              "      <th>water</th>\n",
              "      <th>way</th>\n",
              "      <th>wear</th>\n",
              "      <th>week</th>\n",
              "      <th>weight</th>\n",
              "      <th>went</th>\n",
              "      <th>wife</th>\n",
              "      <th>wind</th>\n",
              "      <th>wish</th>\n",
              "      <th>work</th>\n",
              "      <th>worn</th>\n",
              "      <th>worth</th>\n",
              "      <th>wrist</th>\n",
              "      <th>year</th>\n",
              "    </tr>\n",
              "  </thead>\n",
              "  <tbody>\n",
              "    <tr>\n",
              "      <th>Topic0</th>\n",
              "      <td>32.324326</td>\n",
              "      <td>97.751425</td>\n",
              "      <td>0.224555</td>\n",
              "      <td>0.317211</td>\n",
              "      <td>0.279861</td>\n",
              "      <td>15.292538</td>\n",
              "      <td>6.052004</td>\n",
              "      <td>0.351104</td>\n",
              "      <td>10.680527</td>\n",
              "      <td>9.620568</td>\n",
              "      <td>4.884874</td>\n",
              "      <td>6.942333</td>\n",
              "      <td>27.477915</td>\n",
              "      <td>0.211805</td>\n",
              "      <td>1.305001</td>\n",
              "      <td>16.613406</td>\n",
              "      <td>23.609737</td>\n",
              "      <td>7.708793</td>\n",
              "      <td>56.073726</td>\n",
              "      <td>0.210877</td>\n",
              "      <td>4.504434</td>\n",
              "      <td>0.214033</td>\n",
              "      <td>12.449002</td>\n",
              "      <td>15.584053</td>\n",
              "      <td>0.237906</td>\n",
              "      <td>20.119157</td>\n",
              "      <td>23.878932</td>\n",
              "      <td>0.686393</td>\n",
              "      <td>0.206292</td>\n",
              "      <td>1.233762</td>\n",
              "      <td>7.842242</td>\n",
              "      <td>9.484143</td>\n",
              "      <td>10.192459</td>\n",
              "      <td>2.290973</td>\n",
              "      <td>15.904726</td>\n",
              "      <td>0.207537</td>\n",
              "      <td>32.349249</td>\n",
              "      <td>25.792565</td>\n",
              "      <td>25.639343</td>\n",
              "      <td>11.711179</td>\n",
              "      <td>...</td>\n",
              "      <td>30.194654</td>\n",
              "      <td>14.328362</td>\n",
              "      <td>5.119953</td>\n",
              "      <td>43.118472</td>\n",
              "      <td>5.590132</td>\n",
              "      <td>31.036888</td>\n",
              "      <td>13.521421</td>\n",
              "      <td>0.207139</td>\n",
              "      <td>0.269219</td>\n",
              "      <td>5.831222</td>\n",
              "      <td>8.050928</td>\n",
              "      <td>19.142972</td>\n",
              "      <td>0.208289</td>\n",
              "      <td>14.391455</td>\n",
              "      <td>27.166721</td>\n",
              "      <td>9.582305</td>\n",
              "      <td>74.243737</td>\n",
              "      <td>2.775872</td>\n",
              "      <td>0.211527</td>\n",
              "      <td>0.231224</td>\n",
              "      <td>0.636316</td>\n",
              "      <td>5.827377</td>\n",
              "      <td>0.220000</td>\n",
              "      <td>15.278773</td>\n",
              "      <td>24.418348</td>\n",
              "      <td>275.863243</td>\n",
              "      <td>0.207494</td>\n",
              "      <td>8.014139</td>\n",
              "      <td>44.958781</td>\n",
              "      <td>8.595245</td>\n",
              "      <td>8.364675</td>\n",
              "      <td>4.755957</td>\n",
              "      <td>1.439871</td>\n",
              "      <td>9.282098</td>\n",
              "      <td>1.198340</td>\n",
              "      <td>17.470763</td>\n",
              "      <td>5.032839</td>\n",
              "      <td>9.629277</td>\n",
              "      <td>28.699735</td>\n",
              "      <td>7.779340</td>\n",
              "    </tr>\n",
              "    <tr>\n",
              "      <th>Topic1</th>\n",
              "      <td>3.992487</td>\n",
              "      <td>36.483194</td>\n",
              "      <td>0.212468</td>\n",
              "      <td>0.203410</td>\n",
              "      <td>0.232586</td>\n",
              "      <td>0.544351</td>\n",
              "      <td>0.209760</td>\n",
              "      <td>13.853164</td>\n",
              "      <td>0.206166</td>\n",
              "      <td>0.204354</td>\n",
              "      <td>0.206888</td>\n",
              "      <td>0.207300</td>\n",
              "      <td>0.202484</td>\n",
              "      <td>4.315633</td>\n",
              "      <td>0.222201</td>\n",
              "      <td>0.205641</td>\n",
              "      <td>0.210796</td>\n",
              "      <td>1.848225</td>\n",
              "      <td>0.213919</td>\n",
              "      <td>0.227518</td>\n",
              "      <td>2.474201</td>\n",
              "      <td>0.234746</td>\n",
              "      <td>0.205340</td>\n",
              "      <td>1.081751</td>\n",
              "      <td>21.195631</td>\n",
              "      <td>0.209772</td>\n",
              "      <td>0.212232</td>\n",
              "      <td>2.616580</td>\n",
              "      <td>0.204531</td>\n",
              "      <td>0.221250</td>\n",
              "      <td>0.224030</td>\n",
              "      <td>2.926254</td>\n",
              "      <td>0.591614</td>\n",
              "      <td>3.811873</td>\n",
              "      <td>0.202516</td>\n",
              "      <td>5.086924</td>\n",
              "      <td>0.206362</td>\n",
              "      <td>0.205346</td>\n",
              "      <td>5.301271</td>\n",
              "      <td>0.209359</td>\n",
              "      <td>...</td>\n",
              "      <td>0.298064</td>\n",
              "      <td>0.202643</td>\n",
              "      <td>0.204030</td>\n",
              "      <td>0.618506</td>\n",
              "      <td>1.520067</td>\n",
              "      <td>0.204302</td>\n",
              "      <td>7.051602</td>\n",
              "      <td>14.399676</td>\n",
              "      <td>0.211005</td>\n",
              "      <td>0.202865</td>\n",
              "      <td>0.211303</td>\n",
              "      <td>0.237969</td>\n",
              "      <td>0.226726</td>\n",
              "      <td>0.207439</td>\n",
              "      <td>0.206306</td>\n",
              "      <td>0.227733</td>\n",
              "      <td>0.226114</td>\n",
              "      <td>12.363548</td>\n",
              "      <td>5.660978</td>\n",
              "      <td>0.202218</td>\n",
              "      <td>13.274261</td>\n",
              "      <td>0.228570</td>\n",
              "      <td>19.499654</td>\n",
              "      <td>0.203566</td>\n",
              "      <td>18.290121</td>\n",
              "      <td>32.549319</td>\n",
              "      <td>0.206411</td>\n",
              "      <td>0.206972</td>\n",
              "      <td>11.237262</td>\n",
              "      <td>0.204846</td>\n",
              "      <td>0.735768</td>\n",
              "      <td>0.205673</td>\n",
              "      <td>0.206620</td>\n",
              "      <td>0.205267</td>\n",
              "      <td>4.094092</td>\n",
              "      <td>3.706608</td>\n",
              "      <td>1.291870</td>\n",
              "      <td>0.207896</td>\n",
              "      <td>9.282944</td>\n",
              "      <td>0.514603</td>\n",
              "    </tr>\n",
              "    <tr>\n",
              "      <th>Topic2</th>\n",
              "      <td>2.740914</td>\n",
              "      <td>15.957376</td>\n",
              "      <td>2.189689</td>\n",
              "      <td>16.475291</td>\n",
              "      <td>0.202956</td>\n",
              "      <td>0.204740</td>\n",
              "      <td>0.219569</td>\n",
              "      <td>0.332902</td>\n",
              "      <td>0.206533</td>\n",
              "      <td>0.203739</td>\n",
              "      <td>0.498946</td>\n",
              "      <td>2.262916</td>\n",
              "      <td>0.206008</td>\n",
              "      <td>1.456515</td>\n",
              "      <td>6.561483</td>\n",
              "      <td>0.206696</td>\n",
              "      <td>0.219889</td>\n",
              "      <td>2.028719</td>\n",
              "      <td>5.973657</td>\n",
              "      <td>9.756063</td>\n",
              "      <td>47.792289</td>\n",
              "      <td>0.254480</td>\n",
              "      <td>11.762857</td>\n",
              "      <td>43.486521</td>\n",
              "      <td>0.207932</td>\n",
              "      <td>2.804402</td>\n",
              "      <td>5.715263</td>\n",
              "      <td>31.181492</td>\n",
              "      <td>12.223820</td>\n",
              "      <td>0.206750</td>\n",
              "      <td>4.908446</td>\n",
              "      <td>0.210683</td>\n",
              "      <td>0.562102</td>\n",
              "      <td>0.211119</td>\n",
              "      <td>0.212456</td>\n",
              "      <td>3.003714</td>\n",
              "      <td>7.242133</td>\n",
              "      <td>0.207894</td>\n",
              "      <td>0.258307</td>\n",
              "      <td>4.822666</td>\n",
              "      <td>...</td>\n",
              "      <td>0.204624</td>\n",
              "      <td>0.284391</td>\n",
              "      <td>0.218447</td>\n",
              "      <td>0.220558</td>\n",
              "      <td>0.540619</td>\n",
              "      <td>0.231267</td>\n",
              "      <td>0.207490</td>\n",
              "      <td>0.203982</td>\n",
              "      <td>20.607587</td>\n",
              "      <td>4.653125</td>\n",
              "      <td>0.206528</td>\n",
              "      <td>3.556922</td>\n",
              "      <td>0.209039</td>\n",
              "      <td>0.214196</td>\n",
              "      <td>0.962451</td>\n",
              "      <td>0.216073</td>\n",
              "      <td>10.689437</td>\n",
              "      <td>0.201918</td>\n",
              "      <td>0.296657</td>\n",
              "      <td>0.237915</td>\n",
              "      <td>0.202396</td>\n",
              "      <td>14.812158</td>\n",
              "      <td>0.205442</td>\n",
              "      <td>0.552479</td>\n",
              "      <td>3.193146</td>\n",
              "      <td>222.869960</td>\n",
              "      <td>0.202896</td>\n",
              "      <td>5.456022</td>\n",
              "      <td>0.581419</td>\n",
              "      <td>0.210307</td>\n",
              "      <td>2.804650</td>\n",
              "      <td>0.450849</td>\n",
              "      <td>18.523348</td>\n",
              "      <td>1.617869</td>\n",
              "      <td>5.340077</td>\n",
              "      <td>2.218744</td>\n",
              "      <td>3.648944</td>\n",
              "      <td>7.599448</td>\n",
              "      <td>9.206843</td>\n",
              "      <td>7.270127</td>\n",
              "    </tr>\n",
              "    <tr>\n",
              "      <th>Topic3</th>\n",
              "      <td>0.204278</td>\n",
              "      <td>0.750107</td>\n",
              "      <td>0.205299</td>\n",
              "      <td>0.215775</td>\n",
              "      <td>0.205227</td>\n",
              "      <td>0.206308</td>\n",
              "      <td>0.204713</td>\n",
              "      <td>0.202541</td>\n",
              "      <td>0.204934</td>\n",
              "      <td>0.300667</td>\n",
              "      <td>14.429681</td>\n",
              "      <td>0.210949</td>\n",
              "      <td>0.201831</td>\n",
              "      <td>0.203738</td>\n",
              "      <td>0.215418</td>\n",
              "      <td>0.261036</td>\n",
              "      <td>0.213279</td>\n",
              "      <td>0.204920</td>\n",
              "      <td>0.204320</td>\n",
              "      <td>0.891043</td>\n",
              "      <td>13.534833</td>\n",
              "      <td>16.500380</td>\n",
              "      <td>0.205345</td>\n",
              "      <td>0.214266</td>\n",
              "      <td>0.204501</td>\n",
              "      <td>0.205072</td>\n",
              "      <td>0.201963</td>\n",
              "      <td>0.885432</td>\n",
              "      <td>0.209573</td>\n",
              "      <td>0.203207</td>\n",
              "      <td>0.203174</td>\n",
              "      <td>0.214906</td>\n",
              "      <td>0.213352</td>\n",
              "      <td>0.204006</td>\n",
              "      <td>0.202287</td>\n",
              "      <td>0.203212</td>\n",
              "      <td>0.216884</td>\n",
              "      <td>0.202425</td>\n",
              "      <td>0.300939</td>\n",
              "      <td>0.202910</td>\n",
              "      <td>...</td>\n",
              "      <td>0.220429</td>\n",
              "      <td>0.203977</td>\n",
              "      <td>0.204461</td>\n",
              "      <td>0.203605</td>\n",
              "      <td>3.612459</td>\n",
              "      <td>0.202653</td>\n",
              "      <td>0.221588</td>\n",
              "      <td>0.211554</td>\n",
              "      <td>0.211328</td>\n",
              "      <td>1.153479</td>\n",
              "      <td>2.653922</td>\n",
              "      <td>0.202861</td>\n",
              "      <td>18.017709</td>\n",
              "      <td>0.201834</td>\n",
              "      <td>0.204040</td>\n",
              "      <td>0.201927</td>\n",
              "      <td>4.846579</td>\n",
              "      <td>0.205186</td>\n",
              "      <td>0.201189</td>\n",
              "      <td>0.202122</td>\n",
              "      <td>0.201627</td>\n",
              "      <td>0.208858</td>\n",
              "      <td>0.314083</td>\n",
              "      <td>0.202405</td>\n",
              "      <td>0.223532</td>\n",
              "      <td>66.882497</td>\n",
              "      <td>0.266246</td>\n",
              "      <td>0.205113</td>\n",
              "      <td>0.275634</td>\n",
              "      <td>0.270318</td>\n",
              "      <td>0.206764</td>\n",
              "      <td>0.201759</td>\n",
              "      <td>0.206262</td>\n",
              "      <td>0.202772</td>\n",
              "      <td>0.202849</td>\n",
              "      <td>0.212022</td>\n",
              "      <td>0.214612</td>\n",
              "      <td>0.217602</td>\n",
              "      <td>0.596961</td>\n",
              "      <td>0.203989</td>\n",
              "    </tr>\n",
              "    <tr>\n",
              "      <th>Topic4</th>\n",
              "      <td>8.895475</td>\n",
              "      <td>81.566752</td>\n",
              "      <td>13.547191</td>\n",
              "      <td>0.224816</td>\n",
              "      <td>12.127747</td>\n",
              "      <td>0.215366</td>\n",
              "      <td>17.834638</td>\n",
              "      <td>2.813598</td>\n",
              "      <td>2.483716</td>\n",
              "      <td>3.428374</td>\n",
              "      <td>0.488359</td>\n",
              "      <td>17.385528</td>\n",
              "      <td>1.228297</td>\n",
              "      <td>10.120044</td>\n",
              "      <td>13.852916</td>\n",
              "      <td>0.269493</td>\n",
              "      <td>0.203078</td>\n",
              "      <td>13.678226</td>\n",
              "      <td>123.613365</td>\n",
              "      <td>36.437972</td>\n",
              "      <td>11.239350</td>\n",
              "      <td>0.230681</td>\n",
              "      <td>5.575938</td>\n",
              "      <td>1.591917</td>\n",
              "      <td>2.652502</td>\n",
              "      <td>2.962177</td>\n",
              "      <td>0.278755</td>\n",
              "      <td>13.825692</td>\n",
              "      <td>2.824626</td>\n",
              "      <td>246.028661</td>\n",
              "      <td>1.237068</td>\n",
              "      <td>0.465372</td>\n",
              "      <td>3.720505</td>\n",
              "      <td>4.391077</td>\n",
              "      <td>9.539654</td>\n",
              "      <td>8.699370</td>\n",
              "      <td>20.873669</td>\n",
              "      <td>0.205972</td>\n",
              "      <td>1.948605</td>\n",
              "      <td>14.404111</td>\n",
              "      <td>...</td>\n",
              "      <td>0.649549</td>\n",
              "      <td>0.613359</td>\n",
              "      <td>22.655664</td>\n",
              "      <td>4.471706</td>\n",
              "      <td>0.670584</td>\n",
              "      <td>0.205790</td>\n",
              "      <td>0.403344</td>\n",
              "      <td>0.202544</td>\n",
              "      <td>0.227075</td>\n",
              "      <td>1.081354</td>\n",
              "      <td>3.023376</td>\n",
              "      <td>0.451922</td>\n",
              "      <td>4.234025</td>\n",
              "      <td>9.963159</td>\n",
              "      <td>8.928239</td>\n",
              "      <td>6.450533</td>\n",
              "      <td>100.072589</td>\n",
              "      <td>6.337408</td>\n",
              "      <td>7.565858</td>\n",
              "      <td>21.100233</td>\n",
              "      <td>0.214859</td>\n",
              "      <td>61.927282</td>\n",
              "      <td>1.853004</td>\n",
              "      <td>26.779125</td>\n",
              "      <td>3.288371</td>\n",
              "      <td>362.240742</td>\n",
              "      <td>31.799725</td>\n",
              "      <td>3.529992</td>\n",
              "      <td>52.806949</td>\n",
              "      <td>40.204460</td>\n",
              "      <td>3.048626</td>\n",
              "      <td>8.143828</td>\n",
              "      <td>0.210740</td>\n",
              "      <td>2.997214</td>\n",
              "      <td>1.278857</td>\n",
              "      <td>108.130326</td>\n",
              "      <td>3.200159</td>\n",
              "      <td>0.249472</td>\n",
              "      <td>23.316702</td>\n",
              "      <td>39.760987</td>\n",
              "    </tr>\n",
              "  </tbody>\n",
              "</table>\n",
              "<p>5 rows × 245 columns</p>\n",
              "</div>"
            ],
            "text/plain": [
              "               'm         's        abl  ...     worth      wrist       year\n",
              "Topic0  32.324326  97.751425   0.224555  ...  9.629277  28.699735   7.779340\n",
              "Topic1   3.992487  36.483194   0.212468  ...  0.207896   9.282944   0.514603\n",
              "Topic2   2.740914  15.957376   2.189689  ...  7.599448   9.206843   7.270127\n",
              "Topic3   0.204278   0.750107   0.205299  ...  0.217602   0.596961   0.203989\n",
              "Topic4   8.895475  81.566752  13.547191  ...  0.249472  23.316702  39.760987\n",
              "\n",
              "[5 rows x 245 columns]"
            ]
          },
          "metadata": {
            "tags": []
          },
          "execution_count": 29
        }
      ]
    },
    {
      "cell_type": "code",
      "metadata": {
        "id": "gbU9U8V-DFDX",
        "colab": {
          "base_uri": "https://localhost:8080/",
          "height": 204
        },
        "outputId": "45bcdd76-6fce-481c-eea6-69edd6f5ad97"
      },
      "source": [
        "# print top n keywords for each topic\n",
        "def print_topic_words(tfidf_model, lda_model, n_words):\n",
        "    words = np.array(tfidf_model.get_feature_names())\n",
        "    topic_words = []\n",
        "    # for each topic, we have words weight\n",
        "    for topic_words_weights in lda_model.components_:\n",
        "        top_words = topic_words_weights.argsort()[::-1][:n_words]\n",
        "        topic_words.append(words.take(top_words))\n",
        "    return topic_words\n",
        "\n",
        "topic_keywords = print_topic_words(tfidf_model=tfidf_model_lda, lda_model=lda, n_words=15)        \n",
        "\n",
        "df_topic_words = pd.DataFrame(topic_keywords)\n",
        "df_topic_words.columns = ['Word '+str(i) for i in range(df_topic_words.shape[1])]\n",
        "df_topic_words.index = ['Topic '+str(i) for i in range(df_topic_words.shape[0])]\n",
        "df_topic_words"
      ],
      "execution_count": null,
      "outputs": [
        {
          "output_type": "execute_result",
          "data": {
            "text/html": [
              "<div>\n",
              "<style scoped>\n",
              "    .dataframe tbody tr th:only-of-type {\n",
              "        vertical-align: middle;\n",
              "    }\n",
              "\n",
              "    .dataframe tbody tr th {\n",
              "        vertical-align: top;\n",
              "    }\n",
              "\n",
              "    .dataframe thead th {\n",
              "        text-align: right;\n",
              "    }\n",
              "</style>\n",
              "<table border=\"1\" class=\"dataframe\">\n",
              "  <thead>\n",
              "    <tr style=\"text-align: right;\">\n",
              "      <th></th>\n",
              "      <th>Word 0</th>\n",
              "      <th>Word 1</th>\n",
              "      <th>Word 2</th>\n",
              "      <th>Word 3</th>\n",
              "      <th>Word 4</th>\n",
              "      <th>Word 5</th>\n",
              "      <th>Word 6</th>\n",
              "      <th>Word 7</th>\n",
              "      <th>Word 8</th>\n",
              "      <th>Word 9</th>\n",
              "      <th>Word 10</th>\n",
              "      <th>Word 11</th>\n",
              "      <th>Word 12</th>\n",
              "      <th>Word 13</th>\n",
              "      <th>Word 14</th>\n",
              "    </tr>\n",
              "  </thead>\n",
              "  <tbody>\n",
              "    <tr>\n",
              "      <th>Topic 0</th>\n",
              "      <td>watch</td>\n",
              "      <td>look</td>\n",
              "      <td>n't</td>\n",
              "      <td>like</td>\n",
              "      <td>'s</td>\n",
              "      <td>time</td>\n",
              "      <td>great</td>\n",
              "      <td>band</td>\n",
              "      <td>wear</td>\n",
              "      <td>strap</td>\n",
              "      <td>price</td>\n",
              "      <td>feel</td>\n",
              "      <td>cheap</td>\n",
              "      <td>buy</td>\n",
              "      <td>'m</td>\n",
              "    </tr>\n",
              "    <tr>\n",
              "      <th>Topic 1</th>\n",
              "      <td>easi</td>\n",
              "      <td>'s</td>\n",
              "      <td>read</td>\n",
              "      <td>watch</td>\n",
              "      <td>light</td>\n",
              "      <td>love</td>\n",
              "      <td>comfort</td>\n",
              "      <td>function</td>\n",
              "      <td>bit</td>\n",
              "      <td>happi</td>\n",
              "      <td>reason</td>\n",
              "      <td>valu</td>\n",
              "      <td>littl</td>\n",
              "      <td>want</td>\n",
              "      <td>purchas</td>\n",
              "    </tr>\n",
              "    <tr>\n",
              "      <th>Topic 2</th>\n",
              "      <td>watch</td>\n",
              "      <td>love</td>\n",
              "      <td>nice</td>\n",
              "      <td>look</td>\n",
              "      <td>beauti</td>\n",
              "      <td>big</td>\n",
              "      <td>color</td>\n",
              "      <td>face</td>\n",
              "      <td>bought</td>\n",
              "      <td>realli</td>\n",
              "      <td>dial</td>\n",
              "      <td>like</td>\n",
              "      <td>differ</td>\n",
              "      <td>husband</td>\n",
              "      <td>size</td>\n",
              "    </tr>\n",
              "    <tr>\n",
              "      <th>Topic 3</th>\n",
              "      <td>good</td>\n",
              "      <td>great</td>\n",
              "      <td>watch</td>\n",
              "      <td>product</td>\n",
              "      <td>excel</td>\n",
              "      <td>qualiti</td>\n",
              "      <td>expect</td>\n",
              "      <td>perfect</td>\n",
              "      <td>price</td>\n",
              "      <td>fast</td>\n",
              "      <td>thank</td>\n",
              "      <td>recommend</td>\n",
              "      <td>best</td>\n",
              "      <td>pleas</td>\n",
              "      <td>ship</td>\n",
              "    </tr>\n",
              "    <tr>\n",
              "      <th>Topic 4</th>\n",
              "      <td>watch</td>\n",
              "      <td>br</td>\n",
              "      <td>band</td>\n",
              "      <td>work</td>\n",
              "      <td>time</td>\n",
              "      <td>'s</td>\n",
              "      <td>use</td>\n",
              "      <td>day</td>\n",
              "      <td>wear</td>\n",
              "      <td>hand</td>\n",
              "      <td>n't</td>\n",
              "      <td>great</td>\n",
              "      <td>second</td>\n",
              "      <td>good</td>\n",
              "      <td>week</td>\n",
              "    </tr>\n",
              "  </tbody>\n",
              "</table>\n",
              "</div>"
            ],
            "text/plain": [
              "        Word 0 Word 1 Word 2   Word 3  ...    Word 11 Word 12  Word 13  Word 14\n",
              "Topic 0  watch   look    n't     like  ...       feel   cheap      buy       'm\n",
              "Topic 1   easi     's   read    watch  ...       valu   littl     want  purchas\n",
              "Topic 2  watch   love   nice     look  ...       like  differ  husband     size\n",
              "Topic 3   good  great  watch  product  ...  recommend    best    pleas     ship\n",
              "Topic 4  watch     br   band     work  ...      great  second     good     week\n",
              "\n",
              "[5 rows x 15 columns]"
            ]
          },
          "metadata": {
            "tags": []
          },
          "execution_count": 30
        }
      ]
    }
  ]
}